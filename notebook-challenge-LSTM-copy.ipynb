{
 "cells": [
  {
   "cell_type": "code",
   "execution_count": 28,
   "id": "5ccdb521",
   "metadata": {},
   "outputs": [],
   "source": [
    "import numpy as np\n",
    "import pandas as pd\n",
    "import matplotlib.pyplot as plt\n",
    "import seaborn as sns\n",
    "\n",
    "# === 1. Charger les données ===\n",
    "data = np.load(\"training_data.npz\", allow_pickle=True)\n",
    "X = np.array(data[\"data\"], dtype=np.float32)\n",
    "feature_labels = data[\"feature_labels\"]\n",
    "\n",
    "# Charger les labels\n",
    "y = pd.read_csv(\"training_labels.csv\")\n",
    "y = y.iloc[:, 0].values "
   ]
  },
  {
   "cell_type": "code",
   "execution_count": 29,
   "id": "3107cd64",
   "metadata": {},
   "outputs": [],
   "source": [
    "from sklearn.model_selection import train_test_split\n",
    "\n",
    "# Split the raw X and y (before any imputation or scaler)\n",
    "X_train, X_val, y_train, y_val = train_test_split(\n",
    "    X, y, test_size=0.2, random_state=42, stratify=y\n",
    ")\n"
   ]
  },
  {
   "cell_type": "code",
   "execution_count": 30,
   "id": "6c00c5e7",
   "metadata": {},
   "outputs": [
    {
     "data": {
      "text/plain": [
       "(42921, 12, 231)"
      ]
     },
     "execution_count": 30,
     "metadata": {},
     "output_type": "execute_result"
    }
   ],
   "source": [
    "import numpy as np\n",
    "from sklearn.preprocessing import StandardScaler\n",
    "\n",
    "def interpolate_or_fill(X, global_means):\n",
    "    n, t, f = X.shape\n",
    "    X_filled = np.empty_like(X)\n",
    "    for j in range(f):\n",
    "        for i in range(n):\n",
    "            series = X[i, :, j]\n",
    "            if np.isnan(series).all():\n",
    "                X_filled[i, :, j] = global_means[j]\n",
    "            else:\n",
    "                x = np.arange(t)\n",
    "                mask = ~np.isnan(series)\n",
    "                X_filled[i, :, j] = np.interp(x, x[mask], series[mask])\n",
    "    return X_filled\n",
    "\n",
    "# Compute global means from TRAIN only\n",
    "global_means = np.nanmean(X_train, axis=(0, 1))\n",
    "\n",
    "# Apply same method to all sets using train's global means\n",
    "X_train_filled = interpolate_or_fill(X_train, global_means)\n",
    "X_val_filled   = interpolate_or_fill(X_val, global_means)\n",
    "\n",
    "\n",
    "\n",
    "\n",
    "\n",
    "X_train_clip = X_train_filled.copy()\n",
    "X_val_clip   = X_val_filled.copy()\n",
    "\n",
    "n, t, f = X_train.shape\n",
    "for j in range(f):\n",
    "    mean = np.mean(X_train_clip[:, :, j])\n",
    "    std  = np.std(X_train_clip[:, :, j])\n",
    "    lower, upper = mean - 5 * std, mean + 5 * std\n",
    "    X_train_clip[:, :, j] = np.clip(X_train_clip[:, :, j], lower, upper)\n",
    "    X_val_clip[:, :, j]   = np.clip(X_val_clip[:, :, j], lower, upper)  # use same bounds\n",
    "\n",
    "from sklearn.preprocessing import StandardScaler\n",
    "\n",
    "scaler = StandardScaler()\n",
    "X_train_flat = X_train_clip.reshape(-1, f)\n",
    "scaler.fit(X_train_flat)\n",
    "\n",
    "# Apply\n",
    "X_train_scaled = scaler.transform(X_train_flat).reshape(X_train_clip.shape)\n",
    "X_val_scaled   = scaler.transform(X_val_clip.reshape(-1, f)).reshape(X_val_clip.shape)\n",
    "\n",
    "# Save scaler\n",
    "import joblib\n",
    "joblib.dump(scaler, 'scaler.pkl')\n",
    "\n",
    "\n",
    "def add_deltas(X_scaled):\n",
    "    X_deltas = X_scaled[:, 1:, :] - X_scaled[:, :-1, :]\n",
    "    zero_pad = np.zeros((X_scaled.shape[0], 1, X_scaled.shape[2]))\n",
    "    X_deltas = np.concatenate([zero_pad, X_deltas], axis=1)\n",
    "    return np.concatenate([X_scaled, X_deltas], axis=2)\n",
    "\n",
    "X_train_scaled = add_deltas(X_train_scaled)  # shape: (n, t, 2f)\n",
    "X_val_scaled   = add_deltas(X_val_scaled)\n",
    "\n",
    "\n",
    "\n",
    "X_train_mask = (~np.isnan(X_train)).astype(np.float32)\n",
    "\n",
    "\n",
    "X_train_ready = np.concatenate([X_train_scaled, X_train_mask], axis=2)  # shape: (n, t, 3f)\n",
    "\n",
    "\n",
    "X_train_ready.shape"
   ]
  },
  {
   "cell_type": "code",
   "execution_count": 31,
   "id": "7eec71a2",
   "metadata": {},
   "outputs": [
    {
     "data": {
      "text/plain": [
       "(10731, 12, 231)"
      ]
     },
     "execution_count": 31,
     "metadata": {},
     "output_type": "execute_result"
    }
   ],
   "source": [
    "import numpy as np\n",
    "\n",
    "def apply_pipeline_to_val(X_val_raw, global_means, scaler, clip_means, clip_stds):\n",
    "    \"\"\"\n",
    "    Applies interpolation, clipping, scaling, delta features, and masking to validation data.\n",
    "    \n",
    "    Parameters:\n",
    "        X_val_raw     : np.ndarray, shape (n, t, f)\n",
    "        global_means  : np.ndarray, shape (f,)\n",
    "        scaler        : fitted sklearn StandardScaler\n",
    "        clip_means    : np.ndarray, shape (f,), mean from train\n",
    "        clip_stds     : np.ndarray, shape (f,), std from train\n",
    "    \n",
    "    Returns:\n",
    "        X_val_ready   : np.ndarray, shape (n, t, 3f)\n",
    "    \"\"\"\n",
    "\n",
    "    # === Step 1: Interpolate ===\n",
    "    n, t, f = X_val_raw.shape\n",
    "    X_filled = np.empty_like(X_val_raw)\n",
    "    for j in range(f):\n",
    "        for i in range(n):\n",
    "            series = X_val_raw[i, :, j]\n",
    "            if np.isnan(series).all():\n",
    "                X_filled[i, :, j] = global_means[j]\n",
    "            else:\n",
    "                x = np.arange(t)\n",
    "                mask = ~np.isnan(series)\n",
    "                X_filled[i, :, j] = np.interp(x, x[mask], series[mask])\n",
    "\n",
    "    # === Step 2: Clipping ===\n",
    "    for j in range(f):\n",
    "        lower = clip_means[j] - 5 * clip_stds[j]\n",
    "        upper = clip_means[j] + 5 * clip_stds[j]\n",
    "        X_filled[:, :, j] = np.clip(X_filled[:, :, j], lower, upper)\n",
    "\n",
    "    # === Step 3: Scaling ===\n",
    "    X_flat = X_filled.reshape(-1, f)\n",
    "    X_scaled_flat = scaler.transform(X_flat)\n",
    "    X_scaled = X_scaled_flat.reshape(n, t, f)\n",
    "\n",
    "    # === Step 4: Delta features ===\n",
    "    X_deltas = X_scaled[:, 1:, :] - X_scaled[:, :-1, :]\n",
    "    zero_pad = np.zeros((n, 1, f))\n",
    "    X_deltas = np.concatenate([zero_pad, X_deltas], axis=1)\n",
    "    X_scaled_with_deltas = np.concatenate([X_scaled, X_deltas], axis=2)\n",
    "\n",
    "    # === Step 5: Mask ===\n",
    "    X_mask = (~np.isnan(X_val_raw)).astype(np.float32)\n",
    "\n",
    "    # === Step 6: Final concat ===\n",
    "    X_val_ready = np.concatenate([X_scaled_with_deltas, X_mask], axis=2)  # shape: (n, t, 3f)\n",
    "\n",
    "    return X_val_ready\n",
    "\n",
    "\n",
    "# From training pipeline\n",
    "global_means = np.nanmean(X_train, axis=(0, 1))\n",
    "clip_means = np.mean(X_train_filled, axis=(0, 1))\n",
    "clip_stds  = np.std(X_train_filled, axis=(0, 1))\n",
    "# scaler = trained StandardScaler\n",
    "\n",
    "# Apply to val set\n",
    "X_val_ready = apply_pipeline_to_val(X_val, global_means, scaler, clip_means, clip_stds)\n",
    "X_val_ready.shape"
   ]
  },
  {
   "cell_type": "code",
   "execution_count": 32,
   "id": "a4f3b50e",
   "metadata": {},
   "outputs": [],
   "source": [
    "from torch.utils.data import Sampler\n",
    "import random\n",
    "import numpy as np\n",
    "\n",
    "class BalancedBatchSampler(Sampler):\n",
    "    def __init__(self, labels, batch_size):\n",
    "        self.labels = np.array(labels)\n",
    "        self.batch_size = batch_size\n",
    "        self.pos_indices = np.where(self.labels == 1)[0].tolist()\n",
    "        self.neg_indices = np.where(self.labels == 0)[0].tolist()\n",
    "        self.batch_half = batch_size // 2\n",
    "\n",
    "    def __iter__(self):\n",
    "        # Shuffle both positive and negative indices each epoch\n",
    "        random.shuffle(self.pos_indices)\n",
    "        random.shuffle(self.neg_indices)\n",
    "\n",
    "        pos_iter = iter(self.pos_indices)\n",
    "        neg_iter = iter(self.neg_indices)\n",
    "\n",
    "        while True:\n",
    "            try:\n",
    "                pos_batch = [next(pos_iter) for _ in range(self.batch_half)]\n",
    "                neg_batch = [next(neg_iter) for _ in range(self.batch_half)]\n",
    "                batch = pos_batch + neg_batch\n",
    "                random.shuffle(batch)\n",
    "                yield batch\n",
    "            except StopIteration:\n",
    "                break\n",
    "\n",
    "    def __len__(self):\n",
    "        return min(len(self.pos_indices), len(self.neg_indices)) // self.batch_half\n"
   ]
  },
  {
   "cell_type": "code",
   "execution_count": 33,
   "id": "eefb6d34",
   "metadata": {},
   "outputs": [],
   "source": [
    "import torch\n",
    "from torch.utils.data import Dataset, DataLoader\n",
    "from sklearn.model_selection import train_test_split\n",
    "\n",
    "\n",
    "\n",
    "# Custom Dataset class\n",
    "class DiabetesDataset(Dataset):\n",
    "    def __init__(self, X, y):\n",
    "        # Assume X and y are NumPy arrays\n",
    "        self.X = torch.tensor(X, dtype=torch.float32)\n",
    "        self.y = torch.tensor(y, dtype=torch.float32)\n",
    "\n",
    "    def __len__(self):\n",
    "        return len(self.X)\n",
    "\n",
    "    def __getitem__(self, idx):\n",
    "        return self.X[idx], self.y[idx]\n",
    "\n",
    "# Create datasets\n",
    "train_dataset = DiabetesDataset(X_train_ready, y_train)\n",
    "train_sampler = BalancedBatchSampler(y_train, batch_size=64)\n",
    "train_loader = DataLoader(train_dataset, batch_sampler=train_sampler)\n",
    "\n",
    "val_dataset = DiabetesDataset(X_val_ready, y_val)\n",
    "\n",
    "# Create DataLoaders\n",
    "\n",
    "val_loader = DataLoader(val_dataset, batch_size=64)\n"
   ]
  },
  {
   "cell_type": "code",
   "execution_count": 34,
   "id": "38270602",
   "metadata": {},
   "outputs": [
    {
     "data": {
      "text/plain": [
       "['preprocessing.pkl']"
      ]
     },
     "execution_count": 34,
     "metadata": {},
     "output_type": "execute_result"
    }
   ],
   "source": [
    "preprocessing_artifacts = {\n",
    "    \"global_means\": global_means,\n",
    "    \"clip_means\": clip_means,\n",
    "    \"clip_stds\": clip_stds,\n",
    "    \"scaler\": scaler\n",
    "}\n",
    "joblib.dump(preprocessing_artifacts, \"preprocessing.pkl\")\n"
   ]
  },
  {
   "cell_type": "code",
   "execution_count": 35,
   "id": "b0c6d738",
   "metadata": {},
   "outputs": [],
   "source": [
    "import torch\n",
    "import torch.nn as nn\n",
    "import torch.nn.functional as F\n",
    "\n",
    "class ImprovedLSTM(nn.Module):\n",
    "    def __init__(self, input_size=231, hidden_size=128, num_layers=2, dropout=0.4, bidirectional=True):\n",
    "        super(ImprovedLSTM, self).__init__()\n",
    "        self.hidden_size = hidden_size\n",
    "        self.num_directions = 2 if bidirectional else 1\n",
    "\n",
    "        # LSTM layer\n",
    "        self.lstm = nn.LSTM(\n",
    "            input_size=input_size,\n",
    "            hidden_size=hidden_size,\n",
    "            num_layers=num_layers,\n",
    "            dropout=dropout,\n",
    "            batch_first=True,\n",
    "            bidirectional=bidirectional\n",
    "        )\n",
    "\n",
    "        # Attention mechanism\n",
    "        self.attn_fc = nn.Linear(hidden_size * self.num_directions, 1)\n",
    "\n",
    "        # Layer normalization after attention\n",
    "        self.norm = nn.LayerNorm(hidden_size * self.num_directions)\n",
    "\n",
    "        # Classification head\n",
    "        self.head = nn.Sequential(\n",
    "            nn.Linear(hidden_size * self.num_directions, 128),\n",
    "            nn.ReLU(),\n",
    "            nn.Dropout(dropout),\n",
    "            nn.Linear(128, 1)  # Binary classification\n",
    "        )\n",
    "\n",
    "    def forward(self, x):\n",
    "        # LSTM output\n",
    "        lstm_out, _ = self.lstm(x)  # lstm_out: (batch, seq_len, hidden_size * num_directions)\n",
    "\n",
    "        # Attention scores (before softmax)\n",
    "        attn_scores = self.attn_fc(lstm_out).squeeze(-1)  # (batch, seq_len)\n",
    "        attn_weights = F.softmax(attn_scores, dim=1)      # (batch, seq_len)\n",
    "\n",
    "        # Weighted sum (context vector)\n",
    "        context = torch.sum(lstm_out * attn_weights.unsqueeze(-1), dim=1)  # (batch, hidden_size * num_directions)\n",
    "\n",
    "        # Normalize and pass to classifier\n",
    "        context = self.norm(context)\n",
    "        logits = self.head(context)\n",
    "\n",
    "        return logits.squeeze()  # (batch,)\n"
   ]
  },
  {
   "cell_type": "code",
   "execution_count": 36,
   "id": "2588bda5",
   "metadata": {},
   "outputs": [],
   "source": [
    "import torch\n",
    "import torch.nn as nn\n",
    "\n",
    "class FocalLoss(nn.Module):\n",
    "    def __init__(self, alpha=None, gamma=2, reduction='mean'):\n",
    "        \"\"\"\n",
    "        alpha: float or list/tuple of two floats. Weighting factor for class imbalance.\n",
    "               If float, same alpha applied to both classes.\n",
    "               If list/tuple: [alpha_for_0, alpha_for_1]\n",
    "        \"\"\"\n",
    "        super(FocalLoss, self).__init__()\n",
    "        self.gamma = gamma\n",
    "        self.reduction = reduction\n",
    "        self.alpha = torch.tensor(alpha) if isinstance(alpha, (list, tuple)) else alpha\n",
    "\n",
    "    def forward(self, inputs, targets):\n",
    "        # Clamp probabilities for numerical stability\n",
    "        probas = torch.sigmoid(inputs).clamp(min=1e-6, max=1 - 1e-6)\n",
    "        bce_loss = nn.functional.binary_cross_entropy_with_logits(inputs, targets, reduction='none')\n",
    "\n",
    "        pt = probas * targets + (1 - probas) * (1 - targets)  # pt = p_t\n",
    "        focal_term = (1 - pt) ** self.gamma\n",
    "\n",
    "        if isinstance(self.alpha, torch.Tensor):\n",
    "            alpha = self.alpha.to(inputs.device)\n",
    "            alpha_t = alpha[1] * targets + alpha[0] * (1 - targets)\n",
    "        else:\n",
    "            alpha_t = self.alpha if self.alpha is not None else 1.0\n",
    "\n",
    "        loss = alpha_t * focal_term * bce_loss\n",
    "\n",
    "        if self.reduction == 'mean':\n",
    "            return loss.mean()\n"
   ]
  },
  {
   "cell_type": "code",
   "execution_count": 37,
   "id": "7811a14b",
   "metadata": {},
   "outputs": [
    {
     "name": "stdout",
     "output_type": "stream",
     "text": [
      "📊 Positive samples: 2714, Negative samples: 40207\n",
      "⚖️ Using pos_weight = 14.8147\n"
     ]
    }
   ],
   "source": [
    "import torch\n",
    "\n",
    "# Count positives and negatives in training set\n",
    "n_pos = (y_train == 1).sum()\n",
    "n_neg = (y_train == 0).sum()\n",
    "\n",
    "# Compute pos_weight: how much more to weigh the positive class\n",
    "pos_weight_value = n_neg / n_pos\n",
    "pos_weight = torch.tensor([pos_weight_value], dtype=torch.float32)\n",
    "\n",
    "print(f\"📊 Positive samples: {n_pos}, Negative samples: {n_neg}\")\n",
    "print(f\"⚖️ Using pos_weight = {pos_weight.item():.4f}\")\n"
   ]
  },
  {
   "cell_type": "markdown",
   "id": "b7ef2941",
   "metadata": {},
   "source": [
    "# ***XGboost***"
   ]
  },
  {
   "cell_type": "code",
   "execution_count": 16,
   "id": "161056c1",
   "metadata": {},
   "outputs": [],
   "source": [
    "# Pour XGBoost → on aplatit (n, t, 3f) → (n, t × 3f)\n",
    "X_train_flat = X_train_ready.reshape(X_train_ready.shape[0], -1)\n",
    "X_val_flat   = X_val_ready.reshape(X_val_ready.shape[0], -1)\n"
   ]
  },
  {
   "cell_type": "code",
   "execution_count": 17,
   "id": "25771844",
   "metadata": {},
   "outputs": [
    {
     "name": "stderr",
     "output_type": "stream",
     "text": [
      "c:\\Users\\User\\Challenge-data-mias\\.venv\\lib\\site-packages\\xgboost\\training.py:183: UserWarning: [08:22:09] WARNING: C:\\actions-runner\\_work\\xgboost\\xgboost\\src\\learner.cc:738: \n",
      "Parameters: { \"use_label_encoder\" } are not used.\n",
      "\n",
      "  bst.update(dtrain, iteration=i, fobj=obj)\n"
     ]
    },
    {
     "data": {
      "text/html": [
       "<style>#sk-container-id-2 {\n",
       "  /* Definition of color scheme common for light and dark mode */\n",
       "  --sklearn-color-text: #000;\n",
       "  --sklearn-color-text-muted: #666;\n",
       "  --sklearn-color-line: gray;\n",
       "  /* Definition of color scheme for unfitted estimators */\n",
       "  --sklearn-color-unfitted-level-0: #fff5e6;\n",
       "  --sklearn-color-unfitted-level-1: #f6e4d2;\n",
       "  --sklearn-color-unfitted-level-2: #ffe0b3;\n",
       "  --sklearn-color-unfitted-level-3: chocolate;\n",
       "  /* Definition of color scheme for fitted estimators */\n",
       "  --sklearn-color-fitted-level-0: #f0f8ff;\n",
       "  --sklearn-color-fitted-level-1: #d4ebff;\n",
       "  --sklearn-color-fitted-level-2: #b3dbfd;\n",
       "  --sklearn-color-fitted-level-3: cornflowerblue;\n",
       "\n",
       "  /* Specific color for light theme */\n",
       "  --sklearn-color-text-on-default-background: var(--sg-text-color, var(--theme-code-foreground, var(--jp-content-font-color1, black)));\n",
       "  --sklearn-color-background: var(--sg-background-color, var(--theme-background, var(--jp-layout-color0, white)));\n",
       "  --sklearn-color-border-box: var(--sg-text-color, var(--theme-code-foreground, var(--jp-content-font-color1, black)));\n",
       "  --sklearn-color-icon: #696969;\n",
       "\n",
       "  @media (prefers-color-scheme: dark) {\n",
       "    /* Redefinition of color scheme for dark theme */\n",
       "    --sklearn-color-text-on-default-background: var(--sg-text-color, var(--theme-code-foreground, var(--jp-content-font-color1, white)));\n",
       "    --sklearn-color-background: var(--sg-background-color, var(--theme-background, var(--jp-layout-color0, #111)));\n",
       "    --sklearn-color-border-box: var(--sg-text-color, var(--theme-code-foreground, var(--jp-content-font-color1, white)));\n",
       "    --sklearn-color-icon: #878787;\n",
       "  }\n",
       "}\n",
       "\n",
       "#sk-container-id-2 {\n",
       "  color: var(--sklearn-color-text);\n",
       "}\n",
       "\n",
       "#sk-container-id-2 pre {\n",
       "  padding: 0;\n",
       "}\n",
       "\n",
       "#sk-container-id-2 input.sk-hidden--visually {\n",
       "  border: 0;\n",
       "  clip: rect(1px 1px 1px 1px);\n",
       "  clip: rect(1px, 1px, 1px, 1px);\n",
       "  height: 1px;\n",
       "  margin: -1px;\n",
       "  overflow: hidden;\n",
       "  padding: 0;\n",
       "  position: absolute;\n",
       "  width: 1px;\n",
       "}\n",
       "\n",
       "#sk-container-id-2 div.sk-dashed-wrapped {\n",
       "  border: 1px dashed var(--sklearn-color-line);\n",
       "  margin: 0 0.4em 0.5em 0.4em;\n",
       "  box-sizing: border-box;\n",
       "  padding-bottom: 0.4em;\n",
       "  background-color: var(--sklearn-color-background);\n",
       "}\n",
       "\n",
       "#sk-container-id-2 div.sk-container {\n",
       "  /* jupyter's `normalize.less` sets `[hidden] { display: none; }`\n",
       "     but bootstrap.min.css set `[hidden] { display: none !important; }`\n",
       "     so we also need the `!important` here to be able to override the\n",
       "     default hidden behavior on the sphinx rendered scikit-learn.org.\n",
       "     See: https://github.com/scikit-learn/scikit-learn/issues/21755 */\n",
       "  display: inline-block !important;\n",
       "  position: relative;\n",
       "}\n",
       "\n",
       "#sk-container-id-2 div.sk-text-repr-fallback {\n",
       "  display: none;\n",
       "}\n",
       "\n",
       "div.sk-parallel-item,\n",
       "div.sk-serial,\n",
       "div.sk-item {\n",
       "  /* draw centered vertical line to link estimators */\n",
       "  background-image: linear-gradient(var(--sklearn-color-text-on-default-background), var(--sklearn-color-text-on-default-background));\n",
       "  background-size: 2px 100%;\n",
       "  background-repeat: no-repeat;\n",
       "  background-position: center center;\n",
       "}\n",
       "\n",
       "/* Parallel-specific style estimator block */\n",
       "\n",
       "#sk-container-id-2 div.sk-parallel-item::after {\n",
       "  content: \"\";\n",
       "  width: 100%;\n",
       "  border-bottom: 2px solid var(--sklearn-color-text-on-default-background);\n",
       "  flex-grow: 1;\n",
       "}\n",
       "\n",
       "#sk-container-id-2 div.sk-parallel {\n",
       "  display: flex;\n",
       "  align-items: stretch;\n",
       "  justify-content: center;\n",
       "  background-color: var(--sklearn-color-background);\n",
       "  position: relative;\n",
       "}\n",
       "\n",
       "#sk-container-id-2 div.sk-parallel-item {\n",
       "  display: flex;\n",
       "  flex-direction: column;\n",
       "}\n",
       "\n",
       "#sk-container-id-2 div.sk-parallel-item:first-child::after {\n",
       "  align-self: flex-end;\n",
       "  width: 50%;\n",
       "}\n",
       "\n",
       "#sk-container-id-2 div.sk-parallel-item:last-child::after {\n",
       "  align-self: flex-start;\n",
       "  width: 50%;\n",
       "}\n",
       "\n",
       "#sk-container-id-2 div.sk-parallel-item:only-child::after {\n",
       "  width: 0;\n",
       "}\n",
       "\n",
       "/* Serial-specific style estimator block */\n",
       "\n",
       "#sk-container-id-2 div.sk-serial {\n",
       "  display: flex;\n",
       "  flex-direction: column;\n",
       "  align-items: center;\n",
       "  background-color: var(--sklearn-color-background);\n",
       "  padding-right: 1em;\n",
       "  padding-left: 1em;\n",
       "}\n",
       "\n",
       "\n",
       "/* Toggleable style: style used for estimator/Pipeline/ColumnTransformer box that is\n",
       "clickable and can be expanded/collapsed.\n",
       "- Pipeline and ColumnTransformer use this feature and define the default style\n",
       "- Estimators will overwrite some part of the style using the `sk-estimator` class\n",
       "*/\n",
       "\n",
       "/* Pipeline and ColumnTransformer style (default) */\n",
       "\n",
       "#sk-container-id-2 div.sk-toggleable {\n",
       "  /* Default theme specific background. It is overwritten whether we have a\n",
       "  specific estimator or a Pipeline/ColumnTransformer */\n",
       "  background-color: var(--sklearn-color-background);\n",
       "}\n",
       "\n",
       "/* Toggleable label */\n",
       "#sk-container-id-2 label.sk-toggleable__label {\n",
       "  cursor: pointer;\n",
       "  display: flex;\n",
       "  width: 100%;\n",
       "  margin-bottom: 0;\n",
       "  padding: 0.5em;\n",
       "  box-sizing: border-box;\n",
       "  text-align: center;\n",
       "  align-items: start;\n",
       "  justify-content: space-between;\n",
       "  gap: 0.5em;\n",
       "}\n",
       "\n",
       "#sk-container-id-2 label.sk-toggleable__label .caption {\n",
       "  font-size: 0.6rem;\n",
       "  font-weight: lighter;\n",
       "  color: var(--sklearn-color-text-muted);\n",
       "}\n",
       "\n",
       "#sk-container-id-2 label.sk-toggleable__label-arrow:before {\n",
       "  /* Arrow on the left of the label */\n",
       "  content: \"▸\";\n",
       "  float: left;\n",
       "  margin-right: 0.25em;\n",
       "  color: var(--sklearn-color-icon);\n",
       "}\n",
       "\n",
       "#sk-container-id-2 label.sk-toggleable__label-arrow:hover:before {\n",
       "  color: var(--sklearn-color-text);\n",
       "}\n",
       "\n",
       "/* Toggleable content - dropdown */\n",
       "\n",
       "#sk-container-id-2 div.sk-toggleable__content {\n",
       "  max-height: 0;\n",
       "  max-width: 0;\n",
       "  overflow: hidden;\n",
       "  text-align: left;\n",
       "  /* unfitted */\n",
       "  background-color: var(--sklearn-color-unfitted-level-0);\n",
       "}\n",
       "\n",
       "#sk-container-id-2 div.sk-toggleable__content.fitted {\n",
       "  /* fitted */\n",
       "  background-color: var(--sklearn-color-fitted-level-0);\n",
       "}\n",
       "\n",
       "#sk-container-id-2 div.sk-toggleable__content pre {\n",
       "  margin: 0.2em;\n",
       "  border-radius: 0.25em;\n",
       "  color: var(--sklearn-color-text);\n",
       "  /* unfitted */\n",
       "  background-color: var(--sklearn-color-unfitted-level-0);\n",
       "}\n",
       "\n",
       "#sk-container-id-2 div.sk-toggleable__content.fitted pre {\n",
       "  /* unfitted */\n",
       "  background-color: var(--sklearn-color-fitted-level-0);\n",
       "}\n",
       "\n",
       "#sk-container-id-2 input.sk-toggleable__control:checked~div.sk-toggleable__content {\n",
       "  /* Expand drop-down */\n",
       "  max-height: 200px;\n",
       "  max-width: 100%;\n",
       "  overflow: auto;\n",
       "}\n",
       "\n",
       "#sk-container-id-2 input.sk-toggleable__control:checked~label.sk-toggleable__label-arrow:before {\n",
       "  content: \"▾\";\n",
       "}\n",
       "\n",
       "/* Pipeline/ColumnTransformer-specific style */\n",
       "\n",
       "#sk-container-id-2 div.sk-label input.sk-toggleable__control:checked~label.sk-toggleable__label {\n",
       "  color: var(--sklearn-color-text);\n",
       "  background-color: var(--sklearn-color-unfitted-level-2);\n",
       "}\n",
       "\n",
       "#sk-container-id-2 div.sk-label.fitted input.sk-toggleable__control:checked~label.sk-toggleable__label {\n",
       "  background-color: var(--sklearn-color-fitted-level-2);\n",
       "}\n",
       "\n",
       "/* Estimator-specific style */\n",
       "\n",
       "/* Colorize estimator box */\n",
       "#sk-container-id-2 div.sk-estimator input.sk-toggleable__control:checked~label.sk-toggleable__label {\n",
       "  /* unfitted */\n",
       "  background-color: var(--sklearn-color-unfitted-level-2);\n",
       "}\n",
       "\n",
       "#sk-container-id-2 div.sk-estimator.fitted input.sk-toggleable__control:checked~label.sk-toggleable__label {\n",
       "  /* fitted */\n",
       "  background-color: var(--sklearn-color-fitted-level-2);\n",
       "}\n",
       "\n",
       "#sk-container-id-2 div.sk-label label.sk-toggleable__label,\n",
       "#sk-container-id-2 div.sk-label label {\n",
       "  /* The background is the default theme color */\n",
       "  color: var(--sklearn-color-text-on-default-background);\n",
       "}\n",
       "\n",
       "/* On hover, darken the color of the background */\n",
       "#sk-container-id-2 div.sk-label:hover label.sk-toggleable__label {\n",
       "  color: var(--sklearn-color-text);\n",
       "  background-color: var(--sklearn-color-unfitted-level-2);\n",
       "}\n",
       "\n",
       "/* Label box, darken color on hover, fitted */\n",
       "#sk-container-id-2 div.sk-label.fitted:hover label.sk-toggleable__label.fitted {\n",
       "  color: var(--sklearn-color-text);\n",
       "  background-color: var(--sklearn-color-fitted-level-2);\n",
       "}\n",
       "\n",
       "/* Estimator label */\n",
       "\n",
       "#sk-container-id-2 div.sk-label label {\n",
       "  font-family: monospace;\n",
       "  font-weight: bold;\n",
       "  display: inline-block;\n",
       "  line-height: 1.2em;\n",
       "}\n",
       "\n",
       "#sk-container-id-2 div.sk-label-container {\n",
       "  text-align: center;\n",
       "}\n",
       "\n",
       "/* Estimator-specific */\n",
       "#sk-container-id-2 div.sk-estimator {\n",
       "  font-family: monospace;\n",
       "  border: 1px dotted var(--sklearn-color-border-box);\n",
       "  border-radius: 0.25em;\n",
       "  box-sizing: border-box;\n",
       "  margin-bottom: 0.5em;\n",
       "  /* unfitted */\n",
       "  background-color: var(--sklearn-color-unfitted-level-0);\n",
       "}\n",
       "\n",
       "#sk-container-id-2 div.sk-estimator.fitted {\n",
       "  /* fitted */\n",
       "  background-color: var(--sklearn-color-fitted-level-0);\n",
       "}\n",
       "\n",
       "/* on hover */\n",
       "#sk-container-id-2 div.sk-estimator:hover {\n",
       "  /* unfitted */\n",
       "  background-color: var(--sklearn-color-unfitted-level-2);\n",
       "}\n",
       "\n",
       "#sk-container-id-2 div.sk-estimator.fitted:hover {\n",
       "  /* fitted */\n",
       "  background-color: var(--sklearn-color-fitted-level-2);\n",
       "}\n",
       "\n",
       "/* Specification for estimator info (e.g. \"i\" and \"?\") */\n",
       "\n",
       "/* Common style for \"i\" and \"?\" */\n",
       "\n",
       ".sk-estimator-doc-link,\n",
       "a:link.sk-estimator-doc-link,\n",
       "a:visited.sk-estimator-doc-link {\n",
       "  float: right;\n",
       "  font-size: smaller;\n",
       "  line-height: 1em;\n",
       "  font-family: monospace;\n",
       "  background-color: var(--sklearn-color-background);\n",
       "  border-radius: 1em;\n",
       "  height: 1em;\n",
       "  width: 1em;\n",
       "  text-decoration: none !important;\n",
       "  margin-left: 0.5em;\n",
       "  text-align: center;\n",
       "  /* unfitted */\n",
       "  border: var(--sklearn-color-unfitted-level-1) 1pt solid;\n",
       "  color: var(--sklearn-color-unfitted-level-1);\n",
       "}\n",
       "\n",
       ".sk-estimator-doc-link.fitted,\n",
       "a:link.sk-estimator-doc-link.fitted,\n",
       "a:visited.sk-estimator-doc-link.fitted {\n",
       "  /* fitted */\n",
       "  border: var(--sklearn-color-fitted-level-1) 1pt solid;\n",
       "  color: var(--sklearn-color-fitted-level-1);\n",
       "}\n",
       "\n",
       "/* On hover */\n",
       "div.sk-estimator:hover .sk-estimator-doc-link:hover,\n",
       ".sk-estimator-doc-link:hover,\n",
       "div.sk-label-container:hover .sk-estimator-doc-link:hover,\n",
       ".sk-estimator-doc-link:hover {\n",
       "  /* unfitted */\n",
       "  background-color: var(--sklearn-color-unfitted-level-3);\n",
       "  color: var(--sklearn-color-background);\n",
       "  text-decoration: none;\n",
       "}\n",
       "\n",
       "div.sk-estimator.fitted:hover .sk-estimator-doc-link.fitted:hover,\n",
       ".sk-estimator-doc-link.fitted:hover,\n",
       "div.sk-label-container:hover .sk-estimator-doc-link.fitted:hover,\n",
       ".sk-estimator-doc-link.fitted:hover {\n",
       "  /* fitted */\n",
       "  background-color: var(--sklearn-color-fitted-level-3);\n",
       "  color: var(--sklearn-color-background);\n",
       "  text-decoration: none;\n",
       "}\n",
       "\n",
       "/* Span, style for the box shown on hovering the info icon */\n",
       ".sk-estimator-doc-link span {\n",
       "  display: none;\n",
       "  z-index: 9999;\n",
       "  position: relative;\n",
       "  font-weight: normal;\n",
       "  right: .2ex;\n",
       "  padding: .5ex;\n",
       "  margin: .5ex;\n",
       "  width: min-content;\n",
       "  min-width: 20ex;\n",
       "  max-width: 50ex;\n",
       "  color: var(--sklearn-color-text);\n",
       "  box-shadow: 2pt 2pt 4pt #999;\n",
       "  /* unfitted */\n",
       "  background: var(--sklearn-color-unfitted-level-0);\n",
       "  border: .5pt solid var(--sklearn-color-unfitted-level-3);\n",
       "}\n",
       "\n",
       ".sk-estimator-doc-link.fitted span {\n",
       "  /* fitted */\n",
       "  background: var(--sklearn-color-fitted-level-0);\n",
       "  border: var(--sklearn-color-fitted-level-3);\n",
       "}\n",
       "\n",
       ".sk-estimator-doc-link:hover span {\n",
       "  display: block;\n",
       "}\n",
       "\n",
       "/* \"?\"-specific style due to the `<a>` HTML tag */\n",
       "\n",
       "#sk-container-id-2 a.estimator_doc_link {\n",
       "  float: right;\n",
       "  font-size: 1rem;\n",
       "  line-height: 1em;\n",
       "  font-family: monospace;\n",
       "  background-color: var(--sklearn-color-background);\n",
       "  border-radius: 1rem;\n",
       "  height: 1rem;\n",
       "  width: 1rem;\n",
       "  text-decoration: none;\n",
       "  /* unfitted */\n",
       "  color: var(--sklearn-color-unfitted-level-1);\n",
       "  border: var(--sklearn-color-unfitted-level-1) 1pt solid;\n",
       "}\n",
       "\n",
       "#sk-container-id-2 a.estimator_doc_link.fitted {\n",
       "  /* fitted */\n",
       "  border: var(--sklearn-color-fitted-level-1) 1pt solid;\n",
       "  color: var(--sklearn-color-fitted-level-1);\n",
       "}\n",
       "\n",
       "/* On hover */\n",
       "#sk-container-id-2 a.estimator_doc_link:hover {\n",
       "  /* unfitted */\n",
       "  background-color: var(--sklearn-color-unfitted-level-3);\n",
       "  color: var(--sklearn-color-background);\n",
       "  text-decoration: none;\n",
       "}\n",
       "\n",
       "#sk-container-id-2 a.estimator_doc_link.fitted:hover {\n",
       "  /* fitted */\n",
       "  background-color: var(--sklearn-color-fitted-level-3);\n",
       "}\n",
       "</style><div id=\"sk-container-id-2\" class=\"sk-top-container\"><div class=\"sk-text-repr-fallback\"><pre>XGBClassifier(base_score=None, booster=None, callbacks=None,\n",
       "              colsample_bylevel=None, colsample_bynode=None,\n",
       "              colsample_bytree=None, device=None, early_stopping_rounds=None,\n",
       "              enable_categorical=False, eval_metric=&#x27;logloss&#x27;,\n",
       "              feature_types=None, feature_weights=None, gamma=None,\n",
       "              grow_policy=None, importance_type=None,\n",
       "              interaction_constraints=None, learning_rate=0.05, max_bin=None,\n",
       "              max_cat_threshold=None, max_cat_to_onehot=None,\n",
       "              max_delta_step=None, max_depth=6, max_leaves=None,\n",
       "              min_child_weight=None, missing=nan, monotone_constraints=None,\n",
       "              multi_strategy=None, n_estimators=100, n_jobs=None,\n",
       "              num_parallel_tree=None, ...)</pre><b>In a Jupyter environment, please rerun this cell to show the HTML representation or trust the notebook. <br />On GitHub, the HTML representation is unable to render, please try loading this page with nbviewer.org.</b></div><div class=\"sk-container\" hidden><div class=\"sk-item\"><div class=\"sk-estimator fitted sk-toggleable\"><input class=\"sk-toggleable__control sk-hidden--visually\" id=\"sk-estimator-id-2\" type=\"checkbox\" checked><label for=\"sk-estimator-id-2\" class=\"sk-toggleable__label fitted sk-toggleable__label-arrow\"><div><div>XGBClassifier</div></div><div><a class=\"sk-estimator-doc-link fitted\" rel=\"noreferrer\" target=\"_blank\" href=\"https://xgboost.readthedocs.io/en/release_3.0.0/python/python_api.html#xgboost.XGBClassifier\">?<span>Documentation for XGBClassifier</span></a><span class=\"sk-estimator-doc-link fitted\">i<span>Fitted</span></span></div></label><div class=\"sk-toggleable__content fitted\"><pre>XGBClassifier(base_score=None, booster=None, callbacks=None,\n",
       "              colsample_bylevel=None, colsample_bynode=None,\n",
       "              colsample_bytree=None, device=None, early_stopping_rounds=None,\n",
       "              enable_categorical=False, eval_metric=&#x27;logloss&#x27;,\n",
       "              feature_types=None, feature_weights=None, gamma=None,\n",
       "              grow_policy=None, importance_type=None,\n",
       "              interaction_constraints=None, learning_rate=0.05, max_bin=None,\n",
       "              max_cat_threshold=None, max_cat_to_onehot=None,\n",
       "              max_delta_step=None, max_depth=6, max_leaves=None,\n",
       "              min_child_weight=None, missing=nan, monotone_constraints=None,\n",
       "              multi_strategy=None, n_estimators=100, n_jobs=None,\n",
       "              num_parallel_tree=None, ...)</pre></div> </div></div></div></div>"
      ],
      "text/plain": [
       "XGBClassifier(base_score=None, booster=None, callbacks=None,\n",
       "              colsample_bylevel=None, colsample_bynode=None,\n",
       "              colsample_bytree=None, device=None, early_stopping_rounds=None,\n",
       "              enable_categorical=False, eval_metric='logloss',\n",
       "              feature_types=None, feature_weights=None, gamma=None,\n",
       "              grow_policy=None, importance_type=None,\n",
       "              interaction_constraints=None, learning_rate=0.05, max_bin=None,\n",
       "              max_cat_threshold=None, max_cat_to_onehot=None,\n",
       "              max_delta_step=None, max_depth=6, max_leaves=None,\n",
       "              min_child_weight=None, missing=nan, monotone_constraints=None,\n",
       "              multi_strategy=None, n_estimators=100, n_jobs=None,\n",
       "              num_parallel_tree=None, ...)"
      ]
     },
     "execution_count": 17,
     "metadata": {},
     "output_type": "execute_result"
    }
   ],
   "source": [
    "from xgboost import XGBClassifier\n",
    "from sklearn.metrics import f1_score, accuracy_score, roc_auc_score\n",
    "import numpy as np\n",
    "import joblib\n",
    "import pickle\n",
    "\n",
    "# Détection déséquilibre\n",
    "pos_ratio = (y_train == 1).sum() / (y_train == 0).sum()\n",
    "\n",
    "# Modèle\n",
    "xgb_model = XGBClassifier(\n",
    "    n_estimators=100,\n",
    "    max_depth=6,\n",
    "    learning_rate=0.05,\n",
    "    scale_pos_weight=1/pos_ratio,\n",
    "    use_label_encoder=False,\n",
    "    eval_metric='logloss',\n",
    "    random_state=42\n",
    ")\n",
    "\n",
    "xgb_model.fit(X_train_flat, y_train)\n"
   ]
  },
  {
   "cell_type": "code",
   "execution_count": 20,
   "id": "2f1f31ff",
   "metadata": {},
   "outputs": [
    {
     "name": "stdout",
     "output_type": "stream",
     "text": [
      "📊 Best F1: 0.4735 at threshold 0.78\n",
      "✅ AUC: 0.9170\n",
      "✅ Accuracy (0.5 threshold): 0.8214\n",
      "✅ Precision: 0.3657\n",
      "✅ Recall (Sensitivity): 0.6716\n",
      "✅ Specificity: 0.9213\n",
      "✅ Balanced Accuracy: 0.7964\n"
     ]
    },
    {
     "data": {
      "image/png": "[encoded data removed]",
      "text/plain": [
       "<Figure size 640x480 with 1 Axes>"
      ]
     },
     "metadata": {},
     "output_type": "display_data"
    },
    {
     "data": {
      "image/png": "[encoded data removed]",
      "text/plain": [
       "<Figure size 640x480 with 2 Axes>"
      ]
     },
     "metadata": {},
     "output_type": "display_data"
    }
   ],
   "source": [
    "import numpy as np\n",
    "import matplotlib.pyplot as plt\n",
    "from sklearn.metrics import (\n",
    "    f1_score, accuracy_score, roc_auc_score, roc_curve, confusion_matrix,\n",
    "    ConfusionMatrixDisplay, precision_score, recall_score, balanced_accuracy_score\n",
    ")\n",
    "\n",
    "# Predict probabilities\n",
    "y_val_prob = xgb_model.predict_proba(X_val_flat)[:, 1]\n",
    "\n",
    "# Find best F1 threshold\n",
    "thresholds = np.linspace(0.1, 0.9, 81)\n",
    "f1s = [f1_score(y_val, y_val_prob > t) for t in thresholds]\n",
    "best_thresh = thresholds[np.argmax(f1s)]\n",
    "\n",
    "# Predictions using best threshold\n",
    "y_pred_opt = y_val_prob > best_thresh\n",
    "\n",
    "# Core metrics\n",
    "auc_score = roc_auc_score(y_val, y_val_prob)\n",
    "acc = accuracy_score(y_val, y_val_prob > 0.5)\n",
    "precision = precision_score(y_val, y_pred_opt)\n",
    "recall = recall_score(y_val, y_pred_opt)\n",
    "f1 = f1_score(y_val, y_pred_opt)\n",
    "balanced_acc = balanced_accuracy_score(y_val, y_pred_opt)\n",
    "\n",
    "# Confusion matrix\n",
    "cm = confusion_matrix(y_val, y_pred_opt)\n",
    "tn, fp, fn, tp = cm.ravel()\n",
    "specificity = tn / (tn + fp)  # True Negative Rate\n",
    "\n",
    "# Print summary\n",
    "print(f\"📊 Best F1: {f1:.4f} at threshold {best_thresh:.2f}\")\n",
    "print(f\"✅ AUC: {auc_score:.4f}\")\n",
    "print(f\"✅ Accuracy (0.5 threshold): {acc:.4f}\")\n",
    "print(f\"✅ Precision: {precision:.4f}\")\n",
    "print(f\"✅ Recall (Sensitivity): {recall:.4f}\")\n",
    "print(f\"✅ Specificity: {specificity:.4f}\")\n",
    "print(f\"✅ Balanced Accuracy: {balanced_acc:.4f}\")\n",
    "\n",
    "# Plot ROC Curve\n",
    "fpr, tpr, _ = roc_curve(y_val, y_val_prob)\n",
    "roc_auc = auc(fpr, tpr)\n",
    "\n",
    "plt.figure()\n",
    "plt.plot(fpr, tpr, label=f'ROC curve (AUC = {roc_auc:.4f})')\n",
    "plt.plot([0, 1], [0, 1], linestyle='--', color='gray', label='Random chance')\n",
    "plt.xlabel('False Positive Rate')\n",
    "plt.ylabel('True Positive Rate')\n",
    "plt.title('ROC Curve')\n",
    "plt.legend(loc='lower right')\n",
    "plt.grid(True)\n",
    "plt.show()\n",
    "\n",
    "# Plot Confusion Matrix\n",
    "disp = ConfusionMatrixDisplay(confusion_matrix=cm)\n",
    "disp.plot(cmap=plt.cm.Blues)\n",
    "plt.title(f'Confusion Matrix at Threshold {best_thresh:.2f}')\n",
    "plt.grid(False)\n",
    "plt.show()\n"
   ]
  },
  {
   "cell_type": "code",
   "execution_count": 14,
   "id": "eea0ff6b",
   "metadata": {},
   "outputs": [
    {
     "name": "stdout",
     "output_type": "stream",
     "text": [
      "✅ Saved XGBoost validation probabilities to probs_xgb.pkl\n"
     ]
    }
   ],
   "source": [
    "import pickle\n",
    "\n",
    "# Save XGBoost probabilities on validation set\n",
    "with open(\"probs_xgb.pkl\", \"wb\") as f:\n",
    "    pickle.dump(y_val_prob, f)\n",
    "\n",
    "print(\"✅ Saved XGBoost validation probabilities to probs_xgb.pkl\")\n"
   ]
  },
  {
   "cell_type": "code",
   "execution_count": 15,
   "id": "55abc32c",
   "metadata": {},
   "outputs": [],
   "source": [
    "joblib.dump(xgb_model, \"xgb_model.pkl\")\n",
    "with open(\"xgb_thresh.pkl\", \"wb\") as f:\n",
    "    pickle.dump(best_thresh, f)\n"
   ]
  },
  {
   "cell_type": "markdown",
   "id": "ccb233a9",
   "metadata": {},
   "source": [
    "# ***LSTM***"
   ]
  },
  {
   "cell_type": "code",
   "execution_count": 39,
   "id": "c87777b6",
   "metadata": {},
   "outputs": [
    {
     "name": "stderr",
     "output_type": "stream",
     "text": [
      "Epoch 01: 100%|██████████| 84/84 [00:03<00:00, 25.64it/s]\n"
     ]
    },
    {
     "name": "stdout",
     "output_type": "stream",
     "text": [
      "Loss: 2.4046 | Acc: 0.9366 | AUC: 0.8907 | F1@best_thresh: 0.4033 | Prec: 0.3028 | Rec: 0.6038\n"
     ]
    },
    {
     "name": "stderr",
     "output_type": "stream",
     "text": [
      "Epoch 02: 100%|██████████| 84/84 [00:03<00:00, 25.64it/s]\n"
     ]
    },
    {
     "name": "stdout",
     "output_type": "stream",
     "text": [
      "Loss: 1.9737 | Acc: 0.9359 | AUC: 0.8960 | F1@best_thresh: 0.4067 | Prec: 0.3067 | Rec: 0.6038\n"
     ]
    },
    {
     "name": "stderr",
     "output_type": "stream",
     "text": [
      "Epoch 03: 100%|██████████| 84/84 [00:03<00:00, 25.97it/s]\n"
     ]
    },
    {
     "name": "stdout",
     "output_type": "stream",
     "text": [
      "Loss: 1.9097 | Acc: 0.9366 | AUC: 0.8986 | F1@best_thresh: 0.4061 | Prec: 0.2992 | Rec: 0.6318\n"
     ]
    },
    {
     "name": "stderr",
     "output_type": "stream",
     "text": [
      "Epoch 04: 100%|██████████| 84/84 [00:03<00:00, 26.54it/s]\n"
     ]
    },
    {
     "name": "stdout",
     "output_type": "stream",
     "text": [
      "Loss: 1.7866 | Acc: 0.9364 | AUC: 0.9006 | F1@best_thresh: 0.4168 | Prec: 0.3233 | Rec: 0.5862\n"
     ]
    },
    {
     "name": "stderr",
     "output_type": "stream",
     "text": [
      "Epoch 05: 100%|██████████| 84/84 [00:03<00:00, 23.83it/s]\n"
     ]
    },
    {
     "name": "stdout",
     "output_type": "stream",
     "text": [
      "Loss: 1.7614 | Acc: 0.9363 | AUC: 0.9068 | F1@best_thresh: 0.4407 | Prec: 0.3485 | Rec: 0.5994\n"
     ]
    },
    {
     "name": "stderr",
     "output_type": "stream",
     "text": [
      "Epoch 06: 100%|██████████| 84/84 [00:05<00:00, 16.39it/s]\n"
     ]
    },
    {
     "name": "stdout",
     "output_type": "stream",
     "text": [
      "Loss: 1.7485 | Acc: 0.9363 | AUC: 0.9066 | F1@best_thresh: 0.4386 | Prec: 0.3520 | Rec: 0.5817\n"
     ]
    },
    {
     "name": "stderr",
     "output_type": "stream",
     "text": [
      "Epoch 07: 100%|██████████| 84/84 [00:04<00:00, 17.47it/s]\n"
     ]
    },
    {
     "name": "stdout",
     "output_type": "stream",
     "text": [
      "Loss: 1.7705 | Acc: 0.9358 | AUC: 0.8950 | F1@best_thresh: 0.4277 | Prec: 0.3428 | Rec: 0.5685\n"
     ]
    },
    {
     "name": "stderr",
     "output_type": "stream",
     "text": [
      "Epoch 08: 100%|██████████| 84/84 [00:04<00:00, 17.05it/s]\n"
     ]
    },
    {
     "name": "stdout",
     "output_type": "stream",
     "text": [
      "Loss: 1.7031 | Acc: 0.9350 | AUC: 0.9061 | F1@best_thresh: 0.4345 | Prec: 0.3533 | Rec: 0.5641\n"
     ]
    },
    {
     "name": "stderr",
     "output_type": "stream",
     "text": [
      "Epoch 09: 100%|██████████| 84/84 [00:04<00:00, 17.05it/s]\n"
     ]
    },
    {
     "name": "stdout",
     "output_type": "stream",
     "text": [
      "Loss: 1.6488 | Acc: 0.9381 | AUC: 0.9046 | F1@best_thresh: 0.4350 | Prec: 0.3262 | Rec: 0.6524\n"
     ]
    },
    {
     "name": "stderr",
     "output_type": "stream",
     "text": [
      "Epoch 10: 100%|██████████| 84/84 [00:04<00:00, 17.19it/s]\n"
     ]
    },
    {
     "name": "stdout",
     "output_type": "stream",
     "text": [
      "Loss: 1.5875 | Acc: 0.9376 | AUC: 0.9100 | F1@best_thresh: 0.4572 | Prec: 0.3616 | Rec: 0.6215\n"
     ]
    },
    {
     "name": "stderr",
     "output_type": "stream",
     "text": [
      "Epoch 11: 100%|██████████| 84/84 [00:05<00:00, 16.75it/s]\n"
     ]
    },
    {
     "name": "stdout",
     "output_type": "stream",
     "text": [
      "Loss: 1.5700 | Acc: 0.9358 | AUC: 0.9102 | F1@best_thresh: 0.4469 | Prec: 0.3331 | Rec: 0.6789\n"
     ]
    },
    {
     "name": "stderr",
     "output_type": "stream",
     "text": [
      "Epoch 12: 100%|██████████| 84/84 [00:04<00:00, 17.49it/s]\n"
     ]
    },
    {
     "name": "stdout",
     "output_type": "stream",
     "text": [
      "Loss: 1.5658 | Acc: 0.9363 | AUC: 0.9107 | F1@best_thresh: 0.4614 | Prec: 0.3475 | Rec: 0.6863\n"
     ]
    },
    {
     "name": "stderr",
     "output_type": "stream",
     "text": [
      "Epoch 13: 100%|██████████| 84/84 [00:04<00:00, 17.08it/s]\n"
     ]
    },
    {
     "name": "stdout",
     "output_type": "stream",
     "text": [
      "Loss: 1.5598 | Acc: 0.9391 | AUC: 0.9115 | F1@best_thresh: 0.4584 | Prec: 0.3861 | Rec: 0.5641\n"
     ]
    },
    {
     "name": "stderr",
     "output_type": "stream",
     "text": [
      "Epoch 14: 100%|██████████| 84/84 [00:04<00:00, 17.23it/s]\n"
     ]
    },
    {
     "name": "stdout",
     "output_type": "stream",
     "text": [
      "Loss: 1.5024 | Acc: 0.9373 | AUC: 0.9038 | F1@best_thresh: 0.4598 | Prec: 0.3643 | Rec: 0.6230\n"
     ]
    },
    {
     "name": "stderr",
     "output_type": "stream",
     "text": [
      "Epoch 15: 100%|██████████| 84/84 [00:04<00:00, 17.68it/s]\n"
     ]
    },
    {
     "name": "stdout",
     "output_type": "stream",
     "text": [
      "Loss: 1.5462 | Acc: 0.9382 | AUC: 0.9097 | F1@best_thresh: 0.4551 | Prec: 0.3801 | Rec: 0.5670\n"
     ]
    },
    {
     "name": "stderr",
     "output_type": "stream",
     "text": [
      "Epoch 16: 100%|██████████| 84/84 [00:04<00:00, 18.10it/s]\n"
     ]
    },
    {
     "name": "stdout",
     "output_type": "stream",
     "text": [
      "Loss: 1.5106 | Acc: 0.9385 | AUC: 0.9083 | F1@best_thresh: 0.4602 | Prec: 0.3654 | Rec: 0.6215\n"
     ]
    },
    {
     "name": "stderr",
     "output_type": "stream",
     "text": [
      "Epoch 17: 100%|██████████| 84/84 [00:04<00:00, 17.70it/s]\n"
     ]
    },
    {
     "name": "stdout",
     "output_type": "stream",
     "text": [
      "Loss: 1.4009 | Acc: 0.9383 | AUC: 0.9086 | F1@best_thresh: 0.4659 | Prec: 0.3811 | Rec: 0.5994\n"
     ]
    },
    {
     "name": "stderr",
     "output_type": "stream",
     "text": [
      "Epoch 18: 100%|██████████| 84/84 [00:04<00:00, 17.31it/s]\n"
     ]
    },
    {
     "name": "stdout",
     "output_type": "stream",
     "text": [
      "Loss: 1.4486 | Acc: 0.9396 | AUC: 0.9090 | F1@best_thresh: 0.4719 | Prec: 0.3792 | Rec: 0.6244\n"
     ]
    },
    {
     "name": "stderr",
     "output_type": "stream",
     "text": [
      "Epoch 19: 100%|██████████| 84/84 [00:04<00:00, 17.20it/s]\n"
     ]
    },
    {
     "name": "stdout",
     "output_type": "stream",
     "text": [
      "Loss: 1.4822 | Acc: 0.9391 | AUC: 0.9061 | F1@best_thresh: 0.4645 | Prec: 0.3780 | Rec: 0.6024\n"
     ]
    },
    {
     "name": "stderr",
     "output_type": "stream",
     "text": [
      "Epoch 20: 100%|██████████| 84/84 [00:04<00:00, 17.60it/s]\n"
     ]
    },
    {
     "name": "stdout",
     "output_type": "stream",
     "text": [
      "Loss: 1.4168 | Acc: 0.9410 | AUC: 0.9066 | F1@best_thresh: 0.4680 | Prec: 0.4136 | Rec: 0.5390\n",
      "\n",
      "✅ Best F1-score: 0.4719 at epoch 18, threshold = 0.41\n"
     ]
    },
    {
     "data": {
      "image/png": "[encoded data removed]",
      "text/plain": [
       "<Figure size 640x480 with 2 Axes>"
      ]
     },
     "metadata": {},
     "output_type": "display_data"
    },
    {
     "data": {
      "image/png": "[encoded data removed]",
      "text/plain": [
       "<Figure size 640x480 with 1 Axes>"
      ]
     },
     "metadata": {},
     "output_type": "display_data"
    },
    {
     "name": "stdout",
     "output_type": "stream",
     "text": [
      "\n",
      "📊 Final Evaluation Metrics:\n",
      "Accuracy           : 0.9116\n",
      "AUC                : 0.9090\n",
      "F1 Score           : 0.4719\n",
      "Precision          : 0.3792\n",
      "Recall             : 0.6244\n",
      "Balanced Accuracy  : 0.7777\n",
      "Best Threshold     : 0.41\n"
     ]
    },
    {
     "data": {
      "image/png": "[encoded data removed]",
      "text/plain": [
       "<Figure size 640x480 with 1 Axes>"
      ]
     },
     "metadata": {},
     "output_type": "display_data"
    },
    {
     "name": "stdout",
     "output_type": "stream",
     "text": [
      "✅ Saved LSTM probabilities as probs_lstm.pkl\n"
     ]
    }
   ],
   "source": [
    "import torch\n",
    "import torch.nn as nn\n",
    "import numpy as np\n",
    "from sklearn.metrics import accuracy_score, f1_score, roc_auc_score, precision_score, recall_score, confusion_matrix\n",
    "from tqdm import tqdm\n",
    "import pickle\n",
    "import matplotlib.pyplot as plt\n",
    "import seaborn as sns\n",
    "\n",
    "device = torch.device(\"cuda\" if torch.cuda.is_available() else \"cpu\")\n",
    "\n",
    "# ==== Compute class imbalance weights for FocalLoss ====\n",
    "n_pos = (y_train == 1).sum()\n",
    "n_neg = (y_train == 0).sum()\n",
    "alpha_0 = n_neg / (n_pos + n_neg)  # class 0\n",
    "alpha_1 = n_pos / (n_pos + n_neg)  # class 1\n",
    "alpha = torch.tensor([alpha_0, alpha_1], dtype=torch.float32).to(device)\n",
    "\n",
    "# ==== Model, Loss, Optimizer, Scheduler ====\n",
    "model = ImprovedLSTM(input_size=X_train_ready.shape[2]).to(device)\n",
    "criterion = FocalLoss(alpha=alpha, gamma=2)\n",
    "optimizer = torch.optim.Adam(model.parameters(), lr=0.001)\n",
    "scheduler = torch.optim.lr_scheduler.ReduceLROnPlateau(optimizer, mode='max', factor=0.5, patience=3)\n",
    "\n",
    "# ==== Training Loop ====\n",
    "def train_model(train_loader, val_loader, model, criterion, optimizer, scheduler, max_epochs=20, patience=5):\n",
    "    def evaluate(model, dataloader):\n",
    "        model.eval()\n",
    "        y_true, y_prob = [], []\n",
    "        with torch.no_grad():\n",
    "            for X_batch, y_batch in dataloader:\n",
    "                X_batch = X_batch.to(device)\n",
    "                logits = model(X_batch)\n",
    "                probs = torch.sigmoid(logits).cpu().numpy()\n",
    "                y_prob.extend(probs)\n",
    "                y_true.extend(y_batch.numpy())\n",
    "        return np.array(y_true), np.array(y_prob)\n",
    "\n",
    "    best_f1, best_epoch, no_improve = 0, 0, 0\n",
    "    best_thresh = 0.5\n",
    "    all_metrics = {}\n",
    "\n",
    "    for epoch in range(1, max_epochs + 1):\n",
    "        model.train()\n",
    "        total_loss = 0\n",
    "        for X_batch, y_batch in tqdm(train_loader, desc=f\"Epoch {epoch:02d}\"):\n",
    "            X_batch = X_batch.to(device)\n",
    "            y_batch = y_batch.to(device)\n",
    "\n",
    "            optimizer.zero_grad()\n",
    "            logits = model(X_batch)\n",
    "            loss = criterion(logits, y_batch)\n",
    "            loss.backward()\n",
    "            optimizer.step()\n",
    "            total_loss += loss.item()\n",
    "\n",
    "        # === Validation evaluation ===\n",
    "        y_true, y_prob = evaluate(model, val_loader)\n",
    "        thresholds = np.linspace(0.1, 0.9, 81)\n",
    "        f1_scores = [f1_score(y_true, y_prob > t) for t in thresholds]\n",
    "        current_best_thresh = thresholds[np.argmax(f1_scores)]\n",
    "        current_f1 = max(f1_scores)\n",
    "        acc = accuracy_score(y_true, y_prob > 0.5)\n",
    "        auc = roc_auc_score(y_true, y_prob)\n",
    "        prec = precision_score(y_true, y_prob > current_best_thresh)\n",
    "        rec = recall_score(y_true, y_prob > current_best_thresh)\n",
    "\n",
    "        scheduler.step(current_f1)\n",
    "\n",
    "        print(f\"Loss: {total_loss:.4f} | Acc: {acc:.4f} | AUC: {auc:.4f} | F1@best_thresh: {current_f1:.4f} | Prec: {prec:.4f} | Rec: {rec:.4f}\")\n",
    "\n",
    "        # Save best model\n",
    "        if current_f1 > best_f1:\n",
    "            best_f1 = current_f1\n",
    "            best_thresh = current_best_thresh\n",
    "            best_epoch = epoch\n",
    "            no_improve = 0\n",
    "            torch.save(model.state_dict(), \"best_model_lstm.pth\")\n",
    "            with open(\"best_thresh.pkl\", \"wb\") as f:\n",
    "                pickle.dump(best_thresh, f)\n",
    "            all_metrics = {\n",
    "                'y_true': y_true,\n",
    "                'y_prob': y_prob,\n",
    "                'best_thresh': best_thresh\n",
    "            }\n",
    "        else:\n",
    "            no_improve += 1\n",
    "\n",
    "        if no_improve >= patience:\n",
    "            print(f\"⏹️ Early stopping at epoch {epoch}\")\n",
    "            break\n",
    "\n",
    "    print(f\"\\n✅ Best F1-score: {best_f1:.4f} at epoch {best_epoch}, threshold = {best_thresh:.2f}\")\n",
    "    return model, best_thresh, all_metrics\n",
    "\n",
    "# === Train ===\n",
    "trained_model, best_threshold, all_metrics = train_model(\n",
    "    train_loader, val_loader,\n",
    "    model, criterion, optimizer, scheduler,\n",
    "    max_epochs=20, patience=5\n",
    ")\n",
    "\n",
    "# === Final evaluation ===\n",
    "y_true = all_metrics['y_true']\n",
    "y_prob = all_metrics['y_prob']\n",
    "best_thresh = all_metrics['best_thresh']\n",
    "y_pred = (y_prob > best_thresh).astype(int)\n",
    "\n",
    "# === Confusion Matrix ===\n",
    "cm = confusion_matrix(y_true, y_pred)\n",
    "sns.heatmap(cm, annot=True, fmt='d', cmap='Blues')\n",
    "plt.title(\"Confusion Matrix\")\n",
    "plt.xlabel(\"Predicted\")\n",
    "plt.ylabel(\"True\")\n",
    "plt.show()\n",
    "\n",
    "# === Plot F1 vs threshold ===\n",
    "thresholds = np.linspace(0.1, 0.9, 81)\n",
    "f1s = [f1_score(y_true, y_prob > t) for t in thresholds]\n",
    "plt.plot(thresholds, f1s)\n",
    "plt.axvline(best_thresh, color='r', linestyle='--', label=f'Best Thresh = {best_thresh:.2f}')\n",
    "plt.title(\"F1 Score vs Threshold\")\n",
    "plt.xlabel(\"Threshold\")\n",
    "plt.ylabel(\"F1 Score\")\n",
    "plt.legend()\n",
    "plt.grid()\n",
    "plt.show()\n",
    "\n",
    "# === Additional Evaluation Metrics ===\n",
    "from sklearn.metrics import balanced_accuracy_score, roc_curve\n",
    "\n",
    "acc = accuracy_score(y_true, y_pred)\n",
    "auc = roc_auc_score(y_true, y_prob)\n",
    "f1 = f1_score(y_true, y_pred)\n",
    "prec = precision_score(y_true, y_pred)\n",
    "rec = recall_score(y_true, y_pred)\n",
    "bal_acc = balanced_accuracy_score(y_true, y_pred)\n",
    "\n",
    "print(\"\\n📊 Final Evaluation Metrics:\")\n",
    "print(f\"Accuracy           : {acc:.4f}\")\n",
    "print(f\"AUC                : {auc:.4f}\")\n",
    "print(f\"F1 Score           : {f1:.4f}\")\n",
    "print(f\"Precision          : {prec:.4f}\")\n",
    "print(f\"Recall             : {rec:.4f}\")\n",
    "print(f\"Balanced Accuracy  : {bal_acc:.4f}\")\n",
    "print(f\"Best Threshold     : {best_thresh:.2f}\")\n",
    "\n",
    "\n",
    "# === Plot ROC Curve ===\n",
    "from sklearn.metrics import roc_curve\n",
    "\n",
    "fpr, tpr, _ = roc_curve(y_true, y_prob)\n",
    "plt.figure()\n",
    "plt.plot(fpr, tpr, label=f\"AUC = {auc:.4f}\")\n",
    "plt.plot([0, 1], [0, 1], 'k--')\n",
    "plt.title(\"ROC Curve\")\n",
    "plt.xlabel(\"False Positive Rate\")\n",
    "plt.ylabel(\"True Positive Rate\")\n",
    "plt.legend(loc=\"lower right\")\n",
    "plt.grid()\n",
    "plt.show()\n",
    "\n",
    "\n",
    "# === Save LSTM probs for fusion ===\n",
    "with open(\"probs_lstm.pkl\", \"wb\") as f:\n",
    "    pickle.dump(y_prob, f)\n",
    "print(\"✅ Saved LSTM probabilities as probs_lstm.pkl\")\n"
   ]
  },
  {
   "cell_type": "code",
   "execution_count": null,
   "id": "0c50bbe3",
   "metadata": {},
   "outputs": [],
   "source": []
  },
  {
   "cell_type": "markdown",
   "id": "ff90b3c7",
   "metadata": {},
   "source": [
    "# ***CNN***"
   ]
  },
  {
   "cell_type": "code",
   "execution_count": 41,
   "id": "1b2c3f0d",
   "metadata": {},
   "outputs": [],
   "source": [
    "import torch\n",
    "import torch.nn as nn\n",
    "import torch.nn.functional as F\n",
    "\n",
    "class TimeSeriesCNN(nn.Module):\n",
    "    def __init__(self, input_size, num_filters=64, kernel_size=3, dropout=0.3):\n",
    "        super(TimeSeriesCNN, self).__init__()\n",
    "\n",
    "        self.conv1 = nn.Conv1d(in_channels=input_size, out_channels=num_filters, kernel_size=kernel_size, padding=1)\n",
    "        self.bn1 = nn.BatchNorm1d(num_filters)\n",
    "\n",
    "        self.conv2 = nn.Conv1d(in_channels=num_filters, out_channels=num_filters, kernel_size=kernel_size, padding=1)\n",
    "        self.bn2 = nn.BatchNorm1d(num_filters)\n",
    "\n",
    "        self.global_pool = nn.AdaptiveAvgPool1d(1)\n",
    "        self.dropout = nn.Dropout(dropout)\n",
    "\n",
    "        self.head = nn.Sequential(\n",
    "            nn.Linear(num_filters, 128),\n",
    "            nn.ReLU(),\n",
    "            nn.Dropout(dropout),\n",
    "            nn.Linear(128, 1)\n",
    "        )\n",
    "\n",
    "    def forward(self, x):\n",
    "        # x shape: (batch, time, features)\n",
    "        x = x.permute(0, 2, 1)  # → (batch, features, time)\n",
    "        x = F.relu(self.bn1(self.conv1(x)))\n",
    "        x = F.relu(self.bn2(self.conv2(x)))\n",
    "        x = self.global_pool(x).squeeze(-1)  # → (batch, num_filters)\n",
    "        x = self.dropout(x)\n",
    "        logits = self.head(x)\n",
    "        return logits.squeeze()\n"
   ]
  },
  {
   "cell_type": "code",
   "execution_count": 51,
   "id": "f6770976",
   "metadata": {},
   "outputs": [
    {
     "name": "stderr",
     "output_type": "stream",
     "text": [
      "Epoch 01: 100%|██████████| 84/84 [00:00<00:00, 116.11it/s]\n"
     ]
    },
    {
     "name": "stdout",
     "output_type": "stream",
     "text": [
      "Loss: 2.4480 | Acc: 0.9362 | AUC: 0.8855 | F1: 0.3914 | Prec: 0.3118 | Rec: 0.5258\n"
     ]
    },
    {
     "name": "stderr",
     "output_type": "stream",
     "text": [
      "Epoch 02: 100%|██████████| 84/84 [00:00<00:00, 117.45it/s]\n"
     ]
    },
    {
     "name": "stdout",
     "output_type": "stream",
     "text": [
      "Loss: 1.9760 | Acc: 0.9368 | AUC: 0.8966 | F1: 0.4118 | Prec: 0.3238 | Rec: 0.5655\n"
     ]
    },
    {
     "name": "stderr",
     "output_type": "stream",
     "text": [
      "Epoch 03: 100%|██████████| 84/84 [00:00<00:00, 111.64it/s]\n"
     ]
    },
    {
     "name": "stdout",
     "output_type": "stream",
     "text": [
      "Loss: 1.8711 | Acc: 0.9367 | AUC: 0.9024 | F1: 0.4300 | Prec: 0.3381 | Rec: 0.5906\n"
     ]
    },
    {
     "name": "stderr",
     "output_type": "stream",
     "text": [
      "Epoch 04: 100%|██████████| 84/84 [00:00<00:00, 123.25it/s]\n"
     ]
    },
    {
     "name": "stdout",
     "output_type": "stream",
     "text": [
      "Loss: 1.8976 | Acc: 0.9367 | AUC: 0.9039 | F1: 0.4288 | Prec: 0.3234 | Rec: 0.6362\n"
     ]
    },
    {
     "name": "stderr",
     "output_type": "stream",
     "text": [
      "Epoch 05: 100%|██████████| 84/84 [00:00<00:00, 123.42it/s]\n"
     ]
    },
    {
     "name": "stdout",
     "output_type": "stream",
     "text": [
      "Loss: 1.7815 | Acc: 0.9369 | AUC: 0.9047 | F1: 0.4304 | Prec: 0.3992 | Rec: 0.4669\n"
     ]
    },
    {
     "name": "stderr",
     "output_type": "stream",
     "text": [
      "Epoch 06: 100%|██████████| 84/84 [00:00<00:00, 114.67it/s]\n"
     ]
    },
    {
     "name": "stdout",
     "output_type": "stream",
     "text": [
      "Loss: 1.7542 | Acc: 0.9365 | AUC: 0.9005 | F1: 0.4184 | Prec: 0.3165 | Rec: 0.6171\n"
     ]
    },
    {
     "name": "stderr",
     "output_type": "stream",
     "text": [
      "Epoch 07: 100%|██████████| 84/84 [00:00<00:00, 113.10it/s]\n"
     ]
    },
    {
     "name": "stdout",
     "output_type": "stream",
     "text": [
      "Loss: 1.7594 | Acc: 0.9370 | AUC: 0.9046 | F1: 0.4323 | Prec: 0.3410 | Rec: 0.5906\n"
     ]
    },
    {
     "name": "stderr",
     "output_type": "stream",
     "text": [
      "Epoch 08: 100%|██████████| 84/84 [00:00<00:00, 123.58it/s]\n"
     ]
    },
    {
     "name": "stdout",
     "output_type": "stream",
     "text": [
      "Loss: 1.7550 | Acc: 0.9365 | AUC: 0.9056 | F1: 0.4257 | Prec: 0.3241 | Rec: 0.6200\n"
     ]
    },
    {
     "name": "stderr",
     "output_type": "stream",
     "text": [
      "Epoch 09: 100%|██████████| 84/84 [00:00<00:00, 125.94it/s]\n"
     ]
    },
    {
     "name": "stdout",
     "output_type": "stream",
     "text": [
      "Loss: 1.7098 | Acc: 0.9374 | AUC: 0.9072 | F1: 0.4364 | Prec: 0.3261 | Rec: 0.6598\n"
     ]
    },
    {
     "name": "stderr",
     "output_type": "stream",
     "text": [
      "Epoch 10: 100%|██████████| 84/84 [00:00<00:00, 104.09it/s]\n"
     ]
    },
    {
     "name": "stdout",
     "output_type": "stream",
     "text": [
      "Loss: 1.7514 | Acc: 0.9378 | AUC: 0.9101 | F1: 0.4455 | Prec: 0.4102 | Rec: 0.4875\n"
     ]
    },
    {
     "name": "stderr",
     "output_type": "stream",
     "text": [
      "Epoch 11: 100%|██████████| 84/84 [00:00<00:00, 123.35it/s]\n"
     ]
    },
    {
     "name": "stdout",
     "output_type": "stream",
     "text": [
      "Loss: 1.7324 | Acc: 0.9378 | AUC: 0.9043 | F1: 0.4299 | Prec: 0.3189 | Rec: 0.6598\n"
     ]
    },
    {
     "name": "stderr",
     "output_type": "stream",
     "text": [
      "Epoch 12: 100%|██████████| 84/84 [00:00<00:00, 130.26it/s]\n"
     ]
    },
    {
     "name": "stdout",
     "output_type": "stream",
     "text": [
      "Loss: 1.6501 | Acc: 0.9390 | AUC: 0.9098 | F1: 0.4362 | Prec: 0.3134 | Rec: 0.7172\n"
     ]
    },
    {
     "name": "stderr",
     "output_type": "stream",
     "text": [
      "Epoch 13: 100%|██████████| 84/84 [00:00<00:00, 125.58it/s]\n"
     ]
    },
    {
     "name": "stdout",
     "output_type": "stream",
     "text": [
      "Loss: 1.6638 | Acc: 0.9363 | AUC: 0.9117 | F1: 0.4392 | Prec: 0.3620 | Rec: 0.5582\n"
     ]
    },
    {
     "name": "stderr",
     "output_type": "stream",
     "text": [
      "Epoch 14: 100%|██████████| 84/84 [00:00<00:00, 114.53it/s]\n"
     ]
    },
    {
     "name": "stdout",
     "output_type": "stream",
     "text": [
      "Loss: 1.6722 | Acc: 0.9382 | AUC: 0.9121 | F1: 0.4494 | Prec: 0.3685 | Rec: 0.5758\n"
     ]
    },
    {
     "name": "stderr",
     "output_type": "stream",
     "text": [
      "Epoch 15: 100%|██████████| 84/84 [00:00<00:00, 127.30it/s]\n"
     ]
    },
    {
     "name": "stdout",
     "output_type": "stream",
     "text": [
      "Loss: 1.6733 | Acc: 0.9391 | AUC: 0.9102 | F1: 0.4460 | Prec: 0.3694 | Rec: 0.5626\n"
     ]
    },
    {
     "name": "stderr",
     "output_type": "stream",
     "text": [
      "Epoch 16: 100%|██████████| 84/84 [00:00<00:00, 126.44it/s]\n"
     ]
    },
    {
     "name": "stdout",
     "output_type": "stream",
     "text": [
      "Loss: 1.6954 | Acc: 0.9387 | AUC: 0.9107 | F1: 0.4493 | Prec: 0.4000 | Rec: 0.5125\n"
     ]
    },
    {
     "name": "stderr",
     "output_type": "stream",
     "text": [
      "Epoch 17: 100%|██████████| 84/84 [00:00<00:00, 117.30it/s]\n"
     ]
    },
    {
     "name": "stdout",
     "output_type": "stream",
     "text": [
      "Loss: 1.6381 | Acc: 0.9381 | AUC: 0.9119 | F1: 0.4583 | Prec: 0.3640 | Rec: 0.6186\n"
     ]
    },
    {
     "name": "stderr",
     "output_type": "stream",
     "text": [
      "Epoch 18: 100%|██████████| 84/84 [00:00<00:00, 92.57it/s] \n"
     ]
    },
    {
     "name": "stdout",
     "output_type": "stream",
     "text": [
      "Loss: 1.6361 | Acc: 0.9407 | AUC: 0.9133 | F1: 0.4715 | Prec: 0.3893 | Rec: 0.5979\n"
     ]
    },
    {
     "name": "stderr",
     "output_type": "stream",
     "text": [
      "Epoch 19: 100%|██████████| 84/84 [00:00<00:00, 96.22it/s]\n"
     ]
    },
    {
     "name": "stdout",
     "output_type": "stream",
     "text": [
      "Loss: 1.6128 | Acc: 0.9402 | AUC: 0.9069 | F1: 0.4426 | Prec: 0.3768 | Rec: 0.5361\n"
     ]
    },
    {
     "name": "stderr",
     "output_type": "stream",
     "text": [
      "Epoch 20: 100%|██████████| 84/84 [00:00<00:00, 89.64it/s]\n"
     ]
    },
    {
     "name": "stdout",
     "output_type": "stream",
     "text": [
      "Loss: 1.5967 | Acc: 0.9408 | AUC: 0.9112 | F1: 0.4429 | Prec: 0.3593 | Rec: 0.5773\n"
     ]
    },
    {
     "name": "stderr",
     "output_type": "stream",
     "text": [
      "Epoch 21: 100%|██████████| 84/84 [00:01<00:00, 82.83it/s]\n"
     ]
    },
    {
     "name": "stdout",
     "output_type": "stream",
     "text": [
      "Loss: 1.6581 | Acc: 0.9411 | AUC: 0.9113 | F1: 0.4487 | Prec: 0.4212 | Rec: 0.4801\n"
     ]
    },
    {
     "name": "stderr",
     "output_type": "stream",
     "text": [
      "Epoch 22: 100%|██████████| 84/84 [00:00<00:00, 98.51it/s] \n"
     ]
    },
    {
     "name": "stdout",
     "output_type": "stream",
     "text": [
      "Loss: 1.5257 | Acc: 0.9419 | AUC: 0.9079 | F1: 0.4497 | Prec: 0.3714 | Rec: 0.5700\n"
     ]
    },
    {
     "name": "stderr",
     "output_type": "stream",
     "text": [
      "Epoch 23: 100%|██████████| 84/84 [00:00<00:00, 84.25it/s]\n"
     ]
    },
    {
     "name": "stdout",
     "output_type": "stream",
     "text": [
      "Loss: 1.5520 | Acc: 0.9421 | AUC: 0.9130 | F1: 0.4596 | Prec: 0.4432 | Rec: 0.4772\n",
      "⏹️ Early stopping at epoch 23\n",
      "\n",
      "✅ Best F1-score: 0.4715 at epoch 18 | Best threshold: 0.42\n"
     ]
    },
    {
     "data": {
      "image/png": "[encoded data removed]",
      "text/plain": [
       "<Figure size 640x480 with 2 Axes>"
      ]
     },
     "metadata": {},
     "output_type": "display_data"
    },
    {
     "data": {
      "image/png": "[encoded data removed]",
      "text/plain": [
       "<Figure size 640x480 with 1 Axes>"
      ]
     },
     "metadata": {},
     "output_type": "display_data"
    },
    {
     "data": {
      "image/png": "[encoded data removed]",
      "text/plain": [
       "<Figure size 640x480 with 1 Axes>"
      ]
     },
     "metadata": {},
     "output_type": "display_data"
    },
    {
     "name": "stdout",
     "output_type": "stream",
     "text": [
      "\n",
      "📊 CNN Final Evaluation Metrics:\n",
      "Accuracy           : 0.9152\n",
      "AUC                : 0.9133\n",
      "F1 Score           : 0.4715\n",
      "Precision          : 0.3893\n",
      "Recall             : 0.5979\n",
      "Balanced Accuracy  : 0.7673\n",
      "Best Threshold     : 0.42\n"
     ]
    }
   ],
   "source": [
    "\n",
    "# === CNN Training Function ===\n",
    "def train_model(train_loader, val_loader, y_train):\n",
    "    model = TimeSeriesCNN(input_size=X_train_ready.shape[2]).to(device)\n",
    "\n",
    "    # Class imbalance handling for focal loss\n",
    "    n_pos = (y_train == 1).sum()\n",
    "    n_neg = (y_train == 0).sum()\n",
    "    alpha = torch.tensor([\n",
    "        n_neg / (n_pos + n_neg),\n",
    "        n_pos / (n_pos + n_neg)\n",
    "    ], dtype=torch.float32).to(device)\n",
    "\n",
    "    criterion = FocalLoss(alpha=alpha, gamma=2)\n",
    "    optimizer = torch.optim.Adam(model.parameters(), lr=0.001)\n",
    "    scheduler = torch.optim.lr_scheduler.ReduceLROnPlateau(optimizer, mode='max', factor=0.5, patience=3)\n",
    "\n",
    "    def evaluate(model, dataloader):\n",
    "        model.eval()\n",
    "        y_true, y_prob = [], []\n",
    "        with torch.no_grad():\n",
    "            for X_batch, y_batch in dataloader:\n",
    "                X_batch = X_batch.to(device)\n",
    "                logits = model(X_batch)\n",
    "                probs = torch.sigmoid(logits).cpu().numpy()\n",
    "                y_prob.extend(probs)\n",
    "                y_true.extend(y_batch.numpy())\n",
    "        return np.array(y_true), np.array(y_prob)\n",
    "\n",
    "    best_f1, best_epoch, best_thresh = 0, 0, 0.5\n",
    "    no_improve = 0\n",
    "    patience = 5\n",
    "    probs_cnn = None\n",
    "\n",
    "    for epoch in range(1, 31):\n",
    "        model.train()\n",
    "        total_loss = 0\n",
    "        for X_batch, y_batch in tqdm(train_loader, desc=f\"Epoch {epoch:02d}\"):\n",
    "            X_batch = X_batch.to(device)\n",
    "            y_batch = y_batch.to(device)\n",
    "            optimizer.zero_grad()\n",
    "            logits = model(X_batch)\n",
    "            loss = criterion(logits, y_batch)\n",
    "            loss.backward()\n",
    "            optimizer.step()\n",
    "            total_loss += loss.item()\n",
    "\n",
    "        # Evaluate\n",
    "        y_true, y_prob = evaluate(model, val_loader)\n",
    "        thresholds = np.linspace(0.1, 0.9, 81)\n",
    "        f1s = [f1_score(y_true, y_prob > t) for t in thresholds]\n",
    "        current_thresh = thresholds[np.argmax(f1s)]\n",
    "        current_f1 = max(f1s)\n",
    "        acc = accuracy_score(y_true, y_prob > 0.5)\n",
    "        auc = roc_auc_score(y_true, y_prob)\n",
    "        prec = precision_score(y_true, y_prob > current_thresh)\n",
    "        rec = recall_score(y_true, y_prob > current_thresh)\n",
    "\n",
    "        print(f\"Loss: {total_loss:.4f} | Acc: {acc:.4f} | AUC: {auc:.4f} | F1: {current_f1:.4f} | Prec: {prec:.4f} | Rec: {rec:.4f}\")\n",
    "\n",
    "        # Save best\n",
    "        if current_f1 > best_f1:\n",
    "            best_f1 = current_f1\n",
    "            best_thresh = current_thresh\n",
    "            best_epoch = epoch\n",
    "            no_improve = 0\n",
    "            probs_cnn = y_prob\n",
    "            torch.save(model.state_dict(), \"best_model_cnn.pth\")\n",
    "            with open(\"best_thresh_cnn.pkl\", \"wb\") as f:\n",
    "                pickle.dump(best_thresh, f)\n",
    "            with open(\"probs_cnn.pkl\", \"wb\") as f:  # ✅ Save the correct CNN probs\n",
    "                pickle.dump(probs_cnn, f)\n",
    "        else:\n",
    "            no_improve += 1\n",
    "\n",
    "        scheduler.step(current_f1)\n",
    "\n",
    "        if no_improve >= patience:\n",
    "            print(f\"⏹️ Early stopping at epoch {epoch}\")\n",
    "            break\n",
    "\n",
    "    print(f\"\\n✅ Best F1-score: {best_f1:.4f} at epoch {best_epoch} | Best threshold: {best_thresh:.2f}\")\n",
    "    return model, best_thresh, probs_cnn\n",
    "\n",
    "trained_cnn, threshold_cnn, probs_cnn = train_model(train_loader, val_loader, y_train)\n",
    "\n",
    "from sklearn.metrics import (\n",
    "    accuracy_score, f1_score, roc_auc_score, precision_score, \n",
    "    recall_score, confusion_matrix, balanced_accuracy_score, roc_curve\n",
    ")\n",
    "import matplotlib.pyplot as plt\n",
    "import seaborn as sns\n",
    "import pickle\n",
    "import numpy as np\n",
    "\n",
    "# === Final evaluation for CNN ===\n",
    "y_true, y_prob = all_metrics['y_true'], probs_cnn\n",
    "y_pred = (y_prob > threshold_cnn).astype(int)\n",
    "\n",
    "# === Confusion Matrix ===\n",
    "cm = confusion_matrix(y_true, y_pred)\n",
    "sns.heatmap(cm, annot=True, fmt='d', cmap='Blues')\n",
    "plt.title(\"CNN - Confusion Matrix\")\n",
    "plt.xlabel(\"Predicted\")\n",
    "plt.ylabel(\"True\")\n",
    "plt.show()\n",
    "\n",
    "# === F1 vs Threshold Plot ===\n",
    "thresholds = np.linspace(0.1, 0.9, 81)\n",
    "f1s = [f1_score(y_true, y_prob > t) for t in thresholds]\n",
    "plt.plot(thresholds, f1s)\n",
    "plt.axvline(threshold_cnn, color='r', linestyle='--', label=f'Best Thresh = {threshold_cnn:.2f}')\n",
    "plt.title(\"CNN - F1 Score vs Threshold\")\n",
    "plt.xlabel(\"Threshold\")\n",
    "plt.ylabel(\"F1 Score\")\n",
    "plt.legend()\n",
    "plt.grid()\n",
    "plt.show()\n",
    "\n",
    "# === ROC Curve ===\n",
    "fpr, tpr, _ = roc_curve(y_true, y_prob)\n",
    "auc_score = roc_auc_score(y_true, y_prob)\n",
    "plt.plot(fpr, tpr, label=f\"AUC = {auc_score:.4f}\")\n",
    "plt.plot([0, 1], [0, 1], 'k--')\n",
    "plt.title(\"CNN - ROC Curve\")\n",
    "plt.xlabel(\"False Positive Rate\")\n",
    "plt.ylabel(\"True Positive Rate\")\n",
    "plt.legend(loc=\"lower right\")\n",
    "plt.grid()\n",
    "plt.show()\n",
    "\n",
    "# === Print Evaluation Metrics ===\n",
    "acc = accuracy_score(y_true, y_pred)\n",
    "auc = roc_auc_score(y_true, y_prob)\n",
    "f1 = f1_score(y_true, y_pred)\n",
    "prec = precision_score(y_true, y_pred)\n",
    "rec = recall_score(y_true, y_pred)\n",
    "bal_acc = balanced_accuracy_score(y_true, y_pred)\n",
    "\n",
    "print(\"\\n📊 CNN Final Evaluation Metrics:\")\n",
    "print(f\"Accuracy           : {acc:.4f}\")\n",
    "print(f\"AUC                : {auc:.4f}\")\n",
    "print(f\"F1 Score           : {f1:.4f}\")\n",
    "print(f\"Precision          : {prec:.4f}\")\n",
    "print(f\"Recall             : {rec:.4f}\")\n",
    "print(f\"Balanced Accuracy  : {bal_acc:.4f}\")\n",
    "print(f\"Best Threshold     : {threshold_cnn:.2f}\")\n"
   ]
  },
  {
   "cell_type": "markdown",
   "id": "51757369",
   "metadata": {},
   "source": [
    "# ***fusion***"
   ]
  },
  {
   "cell_type": "code",
   "execution_count": 52,
   "id": "e0248dff",
   "metadata": {},
   "outputs": [],
   "source": [
    "with open(\"probs_lstm.pkl\", \"rb\") as f:\n",
    "    probs_lstm = pickle.load(f)\n"
   ]
  },
  {
   "cell_type": "code",
   "execution_count": 56,
   "id": "f6936702",
   "metadata": {},
   "outputs": [
    {
     "name": "stdout",
     "output_type": "stream",
     "text": [
      "🎯 Best F1 Score:     0.4946\n",
      "📈 Best AUC:          0.9230\n",
      "🎯 Best Precision:    0.4039\n",
      "⚖️  Best weights -> LSTM: 0.50 | CNN: 0.20 | XGB: 0.30\n",
      "📏 Best threshold:    0.52\n",
      "✅ Saved fusion_weights.pkl and fusion_thresh.pkl\n"
     ]
    },
    {
     "data": {
      "image/png": "[encoded data removed]",
      "text/plain": [
       "<Figure size 640x480 with 2 Axes>"
      ]
     },
     "metadata": {},
     "output_type": "display_data"
    },
    {
     "data": {
      "image/png": "[encoded data removed]",
      "text/plain": [
       "<Figure size 640x480 with 1 Axes>"
      ]
     },
     "metadata": {},
     "output_type": "display_data"
    },
    {
     "data": {
      "image/png": "[encoded data removed]",
      "text/plain": [
       "<Figure size 640x480 with 1 Axes>"
      ]
     },
     "metadata": {},
     "output_type": "display_data"
    },
    {
     "name": "stdout",
     "output_type": "stream",
     "text": [
      "\n",
      "📊 Fusion Final Evaluation Metrics:\n",
      "Accuracy           : 0.9175\n",
      "AUC                : 0.9230\n",
      "F1 Score           : 0.4946\n",
      "Precision          : 0.4039\n",
      "Recall             : 0.6377\n",
      "Balanced Accuracy  : 0.7871\n",
      "Best Threshold     : 0.52\n",
      "Weights (LSTM, CNN, XGB): (np.float64(0.5), np.float64(0.2), np.float64(0.3))\n"
     ]
    }
   ],
   "source": [
    "import numpy as np\n",
    "import pickle\n",
    "from sklearn.metrics import f1_score\n",
    "import numpy as np\n",
    "import pickle\n",
    "from sklearn.metrics import f1_score, precision_score, roc_auc_score\n",
    "\n",
    "# Charger les probabilités de validation\n",
    "with open(\"probs_lstm.pkl\", \"rb\") as f:\n",
    "    probs_lstm = pickle.load(f)\n",
    "\n",
    "with open(\"probs_cnn.pkl\", \"rb\") as f:\n",
    "    probs_cnn = pickle.load(f)\n",
    "\n",
    "with open(\"probs_xgb.pkl\", \"rb\") as f:\n",
    "    probs_xgb = pickle.load(f)\n",
    "\n",
    "y_true = y_val\n",
    "#Recherche des meilleurs poids et seuil\n",
    "thresholds = np.linspace(0.1, 0.9, 81)\n",
    "best_f1 = 0\n",
    "best_w = (1/3, 1/3, 1/3)\n",
    "best_thresh = 0.5\n",
    "best_auc = 0\n",
    "best_precision = 0\n",
    "\n",
    "for w_lstm in np.linspace(0, 1, 11):\n",
    "    for w_cnn in np.linspace(0, 1 - w_lstm, 11):\n",
    "        w_xgb = 1.0 - w_lstm - w_cnn\n",
    "        if w_xgb < 0 or w_xgb > 1:\n",
    "            continue\n",
    "\n",
    "        fused_probs = (\n",
    "            w_lstm * probs_lstm +\n",
    "            w_cnn * probs_cnn +\n",
    "            w_xgb * probs_xgb\n",
    "        )\n",
    "\n",
    "        for t in thresholds:\n",
    "            preds = (fused_probs > t).astype(int)\n",
    "            f1 = f1_score(y_true, preds)\n",
    "            precision = precision_score(y_true, preds, zero_division=0)\n",
    "            try:\n",
    "                auc = roc_auc_score(y_true, fused_probs)\n",
    "            except ValueError:\n",
    "                auc = 0.0  # In case y_true contains only one class\n",
    "\n",
    "            if f1 > best_f1:\n",
    "                best_f1 = f1\n",
    "                best_auc = auc\n",
    "                best_precision = precision\n",
    "                best_w = (w_lstm, w_cnn, w_xgb)\n",
    "                best_thresh = t\n",
    "\n",
    "# Résultats\n",
    "print(f\"🎯 Best F1 Score:     {best_f1:.4f}\")\n",
    "print(f\"📈 Best AUC:          {best_auc:.4f}\")\n",
    "print(f\"🎯 Best Precision:    {best_precision:.4f}\")\n",
    "print(f\"⚖️  Best weights -> LSTM: {best_w[0]:.2f} | CNN: {best_w[1]:.2f} | XGB: {best_w[2]:.2f}\")\n",
    "print(f\"📏 Best threshold:    {best_thresh:.2f}\")\n",
    "\n",
    "# Sauvegarde\n",
    "with open(\"fusion_weights.pkl\", \"wb\") as f:\n",
    "    pickle.dump(best_w, f)\n",
    "\n",
    "with open(\"fusion_thresh.pkl\", \"wb\") as f:\n",
    "    pickle.dump(best_thresh, f)\n",
    "\n",
    "print(\"✅ Saved fusion_weights.pkl and fusion_thresh.pkl\")\n",
    "\n",
    "from sklearn.metrics import (\n",
    "    accuracy_score, recall_score, balanced_accuracy_score,\n",
    "    confusion_matrix, roc_curve\n",
    ")\n",
    "import matplotlib.pyplot as plt\n",
    "import seaborn as sns\n",
    "\n",
    "# === Final prediction with best weights and threshold ===\n",
    "fused_probs = (\n",
    "    best_w[0] * probs_lstm +\n",
    "    best_w[1] * probs_cnn +\n",
    "    best_w[2] * probs_xgb\n",
    ")\n",
    "y_pred = (fused_probs > best_thresh).astype(int)\n",
    "\n",
    "# === Confusion Matrix ===\n",
    "cm = confusion_matrix(y_true, y_pred)\n",
    "sns.heatmap(cm, annot=True, fmt='d', cmap='Blues')\n",
    "plt.title(\"Fusion - Confusion Matrix\")\n",
    "plt.xlabel(\"Predicted\")\n",
    "plt.ylabel(\"True\")\n",
    "plt.show()\n",
    "\n",
    "# === F1 vs Threshold Plot ===\n",
    "thresholds = np.linspace(0.1, 0.9, 81)\n",
    "f1s = [f1_score(y_true, fused_probs > t) for t in thresholds]\n",
    "plt.plot(thresholds, f1s)\n",
    "plt.axvline(best_thresh, color='r', linestyle='--', label=f'Best Thresh = {best_thresh:.2f}')\n",
    "plt.title(\"Fusion - F1 Score vs Threshold\")\n",
    "plt.xlabel(\"Threshold\")\n",
    "plt.ylabel(\"F1 Score\")\n",
    "plt.legend()\n",
    "plt.grid()\n",
    "plt.show()\n",
    "\n",
    "# === ROC Curve ===\n",
    "fpr, tpr, _ = roc_curve(y_true, fused_probs)\n",
    "auc_score = roc_auc_score(y_true, fused_probs)\n",
    "plt.plot(fpr, tpr, label=f\"AUC = {auc_score:.4f}\")\n",
    "plt.plot([0, 1], [0, 1], 'k--')\n",
    "plt.title(\"Fusion - ROC Curve\")\n",
    "plt.xlabel(\"False Positive Rate\")\n",
    "plt.ylabel(\"True Positive Rate\")\n",
    "plt.legend(loc=\"lower right\")\n",
    "plt.grid()\n",
    "plt.show()\n",
    "\n",
    "# === Print Final Metrics ===\n",
    "acc = accuracy_score(y_true, y_pred)\n",
    "auc = roc_auc_score(y_true, fused_probs)\n",
    "f1 = f1_score(y_true, y_pred)\n",
    "prec = precision_score(y_true, y_pred)\n",
    "rec = recall_score(y_true, y_pred)\n",
    "bal_acc = balanced_accuracy_score(y_true, y_pred)\n",
    "\n",
    "print(\"\\n📊 Fusion Final Evaluation Metrics:\")\n",
    "print(f\"Accuracy           : {acc:.4f}\")\n",
    "print(f\"AUC                : {auc:.4f}\")\n",
    "print(f\"F1 Score           : {f1:.4f}\")\n",
    "print(f\"Precision          : {prec:.4f}\")\n",
    "print(f\"Recall             : {rec:.4f}\")\n",
    "print(f\"Balanced Accuracy  : {bal_acc:.4f}\")\n",
    "print(f\"Best Threshold     : {best_thresh:.2f}\")\n",
    "print(f\"Weights (LSTM, CNN, XGB): {best_w}\")\n"
   ]
  },
  {
   "cell_type": "code",
   "execution_count": 57,
   "id": "916a63ca",
   "metadata": {},
   "outputs": [
    {
     "name": "stdout",
     "output_type": "stream",
     "text": [
      "✅ Submission saved as final_submission.csv\n"
     ]
    }
   ],
   "source": [
    "import torch\n",
    "import torch.nn as nn\n",
    "import numpy as np\n",
    "import pandas as pd\n",
    "import joblib\n",
    "import pickle\n",
    "from torch.utils.data import Dataset, DataLoader\n",
    "from xgboost import XGBClassifier\n",
    "\n",
    "# ==== Load preprocessing artifacts ====\n",
    "scaler = joblib.load(\"scaler.pkl\")\n",
    "\n",
    "with open(\"fusion_weights.pkl\", \"rb\") as f:\n",
    "    best_w = pickle.load(f)  # (w_lstm, w_cnn, w_xgb)\n",
    "\n",
    "with open(\"fusion_thresh.pkl\", \"rb\") as f:\n",
    "    best_thresh = pickle.load(f)\n",
    "\n",
    "# ==== Load and preprocess test data ====\n",
    "data_test = np.load(\"evaluation_data.npz\", allow_pickle=True)\n",
    "X_test = np.array(data_test[\"data\"], dtype=np.float32)\n",
    "\n",
    "# Load training stats (from memory or reload)\n",
    "global_means = np.nanmean(X_train, axis=(0, 1))\n",
    "clip_means = np.mean(X_train_filled, axis=(0, 1))\n",
    "clip_stds = np.std(X_train_filled, axis=(0, 1))\n",
    "# Apply the same column selection to X_test\n",
    "\n",
    "\n",
    "X_test_ready = apply_pipeline_to_val(X_test, global_means, scaler, clip_means, clip_stds)\n",
    "\n",
    "# ==== Prepare PyTorch loader for LSTM and CNN ====\n",
    "class TestDataset(Dataset):\n",
    "    def __init__(self, X):\n",
    "        self.X = torch.tensor(X, dtype=torch.float32)\n",
    "    def __len__(self):\n",
    "        return len(self.X)\n",
    "    def __getitem__(self, idx):\n",
    "        return self.X[idx]\n",
    "\n",
    "test_loader = DataLoader(TestDataset(X_test_ready), batch_size=64)\n",
    "device = torch.device(\"cuda\" if torch.cuda.is_available() else \"cpu\")\n",
    "\n",
    "# ==== Load LSTM ====\n",
    "model_lstm = ImprovedLSTM(input_size=X_test_ready.shape[2]).to(device)\n",
    "model_lstm.load_state_dict(torch.load(\"best_model_lstm.pth\"))\n",
    "model_lstm.eval()\n",
    "\n",
    "# ==== Load CNN ====\n",
    "model_cnn = TimeSeriesCNN(input_size=X_test_ready.shape[2]).to(device)\n",
    "model_cnn.load_state_dict(torch.load(\"best_model_cnn.pth\"))\n",
    "model_cnn.eval()\n",
    "\n",
    "# ==== Predict LSTM & CNN ====\n",
    "probs_lstm, probs_cnn = [], []\n",
    "\n",
    "with torch.no_grad():\n",
    "    for X_batch in test_loader:\n",
    "        X_batch = X_batch.to(device)\n",
    "\n",
    "        out_lstm = model_lstm(X_batch)\n",
    "        out_cnn = model_cnn(X_batch)\n",
    "\n",
    "        probs_lstm.extend(torch.sigmoid(out_lstm).cpu().numpy())\n",
    "        probs_cnn.extend(torch.sigmoid(out_cnn).cpu().numpy())\n",
    "\n",
    "probs_lstm = np.array(probs_lstm).flatten()\n",
    "probs_cnn = np.array(probs_cnn).flatten()\n",
    "\n",
    "# ==== Predict XGBoost ====\n",
    "# ➤ Flatten features over time\n",
    "X_test_xgb = X_test_ready.reshape(X_test_ready.shape[0], -1)\n",
    "\n",
    "# ➤ Load trained model\n",
    "xgb_model = pickle.load(open(\"xgb_model.pkl\", \"rb\"))\n",
    "\n",
    "# ➤ Get probabilities\n",
    "probs_xgb = xgb_model.predict_proba(X_test_xgb)[:, 1]\n",
    "\n",
    "# ==== Weighted fusion ====\n",
    "w_lstm, w_cnn, w_xgb = best_w\n",
    "probs_fused = w_lstm * probs_lstm + w_cnn * probs_cnn + w_xgb * probs_xgb\n",
    "\n",
    "# ==== Final prediction ====\n",
    "y_test_pred = (probs_fused > best_thresh).astype(int)\n",
    "\n",
    "# ==== Save CSV ====\n",
    "submission = pd.DataFrame({\n",
    "    \"Id\": np.arange(len(y_test_pred)),\n",
    "    \"Label\": y_test_pred\n",
    "})\n",
    "submission.to_csv(\"final_submission.csv\", index=False)\n",
    "print(\"✅ Submission saved as final_submission.csv\")\n"
   ]
  },
  {
   "cell_type": "code",
   "execution_count": null,
   "id": "97038667",
   "metadata": {},
   "outputs": [],
   "source": []
  },
  {
   "cell_type": "code",
   "execution_count": null,
   "id": "06d635c6",
   "metadata": {},
   "outputs": [],
   "source": []
  }
 ],
 "metadata": {
  "kernelspec": {
   "display_name": ".venv",
   "language": "python",
   "name": "python3"
  },
  "language_info": {
   "codemirror_mode": {
    "name": "ipython",
    "version": 3
   },
   "file_extension": ".py",
   "mimetype": "text/x-python",
   "name": "python",
   "nbconvert_exporter": "python",
   "pygments_lexer": "ipython3",
   "version": "3.10.3"
  }
 },
 "nbformat": 4,
 "nbformat_minor": 5
}

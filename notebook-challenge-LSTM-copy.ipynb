{
 "cells": [
  {
   "cell_type": "code",
   "execution_count": 84,
   "id": "5ccdb521",
   "metadata": {},
   "outputs": [],
   "source": [
    "import numpy as np\n",
    "import pandas as pd\n",
    "import matplotlib.pyplot as plt\n",
    "import seaborn as sns\n",
    "\n",
    "# === 1. Charger les données ===\n",
    "data = np.load(\"training_data.npz\", allow_pickle=True)\n",
    "X = np.array(data[\"data\"], dtype=np.float32)\n",
    "feature_labels = data[\"feature_labels\"]\n",
    "\n",
    "# Charger les labels\n",
    "y = pd.read_csv(\"training_labels.csv\")\n",
    "y = y.iloc[:, 0].values "
   ]
  },
  {
   "cell_type": "code",
   "execution_count": 85,
   "id": "3107cd64",
   "metadata": {},
   "outputs": [],
   "source": [
    "from sklearn.model_selection import train_test_split\n",
    "\n",
    "# Split the raw X and y (before any imputation or scaler)\n",
    "X_train, X_val, y_train, y_val = train_test_split(\n",
    "    X, y, test_size=0.2, random_state=42, stratify=y\n",
    ")\n"
   ]
  },
  {
   "cell_type": "code",
   "execution_count": 87,
   "id": "6c00c5e7",
   "metadata": {},
   "outputs": [
    {
     "data": {
      "text/plain": [
       "(42921, 12, 231)"
      ]
     },
     "execution_count": 87,
     "metadata": {},
     "output_type": "execute_result"
    }
   ],
   "source": [
    "import numpy as np\n",
    "from sklearn.preprocessing import StandardScaler\n",
    "\n",
    "def interpolate_or_fill(X, global_means):\n",
    "    n, t, f = X.shape\n",
    "    X_filled = np.empty_like(X)\n",
    "    for j in range(f):\n",
    "        for i in range(n):\n",
    "            series = X[i, :, j]\n",
    "            if np.isnan(series).all():\n",
    "                X_filled[i, :, j] = global_means[j]\n",
    "            else:\n",
    "                x = np.arange(t)\n",
    "                mask = ~np.isnan(series)\n",
    "                X_filled[i, :, j] = np.interp(x, x[mask], series[mask])\n",
    "    return X_filled\n",
    "\n",
    "# Compute global means from TRAIN only\n",
    "global_means = np.nanmean(X_train, axis=(0, 1))\n",
    "\n",
    "# Apply same method to all sets using train's global means\n",
    "X_train_filled = interpolate_or_fill(X_train, global_means)\n",
    "X_val_filled   = interpolate_or_fill(X_val, global_means)\n",
    "\n",
    "\n",
    "\n",
    "\n",
    "\n",
    "X_train_clip = X_train_filled.copy()\n",
    "X_val_clip   = X_val_filled.copy()\n",
    "\n",
    "n, t, f = X_train.shape\n",
    "for j in range(f):\n",
    "    mean = np.mean(X_train_clip[:, :, j])\n",
    "    std  = np.std(X_train_clip[:, :, j])\n",
    "    lower, upper = mean - 5 * std, mean + 5 * std\n",
    "    X_train_clip[:, :, j] = np.clip(X_train_clip[:, :, j], lower, upper)\n",
    "    X_val_clip[:, :, j]   = np.clip(X_val_clip[:, :, j], lower, upper)  # use same bounds\n",
    "\n",
    "from sklearn.preprocessing import StandardScaler\n",
    "\n",
    "scaler = StandardScaler()\n",
    "X_train_flat = X_train_clip.reshape(-1, f)\n",
    "scaler.fit(X_train_flat)\n",
    "\n",
    "# Apply\n",
    "X_train_scaled = scaler.transform(X_train_flat).reshape(X_train_clip.shape)\n",
    "X_val_scaled   = scaler.transform(X_val_clip.reshape(-1, f)).reshape(X_val_clip.shape)\n",
    "\n",
    "# Save scaler\n",
    "import joblib\n",
    "joblib.dump(scaler, 'scaler.pkl')\n",
    "\n",
    "\n",
    "def add_deltas(X_scaled):\n",
    "    X_deltas = X_scaled[:, 1:, :] - X_scaled[:, :-1, :]\n",
    "    zero_pad = np.zeros((X_scaled.shape[0], 1, X_scaled.shape[2]))\n",
    "    X_deltas = np.concatenate([zero_pad, X_deltas], axis=1)\n",
    "    return np.concatenate([X_scaled, X_deltas], axis=2)\n",
    "\n",
    "X_train_scaled = add_deltas(X_train_scaled)  # shape: (n, t, 2f)\n",
    "X_val_scaled   = add_deltas(X_val_scaled)\n",
    "\n",
    "\n",
    "\n",
    "X_train_mask = (~np.isnan(X_train)).astype(np.float32)\n",
    "\n",
    "\n",
    "X_train_ready = np.concatenate([X_train_scaled, X_train_mask], axis=2)  # shape: (n, t, 3f)\n",
    "\n",
    "\n",
    "X_train_ready.shape"
   ]
  },
  {
   "cell_type": "code",
   "execution_count": 88,
   "id": "7eec71a2",
   "metadata": {},
   "outputs": [
    {
     "data": {
      "text/plain": [
       "(10731, 12, 231)"
      ]
     },
     "execution_count": 88,
     "metadata": {},
     "output_type": "execute_result"
    }
   ],
   "source": [
    "import numpy as np\n",
    "\n",
    "def apply_pipeline_to_val(X_val_raw, global_means, scaler, clip_means, clip_stds):\n",
    "    \"\"\"\n",
    "    Applies interpolation, clipping, scaling, delta features, and masking to validation data.\n",
    "    \n",
    "    Parameters:\n",
    "        X_val_raw     : np.ndarray, shape (n, t, f)\n",
    "        global_means  : np.ndarray, shape (f,)\n",
    "        scaler        : fitted sklearn StandardScaler\n",
    "        clip_means    : np.ndarray, shape (f,), mean from train\n",
    "        clip_stds     : np.ndarray, shape (f,), std from train\n",
    "    \n",
    "    Returns:\n",
    "        X_val_ready   : np.ndarray, shape (n, t, 3f)\n",
    "    \"\"\"\n",
    "\n",
    "    # === Step 1: Interpolate ===\n",
    "    n, t, f = X_val_raw.shape\n",
    "    X_filled = np.empty_like(X_val_raw)\n",
    "    for j in range(f):\n",
    "        for i in range(n):\n",
    "            series = X_val_raw[i, :, j]\n",
    "            if np.isnan(series).all():\n",
    "                X_filled[i, :, j] = global_means[j]\n",
    "            else:\n",
    "                x = np.arange(t)\n",
    "                mask = ~np.isnan(series)\n",
    "                X_filled[i, :, j] = np.interp(x, x[mask], series[mask])\n",
    "\n",
    "    # === Step 2: Clipping ===\n",
    "    for j in range(f):\n",
    "        lower = clip_means[j] - 5 * clip_stds[j]\n",
    "        upper = clip_means[j] + 5 * clip_stds[j]\n",
    "        X_filled[:, :, j] = np.clip(X_filled[:, :, j], lower, upper)\n",
    "\n",
    "    # === Step 3: Scaling ===\n",
    "    X_flat = X_filled.reshape(-1, f)\n",
    "    X_scaled_flat = scaler.transform(X_flat)\n",
    "    X_scaled = X_scaled_flat.reshape(n, t, f)\n",
    "\n",
    "    # === Step 4: Delta features ===\n",
    "    X_deltas = X_scaled[:, 1:, :] - X_scaled[:, :-1, :]\n",
    "    zero_pad = np.zeros((n, 1, f))\n",
    "    X_deltas = np.concatenate([zero_pad, X_deltas], axis=1)\n",
    "    X_scaled_with_deltas = np.concatenate([X_scaled, X_deltas], axis=2)\n",
    "\n",
    "    # === Step 5: Mask ===\n",
    "    X_mask = (~np.isnan(X_val_raw)).astype(np.float32)\n",
    "\n",
    "    # === Step 6: Final concat ===\n",
    "    X_val_ready = np.concatenate([X_scaled_with_deltas, X_mask], axis=2)  # shape: (n, t, 3f)\n",
    "\n",
    "    return X_val_ready\n",
    "\n",
    "\n",
    "# From training pipeline\n",
    "global_means = np.nanmean(X_train, axis=(0, 1))\n",
    "clip_means = np.mean(X_train_filled, axis=(0, 1))\n",
    "clip_stds  = np.std(X_train_filled, axis=(0, 1))\n",
    "# scaler = trained StandardScaler\n",
    "\n",
    "# Apply to val set\n",
    "X_val_ready = apply_pipeline_to_val(X_val, global_means, scaler, clip_means, clip_stds)\n",
    "X_val_ready.shape"
   ]
  },
  {
   "cell_type": "code",
   "execution_count": 89,
   "id": "a4f3b50e",
   "metadata": {},
   "outputs": [],
   "source": [
    "from torch.utils.data import Sampler\n",
    "import random\n",
    "import numpy as np\n",
    "\n",
    "class BalancedBatchSampler(Sampler):\n",
    "    def __init__(self, labels, batch_size):\n",
    "        self.labels = np.array(labels)\n",
    "        self.batch_size = batch_size\n",
    "        self.pos_indices = np.where(self.labels == 1)[0].tolist()\n",
    "        self.neg_indices = np.where(self.labels == 0)[0].tolist()\n",
    "        self.batch_half = batch_size // 2\n",
    "\n",
    "    def __iter__(self):\n",
    "        # Shuffle both positive and negative indices each epoch\n",
    "        random.shuffle(self.pos_indices)\n",
    "        random.shuffle(self.neg_indices)\n",
    "\n",
    "        pos_iter = iter(self.pos_indices)\n",
    "        neg_iter = iter(self.neg_indices)\n",
    "\n",
    "        while True:\n",
    "            try:\n",
    "                pos_batch = [next(pos_iter) for _ in range(self.batch_half)]\n",
    "                neg_batch = [next(neg_iter) for _ in range(self.batch_half)]\n",
    "                batch = pos_batch + neg_batch\n",
    "                random.shuffle(batch)\n",
    "                yield batch\n",
    "            except StopIteration:\n",
    "                break\n",
    "\n",
    "    def __len__(self):\n",
    "        return min(len(self.pos_indices), len(self.neg_indices)) // self.batch_half\n"
   ]
  },
  {
   "cell_type": "code",
   "execution_count": 90,
   "id": "eefb6d34",
   "metadata": {},
   "outputs": [],
   "source": [
    "import torch\n",
    "from torch.utils.data import Dataset, DataLoader\n",
    "from sklearn.model_selection import train_test_split\n",
    "\n",
    "\n",
    "\n",
    "# Custom Dataset class\n",
    "class DiabetesDataset(Dataset):\n",
    "    def __init__(self, X, y):\n",
    "        # Assume X and y are NumPy arrays\n",
    "        self.X = torch.tensor(X, dtype=torch.float32)\n",
    "        self.y = torch.tensor(y, dtype=torch.float32)\n",
    "\n",
    "    def __len__(self):\n",
    "        return len(self.X)\n",
    "\n",
    "    def __getitem__(self, idx):\n",
    "        return self.X[idx], self.y[idx]\n",
    "\n",
    "# Create datasets\n",
    "train_dataset = DiabetesDataset(X_train_ready, y_train)\n",
    "train_sampler = BalancedBatchSampler(y_train, batch_size=64)\n",
    "train_loader = DataLoader(train_dataset, batch_sampler=train_sampler)\n",
    "\n",
    "val_dataset = DiabetesDataset(X_val_ready, y_val)\n",
    "\n",
    "# Create DataLoaders\n",
    "\n",
    "val_loader = DataLoader(val_dataset, batch_size=64)\n"
   ]
  },
  {
   "cell_type": "code",
   "execution_count": 91,
   "id": "38270602",
   "metadata": {},
   "outputs": [
    {
     "data": {
      "text/plain": [
       "['preprocessing.pkl']"
      ]
     },
     "execution_count": 91,
     "metadata": {},
     "output_type": "execute_result"
    }
   ],
   "source": [
    "preprocessing_artifacts = {\n",
    "    \"global_means\": global_means,\n",
    "    \"clip_means\": clip_means,\n",
    "    \"clip_stds\": clip_stds,\n",
    "    \"scaler\": scaler\n",
    "}\n",
    "joblib.dump(preprocessing_artifacts, \"preprocessing.pkl\")\n"
   ]
  },
  {
   "cell_type": "code",
   "execution_count": 92,
   "id": "b0c6d738",
   "metadata": {},
   "outputs": [],
   "source": [
    "import torch\n",
    "import torch.nn as nn\n",
    "import torch.nn.functional as F\n",
    "\n",
    "class ImprovedLSTM(nn.Module):\n",
    "    def __init__(self, input_size=231, hidden_size=128, num_layers=2, dropout=0.4, bidirectional=True):\n",
    "        super(ImprovedLSTM, self).__init__()\n",
    "        self.hidden_size = hidden_size\n",
    "        self.num_directions = 2 if bidirectional else 1\n",
    "\n",
    "        # LSTM layer\n",
    "        self.lstm = nn.LSTM(\n",
    "            input_size=input_size,\n",
    "            hidden_size=hidden_size,\n",
    "            num_layers=num_layers,\n",
    "            dropout=dropout,\n",
    "            batch_first=True,\n",
    "            bidirectional=bidirectional\n",
    "        )\n",
    "\n",
    "        # Attention mechanism\n",
    "        self.attn_fc = nn.Linear(hidden_size * self.num_directions, 1)\n",
    "\n",
    "        # Layer normalization after attention\n",
    "        self.norm = nn.LayerNorm(hidden_size * self.num_directions)\n",
    "\n",
    "        # Classification head\n",
    "        self.head = nn.Sequential(\n",
    "            nn.Linear(hidden_size * self.num_directions, 128),\n",
    "            nn.ReLU(),\n",
    "            nn.Dropout(dropout),\n",
    "            nn.Linear(128, 1)  # Binary classification\n",
    "        )\n",
    "\n",
    "    def forward(self, x):\n",
    "        # LSTM output\n",
    "        lstm_out, _ = self.lstm(x)  # lstm_out: (batch, seq_len, hidden_size * num_directions)\n",
    "\n",
    "        # Attention scores (before softmax)\n",
    "        attn_scores = self.attn_fc(lstm_out).squeeze(-1)  # (batch, seq_len)\n",
    "        attn_weights = F.softmax(attn_scores, dim=1)      # (batch, seq_len)\n",
    "\n",
    "        # Weighted sum (context vector)\n",
    "        context = torch.sum(lstm_out * attn_weights.unsqueeze(-1), dim=1)  # (batch, hidden_size * num_directions)\n",
    "\n",
    "        # Normalize and pass to classifier\n",
    "        context = self.norm(context)\n",
    "        logits = self.head(context)\n",
    "\n",
    "        return logits.squeeze()  # (batch,)\n"
   ]
  },
  {
   "cell_type": "code",
   "execution_count": 93,
   "id": "2588bda5",
   "metadata": {},
   "outputs": [],
   "source": [
    "import torch\n",
    "import torch.nn as nn\n",
    "\n",
    "class FocalLoss(nn.Module):\n",
    "    def __init__(self, alpha=None, gamma=2, reduction='mean'):\n",
    "        \"\"\"\n",
    "        alpha: float or list/tuple of two floats. Weighting factor for class imbalance.\n",
    "               If float, same alpha applied to both classes.\n",
    "               If list/tuple: [alpha_for_0, alpha_for_1]\n",
    "        \"\"\"\n",
    "        super(FocalLoss, self).__init__()\n",
    "        self.gamma = gamma\n",
    "        self.reduction = reduction\n",
    "        self.alpha = torch.tensor(alpha) if isinstance(alpha, (list, tuple)) else alpha\n",
    "\n",
    "    def forward(self, inputs, targets):\n",
    "        # Clamp probabilities for numerical stability\n",
    "        probas = torch.sigmoid(inputs).clamp(min=1e-6, max=1 - 1e-6)\n",
    "        bce_loss = nn.functional.binary_cross_entropy_with_logits(inputs, targets, reduction='none')\n",
    "\n",
    "        pt = probas * targets + (1 - probas) * (1 - targets)  # pt = p_t\n",
    "        focal_term = (1 - pt) ** self.gamma\n",
    "\n",
    "        if isinstance(self.alpha, torch.Tensor):\n",
    "            alpha = self.alpha.to(inputs.device)\n",
    "            alpha_t = alpha[1] * targets + alpha[0] * (1 - targets)\n",
    "        else:\n",
    "            alpha_t = self.alpha if self.alpha is not None else 1.0\n",
    "\n",
    "        loss = alpha_t * focal_term * bce_loss\n",
    "\n",
    "        if self.reduction == 'mean':\n",
    "            return loss.mean()\n"
   ]
  },
  {
   "cell_type": "code",
   "execution_count": 94,
   "id": "7811a14b",
   "metadata": {},
   "outputs": [
    {
     "name": "stdout",
     "output_type": "stream",
     "text": [
      "📊 Positive samples: 2714, Negative samples: 40207\n",
      "⚖️ Using pos_weight = 14.8147\n"
     ]
    }
   ],
   "source": [
    "import torch\n",
    "\n",
    "# Count positives and negatives in training set\n",
    "n_pos = (y_train == 1).sum()\n",
    "n_neg = (y_train == 0).sum()\n",
    "\n",
    "# Compute pos_weight: how much more to weigh the positive class\n",
    "pos_weight_value = n_neg / n_pos\n",
    "pos_weight = torch.tensor([pos_weight_value], dtype=torch.float32)\n",
    "\n",
    "print(f\"📊 Positive samples: {n_pos}, Negative samples: {n_neg}\")\n",
    "print(f\"⚖️ Using pos_weight = {pos_weight.item():.4f}\")\n"
   ]
  },
  {
   "cell_type": "markdown",
   "id": "b7ef2941",
   "metadata": {},
   "source": [
    "# ***XGboost***"
   ]
  },
  {
   "cell_type": "code",
   "execution_count": 95,
   "id": "161056c1",
   "metadata": {},
   "outputs": [],
   "source": [
    "# Pour XGBoost → on aplatit (n, t, 3f) → (n, t × 3f)\n",
    "X_train_flat = X_train_ready.reshape(X_train_ready.shape[0], -1)\n",
    "X_val_flat   = X_val_ready.reshape(X_val_ready.shape[0], -1)\n"
   ]
  },
  {
   "cell_type": "code",
   "execution_count": 96,
   "id": "25771844",
   "metadata": {},
   "outputs": [
    {
     "name": "stderr",
     "output_type": "stream",
     "text": [
      "c:\\Users\\User\\Challenge-data-mias\\.venv\\lib\\site-packages\\xgboost\\training.py:183: UserWarning: [17:19:14] WARNING: C:\\actions-runner\\_work\\xgboost\\xgboost\\src\\learner.cc:738: \n",
      "Parameters: { \"use_label_encoder\" } are not used.\n",
      "\n",
      "  bst.update(dtrain, iteration=i, fobj=obj)\n"
     ]
    },
    {
     "data": {
      "text/html": [
       "<style>#sk-container-id-4 {\n",
       "  /* Definition of color scheme common for light and dark mode */\n",
       "  --sklearn-color-text: #000;\n",
       "  --sklearn-color-text-muted: #666;\n",
       "  --sklearn-color-line: gray;\n",
       "  /* Definition of color scheme for unfitted estimators */\n",
       "  --sklearn-color-unfitted-level-0: #fff5e6;\n",
       "  --sklearn-color-unfitted-level-1: #f6e4d2;\n",
       "  --sklearn-color-unfitted-level-2: #ffe0b3;\n",
       "  --sklearn-color-unfitted-level-3: chocolate;\n",
       "  /* Definition of color scheme for fitted estimators */\n",
       "  --sklearn-color-fitted-level-0: #f0f8ff;\n",
       "  --sklearn-color-fitted-level-1: #d4ebff;\n",
       "  --sklearn-color-fitted-level-2: #b3dbfd;\n",
       "  --sklearn-color-fitted-level-3: cornflowerblue;\n",
       "\n",
       "  /* Specific color for light theme */\n",
       "  --sklearn-color-text-on-default-background: var(--sg-text-color, var(--theme-code-foreground, var(--jp-content-font-color1, black)));\n",
       "  --sklearn-color-background: var(--sg-background-color, var(--theme-background, var(--jp-layout-color0, white)));\n",
       "  --sklearn-color-border-box: var(--sg-text-color, var(--theme-code-foreground, var(--jp-content-font-color1, black)));\n",
       "  --sklearn-color-icon: #696969;\n",
       "\n",
       "  @media (prefers-color-scheme: dark) {\n",
       "    /* Redefinition of color scheme for dark theme */\n",
       "    --sklearn-color-text-on-default-background: var(--sg-text-color, var(--theme-code-foreground, var(--jp-content-font-color1, white)));\n",
       "    --sklearn-color-background: var(--sg-background-color, var(--theme-background, var(--jp-layout-color0, #111)));\n",
       "    --sklearn-color-border-box: var(--sg-text-color, var(--theme-code-foreground, var(--jp-content-font-color1, white)));\n",
       "    --sklearn-color-icon: #878787;\n",
       "  }\n",
       "}\n",
       "\n",
       "#sk-container-id-4 {\n",
       "  color: var(--sklearn-color-text);\n",
       "}\n",
       "\n",
       "#sk-container-id-4 pre {\n",
       "  padding: 0;\n",
       "}\n",
       "\n",
       "#sk-container-id-4 input.sk-hidden--visually {\n",
       "  border: 0;\n",
       "  clip: rect(1px 1px 1px 1px);\n",
       "  clip: rect(1px, 1px, 1px, 1px);\n",
       "  height: 1px;\n",
       "  margin: -1px;\n",
       "  overflow: hidden;\n",
       "  padding: 0;\n",
       "  position: absolute;\n",
       "  width: 1px;\n",
       "}\n",
       "\n",
       "#sk-container-id-4 div.sk-dashed-wrapped {\n",
       "  border: 1px dashed var(--sklearn-color-line);\n",
       "  margin: 0 0.4em 0.5em 0.4em;\n",
       "  box-sizing: border-box;\n",
       "  padding-bottom: 0.4em;\n",
       "  background-color: var(--sklearn-color-background);\n",
       "}\n",
       "\n",
       "#sk-container-id-4 div.sk-container {\n",
       "  /* jupyter's `normalize.less` sets `[hidden] { display: none; }`\n",
       "     but bootstrap.min.css set `[hidden] { display: none !important; }`\n",
       "     so we also need the `!important` here to be able to override the\n",
       "     default hidden behavior on the sphinx rendered scikit-learn.org.\n",
       "     See: https://github.com/scikit-learn/scikit-learn/issues/21755 */\n",
       "  display: inline-block !important;\n",
       "  position: relative;\n",
       "}\n",
       "\n",
       "#sk-container-id-4 div.sk-text-repr-fallback {\n",
       "  display: none;\n",
       "}\n",
       "\n",
       "div.sk-parallel-item,\n",
       "div.sk-serial,\n",
       "div.sk-item {\n",
       "  /* draw centered vertical line to link estimators */\n",
       "  background-image: linear-gradient(var(--sklearn-color-text-on-default-background), var(--sklearn-color-text-on-default-background));\n",
       "  background-size: 2px 100%;\n",
       "  background-repeat: no-repeat;\n",
       "  background-position: center center;\n",
       "}\n",
       "\n",
       "/* Parallel-specific style estimator block */\n",
       "\n",
       "#sk-container-id-4 div.sk-parallel-item::after {\n",
       "  content: \"\";\n",
       "  width: 100%;\n",
       "  border-bottom: 2px solid var(--sklearn-color-text-on-default-background);\n",
       "  flex-grow: 1;\n",
       "}\n",
       "\n",
       "#sk-container-id-4 div.sk-parallel {\n",
       "  display: flex;\n",
       "  align-items: stretch;\n",
       "  justify-content: center;\n",
       "  background-color: var(--sklearn-color-background);\n",
       "  position: relative;\n",
       "}\n",
       "\n",
       "#sk-container-id-4 div.sk-parallel-item {\n",
       "  display: flex;\n",
       "  flex-direction: column;\n",
       "}\n",
       "\n",
       "#sk-container-id-4 div.sk-parallel-item:first-child::after {\n",
       "  align-self: flex-end;\n",
       "  width: 50%;\n",
       "}\n",
       "\n",
       "#sk-container-id-4 div.sk-parallel-item:last-child::after {\n",
       "  align-self: flex-start;\n",
       "  width: 50%;\n",
       "}\n",
       "\n",
       "#sk-container-id-4 div.sk-parallel-item:only-child::after {\n",
       "  width: 0;\n",
       "}\n",
       "\n",
       "/* Serial-specific style estimator block */\n",
       "\n",
       "#sk-container-id-4 div.sk-serial {\n",
       "  display: flex;\n",
       "  flex-direction: column;\n",
       "  align-items: center;\n",
       "  background-color: var(--sklearn-color-background);\n",
       "  padding-right: 1em;\n",
       "  padding-left: 1em;\n",
       "}\n",
       "\n",
       "\n",
       "/* Toggleable style: style used for estimator/Pipeline/ColumnTransformer box that is\n",
       "clickable and can be expanded/collapsed.\n",
       "- Pipeline and ColumnTransformer use this feature and define the default style\n",
       "- Estimators will overwrite some part of the style using the `sk-estimator` class\n",
       "*/\n",
       "\n",
       "/* Pipeline and ColumnTransformer style (default) */\n",
       "\n",
       "#sk-container-id-4 div.sk-toggleable {\n",
       "  /* Default theme specific background. It is overwritten whether we have a\n",
       "  specific estimator or a Pipeline/ColumnTransformer */\n",
       "  background-color: var(--sklearn-color-background);\n",
       "}\n",
       "\n",
       "/* Toggleable label */\n",
       "#sk-container-id-4 label.sk-toggleable__label {\n",
       "  cursor: pointer;\n",
       "  display: flex;\n",
       "  width: 100%;\n",
       "  margin-bottom: 0;\n",
       "  padding: 0.5em;\n",
       "  box-sizing: border-box;\n",
       "  text-align: center;\n",
       "  align-items: start;\n",
       "  justify-content: space-between;\n",
       "  gap: 0.5em;\n",
       "}\n",
       "\n",
       "#sk-container-id-4 label.sk-toggleable__label .caption {\n",
       "  font-size: 0.6rem;\n",
       "  font-weight: lighter;\n",
       "  color: var(--sklearn-color-text-muted);\n",
       "}\n",
       "\n",
       "#sk-container-id-4 label.sk-toggleable__label-arrow:before {\n",
       "  /* Arrow on the left of the label */\n",
       "  content: \"▸\";\n",
       "  float: left;\n",
       "  margin-right: 0.25em;\n",
       "  color: var(--sklearn-color-icon);\n",
       "}\n",
       "\n",
       "#sk-container-id-4 label.sk-toggleable__label-arrow:hover:before {\n",
       "  color: var(--sklearn-color-text);\n",
       "}\n",
       "\n",
       "/* Toggleable content - dropdown */\n",
       "\n",
       "#sk-container-id-4 div.sk-toggleable__content {\n",
       "  max-height: 0;\n",
       "  max-width: 0;\n",
       "  overflow: hidden;\n",
       "  text-align: left;\n",
       "  /* unfitted */\n",
       "  background-color: var(--sklearn-color-unfitted-level-0);\n",
       "}\n",
       "\n",
       "#sk-container-id-4 div.sk-toggleable__content.fitted {\n",
       "  /* fitted */\n",
       "  background-color: var(--sklearn-color-fitted-level-0);\n",
       "}\n",
       "\n",
       "#sk-container-id-4 div.sk-toggleable__content pre {\n",
       "  margin: 0.2em;\n",
       "  border-radius: 0.25em;\n",
       "  color: var(--sklearn-color-text);\n",
       "  /* unfitted */\n",
       "  background-color: var(--sklearn-color-unfitted-level-0);\n",
       "}\n",
       "\n",
       "#sk-container-id-4 div.sk-toggleable__content.fitted pre {\n",
       "  /* unfitted */\n",
       "  background-color: var(--sklearn-color-fitted-level-0);\n",
       "}\n",
       "\n",
       "#sk-container-id-4 input.sk-toggleable__control:checked~div.sk-toggleable__content {\n",
       "  /* Expand drop-down */\n",
       "  max-height: 200px;\n",
       "  max-width: 100%;\n",
       "  overflow: auto;\n",
       "}\n",
       "\n",
       "#sk-container-id-4 input.sk-toggleable__control:checked~label.sk-toggleable__label-arrow:before {\n",
       "  content: \"▾\";\n",
       "}\n",
       "\n",
       "/* Pipeline/ColumnTransformer-specific style */\n",
       "\n",
       "#sk-container-id-4 div.sk-label input.sk-toggleable__control:checked~label.sk-toggleable__label {\n",
       "  color: var(--sklearn-color-text);\n",
       "  background-color: var(--sklearn-color-unfitted-level-2);\n",
       "}\n",
       "\n",
       "#sk-container-id-4 div.sk-label.fitted input.sk-toggleable__control:checked~label.sk-toggleable__label {\n",
       "  background-color: var(--sklearn-color-fitted-level-2);\n",
       "}\n",
       "\n",
       "/* Estimator-specific style */\n",
       "\n",
       "/* Colorize estimator box */\n",
       "#sk-container-id-4 div.sk-estimator input.sk-toggleable__control:checked~label.sk-toggleable__label {\n",
       "  /* unfitted */\n",
       "  background-color: var(--sklearn-color-unfitted-level-2);\n",
       "}\n",
       "\n",
       "#sk-container-id-4 div.sk-estimator.fitted input.sk-toggleable__control:checked~label.sk-toggleable__label {\n",
       "  /* fitted */\n",
       "  background-color: var(--sklearn-color-fitted-level-2);\n",
       "}\n",
       "\n",
       "#sk-container-id-4 div.sk-label label.sk-toggleable__label,\n",
       "#sk-container-id-4 div.sk-label label {\n",
       "  /* The background is the default theme color */\n",
       "  color: var(--sklearn-color-text-on-default-background);\n",
       "}\n",
       "\n",
       "/* On hover, darken the color of the background */\n",
       "#sk-container-id-4 div.sk-label:hover label.sk-toggleable__label {\n",
       "  color: var(--sklearn-color-text);\n",
       "  background-color: var(--sklearn-color-unfitted-level-2);\n",
       "}\n",
       "\n",
       "/* Label box, darken color on hover, fitted */\n",
       "#sk-container-id-4 div.sk-label.fitted:hover label.sk-toggleable__label.fitted {\n",
       "  color: var(--sklearn-color-text);\n",
       "  background-color: var(--sklearn-color-fitted-level-2);\n",
       "}\n",
       "\n",
       "/* Estimator label */\n",
       "\n",
       "#sk-container-id-4 div.sk-label label {\n",
       "  font-family: monospace;\n",
       "  font-weight: bold;\n",
       "  display: inline-block;\n",
       "  line-height: 1.2em;\n",
       "}\n",
       "\n",
       "#sk-container-id-4 div.sk-label-container {\n",
       "  text-align: center;\n",
       "}\n",
       "\n",
       "/* Estimator-specific */\n",
       "#sk-container-id-4 div.sk-estimator {\n",
       "  font-family: monospace;\n",
       "  border: 1px dotted var(--sklearn-color-border-box);\n",
       "  border-radius: 0.25em;\n",
       "  box-sizing: border-box;\n",
       "  margin-bottom: 0.5em;\n",
       "  /* unfitted */\n",
       "  background-color: var(--sklearn-color-unfitted-level-0);\n",
       "}\n",
       "\n",
       "#sk-container-id-4 div.sk-estimator.fitted {\n",
       "  /* fitted */\n",
       "  background-color: var(--sklearn-color-fitted-level-0);\n",
       "}\n",
       "\n",
       "/* on hover */\n",
       "#sk-container-id-4 div.sk-estimator:hover {\n",
       "  /* unfitted */\n",
       "  background-color: var(--sklearn-color-unfitted-level-2);\n",
       "}\n",
       "\n",
       "#sk-container-id-4 div.sk-estimator.fitted:hover {\n",
       "  /* fitted */\n",
       "  background-color: var(--sklearn-color-fitted-level-2);\n",
       "}\n",
       "\n",
       "/* Specification for estimator info (e.g. \"i\" and \"?\") */\n",
       "\n",
       "/* Common style for \"i\" and \"?\" */\n",
       "\n",
       ".sk-estimator-doc-link,\n",
       "a:link.sk-estimator-doc-link,\n",
       "a:visited.sk-estimator-doc-link {\n",
       "  float: right;\n",
       "  font-size: smaller;\n",
       "  line-height: 1em;\n",
       "  font-family: monospace;\n",
       "  background-color: var(--sklearn-color-background);\n",
       "  border-radius: 1em;\n",
       "  height: 1em;\n",
       "  width: 1em;\n",
       "  text-decoration: none !important;\n",
       "  margin-left: 0.5em;\n",
       "  text-align: center;\n",
       "  /* unfitted */\n",
       "  border: var(--sklearn-color-unfitted-level-1) 1pt solid;\n",
       "  color: var(--sklearn-color-unfitted-level-1);\n",
       "}\n",
       "\n",
       ".sk-estimator-doc-link.fitted,\n",
       "a:link.sk-estimator-doc-link.fitted,\n",
       "a:visited.sk-estimator-doc-link.fitted {\n",
       "  /* fitted */\n",
       "  border: var(--sklearn-color-fitted-level-1) 1pt solid;\n",
       "  color: var(--sklearn-color-fitted-level-1);\n",
       "}\n",
       "\n",
       "/* On hover */\n",
       "div.sk-estimator:hover .sk-estimator-doc-link:hover,\n",
       ".sk-estimator-doc-link:hover,\n",
       "div.sk-label-container:hover .sk-estimator-doc-link:hover,\n",
       ".sk-estimator-doc-link:hover {\n",
       "  /* unfitted */\n",
       "  background-color: var(--sklearn-color-unfitted-level-3);\n",
       "  color: var(--sklearn-color-background);\n",
       "  text-decoration: none;\n",
       "}\n",
       "\n",
       "div.sk-estimator.fitted:hover .sk-estimator-doc-link.fitted:hover,\n",
       ".sk-estimator-doc-link.fitted:hover,\n",
       "div.sk-label-container:hover .sk-estimator-doc-link.fitted:hover,\n",
       ".sk-estimator-doc-link.fitted:hover {\n",
       "  /* fitted */\n",
       "  background-color: var(--sklearn-color-fitted-level-3);\n",
       "  color: var(--sklearn-color-background);\n",
       "  text-decoration: none;\n",
       "}\n",
       "\n",
       "/* Span, style for the box shown on hovering the info icon */\n",
       ".sk-estimator-doc-link span {\n",
       "  display: none;\n",
       "  z-index: 9999;\n",
       "  position: relative;\n",
       "  font-weight: normal;\n",
       "  right: .2ex;\n",
       "  padding: .5ex;\n",
       "  margin: .5ex;\n",
       "  width: min-content;\n",
       "  min-width: 20ex;\n",
       "  max-width: 50ex;\n",
       "  color: var(--sklearn-color-text);\n",
       "  box-shadow: 2pt 2pt 4pt #999;\n",
       "  /* unfitted */\n",
       "  background: var(--sklearn-color-unfitted-level-0);\n",
       "  border: .5pt solid var(--sklearn-color-unfitted-level-3);\n",
       "}\n",
       "\n",
       ".sk-estimator-doc-link.fitted span {\n",
       "  /* fitted */\n",
       "  background: var(--sklearn-color-fitted-level-0);\n",
       "  border: var(--sklearn-color-fitted-level-3);\n",
       "}\n",
       "\n",
       ".sk-estimator-doc-link:hover span {\n",
       "  display: block;\n",
       "}\n",
       "\n",
       "/* \"?\"-specific style due to the `<a>` HTML tag */\n",
       "\n",
       "#sk-container-id-4 a.estimator_doc_link {\n",
       "  float: right;\n",
       "  font-size: 1rem;\n",
       "  line-height: 1em;\n",
       "  font-family: monospace;\n",
       "  background-color: var(--sklearn-color-background);\n",
       "  border-radius: 1rem;\n",
       "  height: 1rem;\n",
       "  width: 1rem;\n",
       "  text-decoration: none;\n",
       "  /* unfitted */\n",
       "  color: var(--sklearn-color-unfitted-level-1);\n",
       "  border: var(--sklearn-color-unfitted-level-1) 1pt solid;\n",
       "}\n",
       "\n",
       "#sk-container-id-4 a.estimator_doc_link.fitted {\n",
       "  /* fitted */\n",
       "  border: var(--sklearn-color-fitted-level-1) 1pt solid;\n",
       "  color: var(--sklearn-color-fitted-level-1);\n",
       "}\n",
       "\n",
       "/* On hover */\n",
       "#sk-container-id-4 a.estimator_doc_link:hover {\n",
       "  /* unfitted */\n",
       "  background-color: var(--sklearn-color-unfitted-level-3);\n",
       "  color: var(--sklearn-color-background);\n",
       "  text-decoration: none;\n",
       "}\n",
       "\n",
       "#sk-container-id-4 a.estimator_doc_link.fitted:hover {\n",
       "  /* fitted */\n",
       "  background-color: var(--sklearn-color-fitted-level-3);\n",
       "}\n",
       "</style><div id=\"sk-container-id-4\" class=\"sk-top-container\"><div class=\"sk-text-repr-fallback\"><pre>XGBClassifier(base_score=None, booster=None, callbacks=None,\n",
       "              colsample_bylevel=None, colsample_bynode=None,\n",
       "              colsample_bytree=None, device=None, early_stopping_rounds=None,\n",
       "              enable_categorical=False, eval_metric=&#x27;logloss&#x27;,\n",
       "              feature_types=None, feature_weights=None, gamma=None,\n",
       "              grow_policy=None, importance_type=None,\n",
       "              interaction_constraints=None, learning_rate=0.05, max_bin=None,\n",
       "              max_cat_threshold=None, max_cat_to_onehot=None,\n",
       "              max_delta_step=None, max_depth=6, max_leaves=None,\n",
       "              min_child_weight=None, missing=nan, monotone_constraints=None,\n",
       "              multi_strategy=None, n_estimators=100, n_jobs=None,\n",
       "              num_parallel_tree=None, ...)</pre><b>In a Jupyter environment, please rerun this cell to show the HTML representation or trust the notebook. <br />On GitHub, the HTML representation is unable to render, please try loading this page with nbviewer.org.</b></div><div class=\"sk-container\" hidden><div class=\"sk-item\"><div class=\"sk-estimator fitted sk-toggleable\"><input class=\"sk-toggleable__control sk-hidden--visually\" id=\"sk-estimator-id-4\" type=\"checkbox\" checked><label for=\"sk-estimator-id-4\" class=\"sk-toggleable__label fitted sk-toggleable__label-arrow\"><div><div>XGBClassifier</div></div><div><a class=\"sk-estimator-doc-link fitted\" rel=\"noreferrer\" target=\"_blank\" href=\"https://xgboost.readthedocs.io/en/release_3.0.0/python/python_api.html#xgboost.XGBClassifier\">?<span>Documentation for XGBClassifier</span></a><span class=\"sk-estimator-doc-link fitted\">i<span>Fitted</span></span></div></label><div class=\"sk-toggleable__content fitted\"><pre>XGBClassifier(base_score=None, booster=None, callbacks=None,\n",
       "              colsample_bylevel=None, colsample_bynode=None,\n",
       "              colsample_bytree=None, device=None, early_stopping_rounds=None,\n",
       "              enable_categorical=False, eval_metric=&#x27;logloss&#x27;,\n",
       "              feature_types=None, feature_weights=None, gamma=None,\n",
       "              grow_policy=None, importance_type=None,\n",
       "              interaction_constraints=None, learning_rate=0.05, max_bin=None,\n",
       "              max_cat_threshold=None, max_cat_to_onehot=None,\n",
       "              max_delta_step=None, max_depth=6, max_leaves=None,\n",
       "              min_child_weight=None, missing=nan, monotone_constraints=None,\n",
       "              multi_strategy=None, n_estimators=100, n_jobs=None,\n",
       "              num_parallel_tree=None, ...)</pre></div> </div></div></div></div>"
      ],
      "text/plain": [
       "XGBClassifier(base_score=None, booster=None, callbacks=None,\n",
       "              colsample_bylevel=None, colsample_bynode=None,\n",
       "              colsample_bytree=None, device=None, early_stopping_rounds=None,\n",
       "              enable_categorical=False, eval_metric='logloss',\n",
       "              feature_types=None, feature_weights=None, gamma=None,\n",
       "              grow_policy=None, importance_type=None,\n",
       "              interaction_constraints=None, learning_rate=0.05, max_bin=None,\n",
       "              max_cat_threshold=None, max_cat_to_onehot=None,\n",
       "              max_delta_step=None, max_depth=6, max_leaves=None,\n",
       "              min_child_weight=None, missing=nan, monotone_constraints=None,\n",
       "              multi_strategy=None, n_estimators=100, n_jobs=None,\n",
       "              num_parallel_tree=None, ...)"
      ]
     },
     "execution_count": 96,
     "metadata": {},
     "output_type": "execute_result"
    }
   ],
   "source": [
    "from xgboost import XGBClassifier\n",
    "from sklearn.metrics import f1_score, accuracy_score, roc_auc_score\n",
    "import numpy as np\n",
    "import joblib\n",
    "import pickle\n",
    "\n",
    "# Détection déséquilibre\n",
    "pos_ratio = (y_train == 1).sum() / (y_train == 0).sum()\n",
    "\n",
    "# Modèle\n",
    "xgb_model = XGBClassifier(\n",
    "    n_estimators=100,\n",
    "    max_depth=6,\n",
    "    learning_rate=0.05,\n",
    "    scale_pos_weight=1/pos_ratio,\n",
    "    use_label_encoder=False,\n",
    "    eval_metric='logloss',\n",
    "    random_state=42\n",
    ")\n",
    "\n",
    "xgb_model.fit(X_train_flat, y_train)\n"
   ]
  },
  {
   "cell_type": "code",
   "execution_count": 97,
   "id": "036ae7f1",
   "metadata": {},
   "outputs": [
    {
     "name": "stdout",
     "output_type": "stream",
     "text": [
      "📊 Best F1: 0.4735 at threshold 0.78\n",
      "✅ AUC: 0.9170\n",
      "✅ Accuracy: 0.8214\n"
     ]
    }
   ],
   "source": [
    "y_val_prob = xgb_model.predict_proba(X_val_flat)[:, 1]\n",
    "\n",
    "thresholds = np.linspace(0.1, 0.9, 81)\n",
    "f1s = [f1_score(y_val, y_val_prob > t) for t in thresholds]\n",
    "best_thresh = thresholds[np.argmax(f1s)]\n",
    "\n",
    "print(f\"📊 Best F1: {max(f1s):.4f} at threshold {best_thresh:.2f}\")\n",
    "print(f\"✅ AUC: {roc_auc_score(y_val, y_val_prob):.4f}\")\n",
    "print(f\"✅ Accuracy: {accuracy_score(y_val, y_val_prob > 0.5):.4f}\")\n"
   ]
  },
  {
   "cell_type": "code",
   "execution_count": 98,
   "id": "eea0ff6b",
   "metadata": {},
   "outputs": [
    {
     "name": "stdout",
     "output_type": "stream",
     "text": [
      "✅ Saved XGBoost validation probabilities to probs_xgb.pkl\n"
     ]
    }
   ],
   "source": [
    "import pickle\n",
    "\n",
    "# Save XGBoost probabilities on validation set\n",
    "with open(\"probs_xgb.pkl\", \"wb\") as f:\n",
    "    pickle.dump(y_val_prob, f)\n",
    "\n",
    "print(\"✅ Saved XGBoost validation probabilities to probs_xgb.pkl\")\n"
   ]
  },
  {
   "cell_type": "code",
   "execution_count": 99,
   "id": "55abc32c",
   "metadata": {},
   "outputs": [],
   "source": [
    "joblib.dump(xgb_model, \"xgb_model.pkl\")\n",
    "with open(\"xgb_thresh.pkl\", \"wb\") as f:\n",
    "    pickle.dump(best_thresh, f)\n"
   ]
  },
  {
   "cell_type": "markdown",
   "id": "ccb233a9",
   "metadata": {},
   "source": [
    "# ***LSTM***"
   ]
  },
  {
   "cell_type": "code",
   "execution_count": 100,
   "id": "c87777b6",
   "metadata": {},
   "outputs": [
    {
     "name": "stderr",
     "output_type": "stream",
     "text": [
      "Epoch 01: 100%|██████████| 84/84 [00:05<00:00, 14.92it/s]\n"
     ]
    },
    {
     "name": "stdout",
     "output_type": "stream",
     "text": [
      "Loss: 2.4681 | Acc: 0.9373 | AUC: 0.8806 | F1@best_thresh: 0.3793 | Prec: 0.3006 | Rec: 0.5140\n"
     ]
    },
    {
     "name": "stderr",
     "output_type": "stream",
     "text": [
      "Epoch 02: 100%|██████████| 84/84 [00:03<00:00, 26.20it/s]\n"
     ]
    },
    {
     "name": "stdout",
     "output_type": "stream",
     "text": [
      "Loss: 1.9610 | Acc: 0.9367 | AUC: 0.8918 | F1@best_thresh: 0.3958 | Prec: 0.2864 | Rec: 0.6406\n"
     ]
    },
    {
     "name": "stderr",
     "output_type": "stream",
     "text": [
      "Epoch 03: 100%|██████████| 84/84 [00:03<00:00, 25.24it/s]\n"
     ]
    },
    {
     "name": "stdout",
     "output_type": "stream",
     "text": [
      "Loss: 1.8896 | Acc: 0.9366 | AUC: 0.9000 | F1@best_thresh: 0.4248 | Prec: 0.3591 | Rec: 0.5199\n"
     ]
    },
    {
     "name": "stderr",
     "output_type": "stream",
     "text": [
      "Epoch 04: 100%|██████████| 84/84 [00:03<00:00, 25.99it/s]\n"
     ]
    },
    {
     "name": "stdout",
     "output_type": "stream",
     "text": [
      "Loss: 1.8483 | Acc: 0.9366 | AUC: 0.9004 | F1@best_thresh: 0.4123 | Prec: 0.3107 | Rec: 0.6127\n"
     ]
    },
    {
     "name": "stderr",
     "output_type": "stream",
     "text": [
      "Epoch 05: 100%|██████████| 84/84 [00:03<00:00, 26.22it/s]\n"
     ]
    },
    {
     "name": "stdout",
     "output_type": "stream",
     "text": [
      "Loss: 1.7906 | Acc: 0.9372 | AUC: 0.9056 | F1@best_thresh: 0.4269 | Prec: 0.3301 | Rec: 0.6038\n"
     ]
    },
    {
     "name": "stderr",
     "output_type": "stream",
     "text": [
      "Epoch 06: 100%|██████████| 84/84 [00:04<00:00, 18.35it/s]\n"
     ]
    },
    {
     "name": "stdout",
     "output_type": "stream",
     "text": [
      "Loss: 1.7304 | Acc: 0.9368 | AUC: 0.9063 | F1@best_thresh: 0.4407 | Prec: 0.3316 | Rec: 0.6568\n"
     ]
    },
    {
     "name": "stderr",
     "output_type": "stream",
     "text": [
      "Epoch 07: 100%|██████████| 84/84 [00:05<00:00, 16.55it/s]\n"
     ]
    },
    {
     "name": "stdout",
     "output_type": "stream",
     "text": [
      "Loss: 1.6983 | Acc: 0.9380 | AUC: 0.9049 | F1@best_thresh: 0.4328 | Prec: 0.3609 | Rec: 0.5405\n"
     ]
    },
    {
     "name": "stderr",
     "output_type": "stream",
     "text": [
      "Epoch 08: 100%|██████████| 84/84 [00:04<00:00, 17.27it/s]\n"
     ]
    },
    {
     "name": "stdout",
     "output_type": "stream",
     "text": [
      "Loss: 1.7234 | Acc: 0.9365 | AUC: 0.8994 | F1@best_thresh: 0.4137 | Prec: 0.3539 | Rec: 0.4978\n"
     ]
    },
    {
     "name": "stderr",
     "output_type": "stream",
     "text": [
      "Epoch 09: 100%|██████████| 84/84 [00:05<00:00, 16.71it/s]\n"
     ]
    },
    {
     "name": "stdout",
     "output_type": "stream",
     "text": [
      "Loss: 1.6676 | Acc: 0.9374 | AUC: 0.9086 | F1@best_thresh: 0.4491 | Prec: 0.3669 | Rec: 0.5788\n"
     ]
    },
    {
     "name": "stderr",
     "output_type": "stream",
     "text": [
      "Epoch 10: 100%|██████████| 84/84 [00:04<00:00, 17.56it/s]\n"
     ]
    },
    {
     "name": "stdout",
     "output_type": "stream",
     "text": [
      "Loss: 1.6404 | Acc: 0.9368 | AUC: 0.9072 | F1@best_thresh: 0.4451 | Prec: 0.3582 | Rec: 0.5876\n"
     ]
    },
    {
     "name": "stderr",
     "output_type": "stream",
     "text": [
      "Epoch 11: 100%|██████████| 84/84 [00:04<00:00, 18.30it/s]\n"
     ]
    },
    {
     "name": "stdout",
     "output_type": "stream",
     "text": [
      "Loss: 1.6335 | Acc: 0.9371 | AUC: 0.9111 | F1@best_thresh: 0.4478 | Prec: 0.3891 | Rec: 0.5272\n"
     ]
    },
    {
     "name": "stderr",
     "output_type": "stream",
     "text": [
      "Epoch 12: 100%|██████████| 84/84 [00:04<00:00, 17.90it/s]\n"
     ]
    },
    {
     "name": "stdout",
     "output_type": "stream",
     "text": [
      "Loss: 1.6079 | Acc: 0.9357 | AUC: 0.9090 | F1@best_thresh: 0.4484 | Prec: 0.3397 | Rec: 0.6598\n"
     ]
    },
    {
     "name": "stderr",
     "output_type": "stream",
     "text": [
      "Epoch 13: 100%|██████████| 84/84 [00:04<00:00, 17.78it/s]\n"
     ]
    },
    {
     "name": "stdout",
     "output_type": "stream",
     "text": [
      "Loss: 1.5663 | Acc: 0.9363 | AUC: 0.8990 | F1@best_thresh: 0.4210 | Prec: 0.3308 | Rec: 0.5788\n"
     ]
    },
    {
     "name": "stderr",
     "output_type": "stream",
     "text": [
      "Epoch 14: 100%|██████████| 84/84 [00:04<00:00, 18.63it/s]\n"
     ]
    },
    {
     "name": "stdout",
     "output_type": "stream",
     "text": [
      "Loss: 1.5592 | Acc: 0.9363 | AUC: 0.9116 | F1@best_thresh: 0.4606 | Prec: 0.3542 | Rec: 0.6583\n"
     ]
    },
    {
     "name": "stderr",
     "output_type": "stream",
     "text": [
      "Epoch 15: 100%|██████████| 84/84 [00:04<00:00, 17.68it/s]\n"
     ]
    },
    {
     "name": "stdout",
     "output_type": "stream",
     "text": [
      "Loss: 1.5681 | Acc: 0.9377 | AUC: 0.9098 | F1@best_thresh: 0.4613 | Prec: 0.3815 | Rec: 0.5832\n"
     ]
    },
    {
     "name": "stderr",
     "output_type": "stream",
     "text": [
      "Epoch 16: 100%|██████████| 84/84 [00:04<00:00, 18.28it/s]\n"
     ]
    },
    {
     "name": "stdout",
     "output_type": "stream",
     "text": [
      "Loss: 1.4958 | Acc: 0.9395 | AUC: 0.9084 | F1@best_thresh: 0.4594 | Prec: 0.3541 | Rec: 0.6539\n"
     ]
    },
    {
     "name": "stderr",
     "output_type": "stream",
     "text": [
      "Epoch 17: 100%|██████████| 84/84 [00:04<00:00, 17.81it/s]\n"
     ]
    },
    {
     "name": "stdout",
     "output_type": "stream",
     "text": [
      "Loss: 1.4070 | Acc: 0.9388 | AUC: 0.9067 | F1@best_thresh: 0.4567 | Prec: 0.3561 | Rec: 0.6362\n"
     ]
    },
    {
     "name": "stderr",
     "output_type": "stream",
     "text": [
      "Epoch 18: 100%|██████████| 84/84 [00:04<00:00, 18.53it/s]\n"
     ]
    },
    {
     "name": "stdout",
     "output_type": "stream",
     "text": [
      "Loss: 1.4603 | Acc: 0.9390 | AUC: 0.9078 | F1@best_thresh: 0.4567 | Prec: 0.3429 | Rec: 0.6834\n"
     ]
    },
    {
     "name": "stderr",
     "output_type": "stream",
     "text": [
      "Epoch 19: 100%|██████████| 84/84 [00:04<00:00, 18.71it/s]\n"
     ]
    },
    {
     "name": "stdout",
     "output_type": "stream",
     "text": [
      "Loss: 1.5437 | Acc: 0.9389 | AUC: 0.9070 | F1@best_thresh: 0.4617 | Prec: 0.3586 | Rec: 0.6480\n"
     ]
    },
    {
     "name": "stderr",
     "output_type": "stream",
     "text": [
      "Epoch 20: 100%|██████████| 84/84 [00:04<00:00, 17.50it/s]\n"
     ]
    },
    {
     "name": "stdout",
     "output_type": "stream",
     "text": [
      "Loss: 1.4060 | Acc: 0.9366 | AUC: 0.9006 | F1@best_thresh: 0.4655 | Prec: 0.3742 | Rec: 0.6156\n",
      "\n",
      "✅ Best F1-score: 0.4655 at epoch 20, threshold = 0.39\n"
     ]
    },
    {
     "data": {
      "image/png": "[encoded data removed]",
      "text/plain": [
       "<Figure size 640x480 with 2 Axes>"
      ]
     },
     "metadata": {},
     "output_type": "display_data"
    },
    {
     "data": {
      "image/png": "[encoded data removed]",
      "text/plain": [
       "<Figure size 640x480 with 1 Axes>"
      ]
     },
     "metadata": {},
     "output_type": "display_data"
    },
    {
     "name": "stdout",
     "output_type": "stream",
     "text": [
      "✅ Saved LSTM probabilities as probs_lstm.pkl\n"
     ]
    }
   ],
   "source": [
    "import torch\n",
    "import torch.nn as nn\n",
    "import numpy as np\n",
    "from sklearn.metrics import accuracy_score, f1_score, roc_auc_score, precision_score, recall_score, confusion_matrix\n",
    "from tqdm import tqdm\n",
    "import pickle\n",
    "import matplotlib.pyplot as plt\n",
    "import seaborn as sns\n",
    "\n",
    "device = torch.device(\"cuda\" if torch.cuda.is_available() else \"cpu\")\n",
    "\n",
    "# ==== Compute class imbalance weights for FocalLoss ====\n",
    "n_pos = (y_train == 1).sum()\n",
    "n_neg = (y_train == 0).sum()\n",
    "alpha_0 = n_neg / (n_pos + n_neg)  # class 0\n",
    "alpha_1 = n_pos / (n_pos + n_neg)  # class 1\n",
    "alpha = torch.tensor([alpha_0, alpha_1], dtype=torch.float32).to(device)\n",
    "\n",
    "# ==== Model, Loss, Optimizer, Scheduler ====\n",
    "model = ImprovedLSTM(input_size=X_train_ready.shape[2]).to(device)\n",
    "criterion = FocalLoss(alpha=alpha, gamma=2)\n",
    "optimizer = torch.optim.Adam(model.parameters(), lr=0.001)\n",
    "scheduler = torch.optim.lr_scheduler.ReduceLROnPlateau(optimizer, mode='max', factor=0.5, patience=3)\n",
    "\n",
    "# ==== Training Loop ====\n",
    "def train_model(train_loader, val_loader, model, criterion, optimizer, scheduler, max_epochs=20, patience=5):\n",
    "    def evaluate(model, dataloader):\n",
    "        model.eval()\n",
    "        y_true, y_prob = [], []\n",
    "        with torch.no_grad():\n",
    "            for X_batch, y_batch in dataloader:\n",
    "                X_batch = X_batch.to(device)\n",
    "                logits = model(X_batch)\n",
    "                probs = torch.sigmoid(logits).cpu().numpy()\n",
    "                y_prob.extend(probs)\n",
    "                y_true.extend(y_batch.numpy())\n",
    "        return np.array(y_true), np.array(y_prob)\n",
    "\n",
    "    best_f1, best_epoch, no_improve = 0, 0, 0\n",
    "    best_thresh = 0.5\n",
    "    all_metrics = {}\n",
    "\n",
    "    for epoch in range(1, max_epochs + 1):\n",
    "        model.train()\n",
    "        total_loss = 0\n",
    "        for X_batch, y_batch in tqdm(train_loader, desc=f\"Epoch {epoch:02d}\"):\n",
    "            X_batch = X_batch.to(device)\n",
    "            y_batch = y_batch.to(device)\n",
    "\n",
    "            optimizer.zero_grad()\n",
    "            logits = model(X_batch)\n",
    "            loss = criterion(logits, y_batch)\n",
    "            loss.backward()\n",
    "            optimizer.step()\n",
    "            total_loss += loss.item()\n",
    "\n",
    "        # === Validation evaluation ===\n",
    "        y_true, y_prob = evaluate(model, val_loader)\n",
    "        thresholds = np.linspace(0.1, 0.9, 81)\n",
    "        f1_scores = [f1_score(y_true, y_prob > t) for t in thresholds]\n",
    "        current_best_thresh = thresholds[np.argmax(f1_scores)]\n",
    "        current_f1 = max(f1_scores)\n",
    "        acc = accuracy_score(y_true, y_prob > 0.5)\n",
    "        auc = roc_auc_score(y_true, y_prob)\n",
    "        prec = precision_score(y_true, y_prob > current_best_thresh)\n",
    "        rec = recall_score(y_true, y_prob > current_best_thresh)\n",
    "\n",
    "        scheduler.step(current_f1)\n",
    "\n",
    "        print(f\"Loss: {total_loss:.4f} | Acc: {acc:.4f} | AUC: {auc:.4f} | F1@best_thresh: {current_f1:.4f} | Prec: {prec:.4f} | Rec: {rec:.4f}\")\n",
    "\n",
    "        # Save best model\n",
    "        if current_f1 > best_f1:\n",
    "            best_f1 = current_f1\n",
    "            best_thresh = current_best_thresh\n",
    "            best_epoch = epoch\n",
    "            no_improve = 0\n",
    "            torch.save(model.state_dict(), \"best_model_lstm.pth\")\n",
    "            with open(\"best_thresh.pkl\", \"wb\") as f:\n",
    "                pickle.dump(best_thresh, f)\n",
    "            all_metrics = {\n",
    "                'y_true': y_true,\n",
    "                'y_prob': y_prob,\n",
    "                'best_thresh': best_thresh\n",
    "            }\n",
    "        else:\n",
    "            no_improve += 1\n",
    "\n",
    "        if no_improve >= patience:\n",
    "            print(f\"⏹️ Early stopping at epoch {epoch}\")\n",
    "            break\n",
    "\n",
    "    print(f\"\\n✅ Best F1-score: {best_f1:.4f} at epoch {best_epoch}, threshold = {best_thresh:.2f}\")\n",
    "    return model, best_thresh, all_metrics\n",
    "\n",
    "# === Train ===\n",
    "trained_model, best_threshold, all_metrics = train_model(\n",
    "    train_loader, val_loader,\n",
    "    model, criterion, optimizer, scheduler,\n",
    "    max_epochs=20, patience=5\n",
    ")\n",
    "\n",
    "# === Final evaluation ===\n",
    "y_true = all_metrics['y_true']\n",
    "y_prob = all_metrics['y_prob']\n",
    "best_thresh = all_metrics['best_thresh']\n",
    "y_pred = (y_prob > best_thresh).astype(int)\n",
    "\n",
    "# === Confusion Matrix ===\n",
    "cm = confusion_matrix(y_true, y_pred)\n",
    "sns.heatmap(cm, annot=True, fmt='d', cmap='Blues')\n",
    "plt.title(\"Confusion Matrix\")\n",
    "plt.xlabel(\"Predicted\")\n",
    "plt.ylabel(\"True\")\n",
    "plt.show()\n",
    "\n",
    "# === Plot F1 vs threshold ===\n",
    "thresholds = np.linspace(0.1, 0.9, 81)\n",
    "f1s = [f1_score(y_true, y_prob > t) for t in thresholds]\n",
    "plt.plot(thresholds, f1s)\n",
    "plt.axvline(best_thresh, color='r', linestyle='--', label=f'Best Thresh = {best_thresh:.2f}')\n",
    "plt.title(\"F1 Score vs Threshold\")\n",
    "plt.xlabel(\"Threshold\")\n",
    "plt.ylabel(\"F1 Score\")\n",
    "plt.legend()\n",
    "plt.grid()\n",
    "plt.show()\n",
    "\n",
    "\n",
    "# === Save LSTM probs for fusion ===\n",
    "with open(\"probs_lstm.pkl\", \"wb\") as f:\n",
    "    pickle.dump(y_prob, f)\n",
    "print(\"✅ Saved LSTM probabilities as probs_lstm.pkl\")\n"
   ]
  },
  {
   "cell_type": "code",
   "execution_count": null,
   "id": "0c50bbe3",
   "metadata": {},
   "outputs": [],
   "source": []
  },
  {
   "cell_type": "markdown",
   "id": "ff90b3c7",
   "metadata": {},
   "source": [
    "# ***CNN***"
   ]
  },
  {
   "cell_type": "code",
   "execution_count": 101,
   "id": "1b2c3f0d",
   "metadata": {},
   "outputs": [],
   "source": [
    "import torch\n",
    "import torch.nn as nn\n",
    "import torch.nn.functional as F\n",
    "\n",
    "class TimeSeriesCNN(nn.Module):\n",
    "    def __init__(self, input_size, num_filters=64, kernel_size=3, dropout=0.3):\n",
    "        super(TimeSeriesCNN, self).__init__()\n",
    "\n",
    "        self.conv1 = nn.Conv1d(in_channels=input_size, out_channels=num_filters, kernel_size=kernel_size, padding=1)\n",
    "        self.bn1 = nn.BatchNorm1d(num_filters)\n",
    "\n",
    "        self.conv2 = nn.Conv1d(in_channels=num_filters, out_channels=num_filters, kernel_size=kernel_size, padding=1)\n",
    "        self.bn2 = nn.BatchNorm1d(num_filters)\n",
    "\n",
    "        self.global_pool = nn.AdaptiveAvgPool1d(1)\n",
    "        self.dropout = nn.Dropout(dropout)\n",
    "\n",
    "        self.head = nn.Sequential(\n",
    "            nn.Linear(num_filters, 128),\n",
    "            nn.ReLU(),\n",
    "            nn.Dropout(dropout),\n",
    "            nn.Linear(128, 1)\n",
    "        )\n",
    "\n",
    "    def forward(self, x):\n",
    "        # x shape: (batch, time, features)\n",
    "        x = x.permute(0, 2, 1)  # → (batch, features, time)\n",
    "        x = F.relu(self.bn1(self.conv1(x)))\n",
    "        x = F.relu(self.bn2(self.conv2(x)))\n",
    "        x = self.global_pool(x).squeeze(-1)  # → (batch, num_filters)\n",
    "        x = self.dropout(x)\n",
    "        logits = self.head(x)\n",
    "        return logits.squeeze()\n"
   ]
  },
  {
   "cell_type": "code",
   "execution_count": 102,
   "id": "f6770976",
   "metadata": {},
   "outputs": [
    {
     "name": "stderr",
     "output_type": "stream",
     "text": [
      "Epoch 01: 100%|██████████| 84/84 [00:01<00:00, 60.29it/s]\n"
     ]
    },
    {
     "name": "stdout",
     "output_type": "stream",
     "text": [
      "Loss: 2.5948 | Acc: 0.9367 | AUC: 0.8866 | F1: 0.3849 | Prec: 0.3036 | Rec: 0.5258\n"
     ]
    },
    {
     "name": "stderr",
     "output_type": "stream",
     "text": [
      "Epoch 02: 100%|██████████| 84/84 [00:00<00:00, 121.23it/s]\n"
     ]
    },
    {
     "name": "stdout",
     "output_type": "stream",
     "text": [
      "Loss: 1.9841 | Acc: 0.9367 | AUC: 0.9006 | F1: 0.4219 | Prec: 0.3282 | Rec: 0.5906\n"
     ]
    },
    {
     "name": "stderr",
     "output_type": "stream",
     "text": [
      "Epoch 03: 100%|██████████| 84/84 [00:00<00:00, 125.40it/s]\n"
     ]
    },
    {
     "name": "stdout",
     "output_type": "stream",
     "text": [
      "Loss: 1.8658 | Acc: 0.9368 | AUC: 0.8958 | F1: 0.4070 | Prec: 0.3044 | Rec: 0.6141\n"
     ]
    },
    {
     "name": "stderr",
     "output_type": "stream",
     "text": [
      "Epoch 04: 100%|██████████| 84/84 [00:00<00:00, 129.15it/s]\n"
     ]
    },
    {
     "name": "stdout",
     "output_type": "stream",
     "text": [
      "Loss: 1.8520 | Acc: 0.9371 | AUC: 0.8969 | F1: 0.4214 | Prec: 0.3289 | Rec: 0.5862\n"
     ]
    },
    {
     "name": "stderr",
     "output_type": "stream",
     "text": [
      "Epoch 05: 100%|██████████| 84/84 [00:00<00:00, 123.98it/s]\n"
     ]
    },
    {
     "name": "stdout",
     "output_type": "stream",
     "text": [
      "Loss: 1.8604 | Acc: 0.9367 | AUC: 0.9037 | F1: 0.4269 | Prec: 0.3223 | Rec: 0.6318\n"
     ]
    },
    {
     "name": "stderr",
     "output_type": "stream",
     "text": [
      "Epoch 06: 100%|██████████| 84/84 [00:00<00:00, 112.27it/s]\n"
     ]
    },
    {
     "name": "stdout",
     "output_type": "stream",
     "text": [
      "Loss: 1.7707 | Acc: 0.9368 | AUC: 0.9053 | F1: 0.4259 | Prec: 0.3747 | Rec: 0.4934\n"
     ]
    },
    {
     "name": "stderr",
     "output_type": "stream",
     "text": [
      "Epoch 07: 100%|██████████| 84/84 [00:00<00:00, 129.22it/s]\n"
     ]
    },
    {
     "name": "stdout",
     "output_type": "stream",
     "text": [
      "Loss: 1.7463 | Acc: 0.9369 | AUC: 0.9052 | F1: 0.4289 | Prec: 0.3494 | Rec: 0.5552\n"
     ]
    },
    {
     "name": "stderr",
     "output_type": "stream",
     "text": [
      "Epoch 08: 100%|██████████| 84/84 [00:00<00:00, 127.72it/s]\n"
     ]
    },
    {
     "name": "stdout",
     "output_type": "stream",
     "text": [
      "Loss: 1.7281 | Acc: 0.9389 | AUC: 0.9076 | F1: 0.4257 | Prec: 0.4010 | Rec: 0.4536\n"
     ]
    },
    {
     "name": "stderr",
     "output_type": "stream",
     "text": [
      "Epoch 09: 100%|██████████| 84/84 [00:00<00:00, 126.35it/s]\n"
     ]
    },
    {
     "name": "stdout",
     "output_type": "stream",
     "text": [
      "Loss: 1.7896 | Acc: 0.9377 | AUC: 0.9106 | F1: 0.4363 | Prec: 0.3315 | Rec: 0.6377\n"
     ]
    },
    {
     "name": "stderr",
     "output_type": "stream",
     "text": [
      "Epoch 10: 100%|██████████| 84/84 [00:00<00:00, 123.16it/s]\n"
     ]
    },
    {
     "name": "stdout",
     "output_type": "stream",
     "text": [
      "Loss: 1.7099 | Acc: 0.9390 | AUC: 0.9086 | F1: 0.4405 | Prec: 0.3472 | Rec: 0.6024\n"
     ]
    },
    {
     "name": "stderr",
     "output_type": "stream",
     "text": [
      "Epoch 11: 100%|██████████| 84/84 [00:00<00:00, 127.38it/s]\n"
     ]
    },
    {
     "name": "stdout",
     "output_type": "stream",
     "text": [
      "Loss: 1.7118 | Acc: 0.9371 | AUC: 0.9090 | F1: 0.4487 | Prec: 0.3575 | Rec: 0.6024\n"
     ]
    },
    {
     "name": "stderr",
     "output_type": "stream",
     "text": [
      "Epoch 12: 100%|██████████| 84/84 [00:00<00:00, 126.21it/s]\n"
     ]
    },
    {
     "name": "stdout",
     "output_type": "stream",
     "text": [
      "Loss: 1.6816 | Acc: 0.9399 | AUC: 0.9084 | F1: 0.4412 | Prec: 0.4230 | Rec: 0.4610\n"
     ]
    },
    {
     "name": "stderr",
     "output_type": "stream",
     "text": [
      "Epoch 13: 100%|██████████| 84/84 [00:00<00:00, 130.09it/s]\n"
     ]
    },
    {
     "name": "stdout",
     "output_type": "stream",
     "text": [
      "Loss: 1.7495 | Acc: 0.9372 | AUC: 0.9086 | F1: 0.4455 | Prec: 0.3827 | Rec: 0.5331\n"
     ]
    },
    {
     "name": "stderr",
     "output_type": "stream",
     "text": [
      "Epoch 14: 100%|██████████| 84/84 [00:00<00:00, 113.08it/s]\n"
     ]
    },
    {
     "name": "stdout",
     "output_type": "stream",
     "text": [
      "Loss: 1.6666 | Acc: 0.9380 | AUC: 0.9099 | F1: 0.4452 | Prec: 0.3623 | Rec: 0.5773\n"
     ]
    },
    {
     "name": "stderr",
     "output_type": "stream",
     "text": [
      "Epoch 15: 100%|██████████| 84/84 [00:00<00:00, 124.04it/s]\n"
     ]
    },
    {
     "name": "stdout",
     "output_type": "stream",
     "text": [
      "Loss: 1.6774 | Acc: 0.9398 | AUC: 0.9081 | F1: 0.4594 | Prec: 0.3862 | Rec: 0.5670\n"
     ]
    },
    {
     "name": "stderr",
     "output_type": "stream",
     "text": [
      "Epoch 16: 100%|██████████| 84/84 [00:00<00:00, 127.81it/s]\n"
     ]
    },
    {
     "name": "stdout",
     "output_type": "stream",
     "text": [
      "Loss: 1.6136 | Acc: 0.9394 | AUC: 0.9064 | F1: 0.4426 | Prec: 0.3726 | Rec: 0.5449\n"
     ]
    },
    {
     "name": "stderr",
     "output_type": "stream",
     "text": [
      "Epoch 17: 100%|██████████| 84/84 [00:00<00:00, 125.35it/s]\n"
     ]
    },
    {
     "name": "stdout",
     "output_type": "stream",
     "text": [
      "Loss: 1.6929 | Acc: 0.9397 | AUC: 0.9078 | F1: 0.4387 | Prec: 0.3904 | Rec: 0.5007\n"
     ]
    },
    {
     "name": "stderr",
     "output_type": "stream",
     "text": [
      "Epoch 18: 100%|██████████| 84/84 [00:00<00:00, 119.83it/s]\n"
     ]
    },
    {
     "name": "stdout",
     "output_type": "stream",
     "text": [
      "Loss: 1.6711 | Acc: 0.9368 | AUC: 0.9082 | F1: 0.4414 | Prec: 0.3812 | Rec: 0.5243\n"
     ]
    },
    {
     "name": "stderr",
     "output_type": "stream",
     "text": [
      "Epoch 19: 100%|██████████| 84/84 [00:00<00:00, 128.81it/s]\n"
     ]
    },
    {
     "name": "stdout",
     "output_type": "stream",
     "text": [
      "Loss: 1.6242 | Acc: 0.9404 | AUC: 0.9100 | F1: 0.4561 | Prec: 0.3546 | Rec: 0.6392\n"
     ]
    },
    {
     "name": "stderr",
     "output_type": "stream",
     "text": [
      "Epoch 20: 100%|██████████| 84/84 [00:00<00:00, 128.72it/s]\n"
     ]
    },
    {
     "name": "stdout",
     "output_type": "stream",
     "text": [
      "Loss: 1.5761 | Acc: 0.9400 | AUC: 0.9087 | F1: 0.4474 | Prec: 0.3695 | Rec: 0.5670\n",
      "⏹️ Early stopping at epoch 20\n",
      "\n",
      "✅ Best F1-score: 0.4594 at epoch 15 | Best threshold: 0.40\n"
     ]
    }
   ],
   "source": [
    "\n",
    "# === CNN Training Function ===\n",
    "def train_model(train_loader, val_loader, y_train):\n",
    "    model = TimeSeriesCNN(input_size=X_train_ready.shape[2]).to(device)\n",
    "\n",
    "    # Class imbalance handling for focal loss\n",
    "    n_pos = (y_train == 1).sum()\n",
    "    n_neg = (y_train == 0).sum()\n",
    "    alpha = torch.tensor([\n",
    "        n_neg / (n_pos + n_neg),\n",
    "        n_pos / (n_pos + n_neg)\n",
    "    ], dtype=torch.float32).to(device)\n",
    "\n",
    "    criterion = FocalLoss(alpha=alpha, gamma=2)\n",
    "    optimizer = torch.optim.Adam(model.parameters(), lr=0.001)\n",
    "    scheduler = torch.optim.lr_scheduler.ReduceLROnPlateau(optimizer, mode='max', factor=0.5, patience=3)\n",
    "\n",
    "    def evaluate(model, dataloader):\n",
    "        model.eval()\n",
    "        y_true, y_prob = [], []\n",
    "        with torch.no_grad():\n",
    "            for X_batch, y_batch in dataloader:\n",
    "                X_batch = X_batch.to(device)\n",
    "                logits = model(X_batch)\n",
    "                probs = torch.sigmoid(logits).cpu().numpy()\n",
    "                y_prob.extend(probs)\n",
    "                y_true.extend(y_batch.numpy())\n",
    "        return np.array(y_true), np.array(y_prob)\n",
    "\n",
    "    best_f1, best_epoch, best_thresh = 0, 0, 0.5\n",
    "    no_improve = 0\n",
    "    patience = 5\n",
    "    probs_cnn = None\n",
    "\n",
    "    for epoch in range(1, 31):\n",
    "        model.train()\n",
    "        total_loss = 0\n",
    "        for X_batch, y_batch in tqdm(train_loader, desc=f\"Epoch {epoch:02d}\"):\n",
    "            X_batch = X_batch.to(device)\n",
    "            y_batch = y_batch.to(device)\n",
    "            optimizer.zero_grad()\n",
    "            logits = model(X_batch)\n",
    "            loss = criterion(logits, y_batch)\n",
    "            loss.backward()\n",
    "            optimizer.step()\n",
    "            total_loss += loss.item()\n",
    "\n",
    "        # Evaluate\n",
    "        y_true, y_prob = evaluate(model, val_loader)\n",
    "        thresholds = np.linspace(0.1, 0.9, 81)\n",
    "        f1s = [f1_score(y_true, y_prob > t) for t in thresholds]\n",
    "        current_thresh = thresholds[np.argmax(f1s)]\n",
    "        current_f1 = max(f1s)\n",
    "        acc = accuracy_score(y_true, y_prob > 0.5)\n",
    "        auc = roc_auc_score(y_true, y_prob)\n",
    "        prec = precision_score(y_true, y_prob > current_thresh)\n",
    "        rec = recall_score(y_true, y_prob > current_thresh)\n",
    "\n",
    "        print(f\"Loss: {total_loss:.4f} | Acc: {acc:.4f} | AUC: {auc:.4f} | F1: {current_f1:.4f} | Prec: {prec:.4f} | Rec: {rec:.4f}\")\n",
    "\n",
    "        # Save best\n",
    "        if current_f1 > best_f1:\n",
    "            best_f1 = current_f1\n",
    "            best_thresh = current_thresh\n",
    "            best_epoch = epoch\n",
    "            no_improve = 0\n",
    "            probs_cnn = y_prob\n",
    "            torch.save(model.state_dict(), \"best_model_cnn.pth\")\n",
    "            with open(\"best_thresh_cnn.pkl\", \"wb\") as f:\n",
    "                pickle.dump(best_thresh, f)\n",
    "        else:\n",
    "            no_improve += 1\n",
    "\n",
    "        scheduler.step(current_f1)\n",
    "\n",
    "        if no_improve >= patience:\n",
    "            print(f\"⏹️ Early stopping at epoch {epoch}\")\n",
    "            break\n",
    "\n",
    "    print(f\"\\n✅ Best F1-score: {best_f1:.4f} at epoch {best_epoch} | Best threshold: {best_thresh:.2f}\")\n",
    "    return model, best_thresh, probs_cnn\n",
    "\n",
    "trained_cnn, threshold_cnn, probs_cnn = train_model(train_loader, val_loader, y_train)\n"
   ]
  },
  {
   "cell_type": "markdown",
   "id": "51757369",
   "metadata": {},
   "source": [
    "# ***fusion***"
   ]
  },
  {
   "cell_type": "code",
   "execution_count": 103,
   "id": "e0248dff",
   "metadata": {},
   "outputs": [],
   "source": [
    "with open(\"probs_lstm.pkl\", \"rb\") as f:\n",
    "    probs_lstm = pickle.load(f)\n"
   ]
  },
  {
   "cell_type": "code",
   "execution_count": 104,
   "id": "f6936702",
   "metadata": {},
   "outputs": [
    {
     "name": "stdout",
     "output_type": "stream",
     "text": [
      "🎯 Best F1 Score:     0.4887\n",
      "📈 Best AUC:          0.9214\n",
      "🎯 Best Precision:    0.3855\n",
      "⚖️  Best weights -> LSTM: 0.20 | CNN: 0.24 | XGB: 0.56\n",
      "📏 Best threshold:    0.60\n",
      "✅ Saved fusion_weights.pkl and fusion_thresh.pkl\n"
     ]
    }
   ],
   "source": [
    "import numpy as np\n",
    "import pickle\n",
    "from sklearn.metrics import f1_score\n",
    "import numpy as np\n",
    "import pickle\n",
    "from sklearn.metrics import f1_score, precision_score, roc_auc_score\n",
    "\n",
    "# Charger les probabilités de validation\n",
    "with open(\"probs_lstm.pkl\", \"rb\") as f:\n",
    "    probs_lstm = pickle.load(f)\n",
    "\n",
    "with open(\"probs_xgb.pkl\", \"rb\") as f:\n",
    "    probs_xgb = pickle.load(f)\n",
    "\n",
    "y_true = y_val\n",
    "#Recherche des meilleurs poids et seuil\n",
    "thresholds = np.linspace(0.1, 0.9, 81)\n",
    "best_f1 = 0\n",
    "best_w = (1/3, 1/3, 1/3)\n",
    "best_thresh = 0.5\n",
    "best_auc = 0\n",
    "best_precision = 0\n",
    "\n",
    "for w_lstm in np.linspace(0, 1, 11):\n",
    "    for w_cnn in np.linspace(0, 1 - w_lstm, 11):\n",
    "        w_xgb = 1.0 - w_lstm - w_cnn\n",
    "        if w_xgb < 0 or w_xgb > 1:\n",
    "            continue\n",
    "\n",
    "        fused_probs = (\n",
    "            w_lstm * probs_lstm +\n",
    "            w_cnn * probs_cnn +\n",
    "            w_xgb * probs_xgb\n",
    "        )\n",
    "\n",
    "        for t in thresholds:\n",
    "            preds = (fused_probs > t).astype(int)\n",
    "            f1 = f1_score(y_true, preds)\n",
    "            precision = precision_score(y_true, preds, zero_division=0)\n",
    "            try:\n",
    "                auc = roc_auc_score(y_true, fused_probs)\n",
    "            except ValueError:\n",
    "                auc = 0.0  # In case y_true contains only one class\n",
    "\n",
    "            if f1 > best_f1:\n",
    "                best_f1 = f1\n",
    "                best_auc = auc\n",
    "                best_precision = precision\n",
    "                best_w = (w_lstm, w_cnn, w_xgb)\n",
    "                best_thresh = t\n",
    "\n",
    "# Résultats\n",
    "print(f\"🎯 Best F1 Score:     {best_f1:.4f}\")\n",
    "print(f\"📈 Best AUC:          {best_auc:.4f}\")\n",
    "print(f\"🎯 Best Precision:    {best_precision:.4f}\")\n",
    "print(f\"⚖️  Best weights -> LSTM: {best_w[0]:.2f} | CNN: {best_w[1]:.2f} | XGB: {best_w[2]:.2f}\")\n",
    "print(f\"📏 Best threshold:    {best_thresh:.2f}\")\n",
    "\n",
    "# Sauvegarde\n",
    "with open(\"fusion_weights.pkl\", \"wb\") as f:\n",
    "    pickle.dump(best_w, f)\n",
    "\n",
    "with open(\"fusion_thresh.pkl\", \"wb\") as f:\n",
    "    pickle.dump(best_thresh, f)\n",
    "\n",
    "print(\"✅ Saved fusion_weights.pkl and fusion_thresh.pkl\")"
   ]
  },
  {
   "cell_type": "code",
   "execution_count": 105,
   "id": "916a63ca",
   "metadata": {},
   "outputs": [
    {
     "name": "stdout",
     "output_type": "stream",
     "text": [
      "✅ Submission saved as final_submission.csv\n"
     ]
    }
   ],
   "source": [
    "import torch\n",
    "import torch.nn as nn\n",
    "import numpy as np\n",
    "import pandas as pd\n",
    "import joblib\n",
    "import pickle\n",
    "from torch.utils.data import Dataset, DataLoader\n",
    "from xgboost import XGBClassifier\n",
    "\n",
    "# ==== Load preprocessing artifacts ====\n",
    "scaler = joblib.load(\"scaler.pkl\")\n",
    "\n",
    "with open(\"fusion_weights.pkl\", \"rb\") as f:\n",
    "    best_w = pickle.load(f)  # (w_lstm, w_cnn, w_xgb)\n",
    "\n",
    "with open(\"fusion_thresh.pkl\", \"rb\") as f:\n",
    "    best_thresh = pickle.load(f)\n",
    "\n",
    "# ==== Load and preprocess test data ====\n",
    "data_test = np.load(\"evaluation_data.npz\", allow_pickle=True)\n",
    "X_test = np.array(data_test[\"data\"], dtype=np.float32)\n",
    "\n",
    "# Load training stats (from memory or reload)\n",
    "global_means = np.nanmean(X_train, axis=(0, 1))\n",
    "clip_means = np.mean(X_train_filled, axis=(0, 1))\n",
    "clip_stds = np.std(X_train_filled, axis=(0, 1))\n",
    "# Apply the same column selection to X_test\n",
    "\n",
    "\n",
    "X_test_ready = apply_pipeline_to_val(X_test, global_means, scaler, clip_means, clip_stds)\n",
    "\n",
    "# ==== Prepare PyTorch loader for LSTM and CNN ====\n",
    "class TestDataset(Dataset):\n",
    "    def __init__(self, X):\n",
    "        self.X = torch.tensor(X, dtype=torch.float32)\n",
    "    def __len__(self):\n",
    "        return len(self.X)\n",
    "    def __getitem__(self, idx):\n",
    "        return self.X[idx]\n",
    "\n",
    "test_loader = DataLoader(TestDataset(X_test_ready), batch_size=64)\n",
    "device = torch.device(\"cuda\" if torch.cuda.is_available() else \"cpu\")\n",
    "\n",
    "# ==== Load LSTM ====\n",
    "model_lstm = ImprovedLSTM(input_size=X_test_ready.shape[2]).to(device)\n",
    "model_lstm.load_state_dict(torch.load(\"best_model_lstm.pth\"))\n",
    "model_lstm.eval()\n",
    "\n",
    "# ==== Load CNN ====\n",
    "model_cnn = TimeSeriesCNN(input_size=X_test_ready.shape[2]).to(device)\n",
    "model_cnn.load_state_dict(torch.load(\"best_model_cnn.pth\"))\n",
    "model_cnn.eval()\n",
    "\n",
    "# ==== Predict LSTM & CNN ====\n",
    "probs_lstm, probs_cnn = [], []\n",
    "\n",
    "with torch.no_grad():\n",
    "    for X_batch in test_loader:\n",
    "        X_batch = X_batch.to(device)\n",
    "\n",
    "        out_lstm = model_lstm(X_batch)\n",
    "        out_cnn = model_cnn(X_batch)\n",
    "\n",
    "        probs_lstm.extend(torch.sigmoid(out_lstm).cpu().numpy())\n",
    "        probs_cnn.extend(torch.sigmoid(out_cnn).cpu().numpy())\n",
    "\n",
    "probs_lstm = np.array(probs_lstm).flatten()\n",
    "probs_cnn = np.array(probs_cnn).flatten()\n",
    "\n",
    "# ==== Predict XGBoost ====\n",
    "# ➤ Flatten features over time\n",
    "X_test_xgb = X_test_ready.reshape(X_test_ready.shape[0], -1)\n",
    "\n",
    "# ➤ Load trained model\n",
    "xgb_model = pickle.load(open(\"xgb_model.pkl\", \"rb\"))\n",
    "\n",
    "# ➤ Get probabilities\n",
    "probs_xgb = xgb_model.predict_proba(X_test_xgb)[:, 1]\n",
    "\n",
    "# ==== Weighted fusion ====\n",
    "w_lstm, w_cnn, w_xgb = best_w\n",
    "probs_fused = w_lstm * probs_lstm + w_cnn * probs_cnn + w_xgb * probs_xgb\n",
    "\n",
    "# ==== Final prediction ====\n",
    "y_test_pred = (probs_fused > best_thresh).astype(int)\n",
    "\n",
    "# ==== Save CSV ====\n",
    "submission = pd.DataFrame({\n",
    "    \"Id\": np.arange(len(y_test_pred)),\n",
    "    \"Label\": y_test_pred\n",
    "})\n",
    "submission.to_csv(\"final_submission.csv\", index=False)\n",
    "print(\"✅ Submission saved as final_submission.csv\")\n"
   ]
  },
  {
   "cell_type": "code",
   "execution_count": null,
   "id": "97038667",
   "metadata": {},
   "outputs": [],
   "source": []
  },
  {
   "cell_type": "code",
   "execution_count": null,
   "id": "06d635c6",
   "metadata": {},
   "outputs": [],
   "source": []
  }
 ],
 "metadata": {
  "kernelspec": {
   "display_name": ".venv",
   "language": "python",
   "name": "python3"
  },
  "language_info": {
   "codemirror_mode": {
    "name": "ipython",
    "version": 3
   },
   "file_extension": ".py",
   "mimetype": "text/x-python",
   "name": "python",
   "nbconvert_exporter": "python",
   "pygments_lexer": "ipython3",
   "version": "3.10.3"
  }
 },
 "nbformat": 4,
 "nbformat_minor": 5
}

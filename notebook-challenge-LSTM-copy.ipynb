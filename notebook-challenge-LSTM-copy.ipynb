{
 "cells": [
  {
   "cell_type": "code",
   "execution_count": 76,
   "id": "5ccdb521",
   "metadata": {},
   "outputs": [],
   "source": [
    "import numpy as np\n",
    "import pandas as pd\n",
    "import matplotlib.pyplot as plt\n",
    "import seaborn as sns\n",
    "\n",
    "# === 1. Charger les données ===\n",
    "data = np.load(\"training_data.npz\", allow_pickle=True)\n",
    "X = np.array(data[\"data\"], dtype=np.float32)  # conversion importante !\n",
    "feature_labels = data[\"feature_labels\"]\n",
    "\n",
    "# Charger les labels\n",
    "y = pd.read_csv(\"training_labels.csv\")\n",
    "y = y.iloc[:, 0].values "
   ]
  },
  {
   "cell_type": "code",
   "execution_count": 77,
   "id": "3107cd64",
   "metadata": {},
   "outputs": [],
   "source": [
    "from sklearn.model_selection import train_test_split\n",
    "\n",
    "# Split the raw X and y (before any imputation or scaler)\n",
    "X_train, X_val, y_train, y_val = train_test_split(\n",
    "    X, y, test_size=0.2, random_state=42, stratify=y\n",
    ")\n"
   ]
  },
  {
   "cell_type": "code",
   "execution_count": 78,
   "id": "6c00c5e7",
   "metadata": {},
   "outputs": [
    {
     "data": {
      "text/plain": [
       "(42921, 12, 231)"
      ]
     },
     "execution_count": 78,
     "metadata": {},
     "output_type": "execute_result"
    }
   ],
   "source": [
    "import numpy as np\n",
    "from sklearn.preprocessing import StandardScaler\n",
    "\n",
    "def interpolate_or_fill(X, global_means):\n",
    "    n, t, f = X.shape\n",
    "    X_filled = np.empty_like(X)\n",
    "    for j in range(f):\n",
    "        for i in range(n):\n",
    "            series = X[i, :, j]\n",
    "            if np.isnan(series).all():\n",
    "                X_filled[i, :, j] = global_means[j]\n",
    "            else:\n",
    "                x = np.arange(t)\n",
    "                mask = ~np.isnan(series)\n",
    "                X_filled[i, :, j] = np.interp(x, x[mask], series[mask])\n",
    "    return X_filled\n",
    "\n",
    "# Compute global means from TRAIN only\n",
    "global_means = np.nanmean(X_train, axis=(0, 1))\n",
    "\n",
    "# Apply same method to all sets using train's global means\n",
    "X_train_filled = interpolate_or_fill(X_train, global_means)\n",
    "X_val_filled   = interpolate_or_fill(X_val, global_means)\n",
    "\n",
    "\n",
    "\n",
    "\n",
    "\n",
    "X_train_clip = X_train_filled.copy()\n",
    "X_val_clip   = X_val_filled.copy()\n",
    "\n",
    "n, t, f = X_train.shape\n",
    "for j in range(f):\n",
    "    mean = np.mean(X_train_clip[:, :, j])\n",
    "    std  = np.std(X_train_clip[:, :, j])\n",
    "    lower, upper = mean - 5 * std, mean + 5 * std\n",
    "    X_train_clip[:, :, j] = np.clip(X_train_clip[:, :, j], lower, upper)\n",
    "    X_val_clip[:, :, j]   = np.clip(X_val_clip[:, :, j], lower, upper)  # use same bounds\n",
    "\n",
    "from sklearn.preprocessing import StandardScaler\n",
    "\n",
    "scaler = StandardScaler()\n",
    "X_train_flat = X_train_clip.reshape(-1, f)\n",
    "scaler.fit(X_train_flat)\n",
    "\n",
    "# Apply\n",
    "X_train_scaled = scaler.transform(X_train_flat).reshape(X_train_clip.shape)\n",
    "X_val_scaled   = scaler.transform(X_val_clip.reshape(-1, f)).reshape(X_val_clip.shape)\n",
    "\n",
    "# Save scaler\n",
    "import joblib\n",
    "joblib.dump(scaler, 'scaler.pkl')\n",
    "\n",
    "\n",
    "def add_deltas(X_scaled):\n",
    "    X_deltas = X_scaled[:, 1:, :] - X_scaled[:, :-1, :]\n",
    "    zero_pad = np.zeros((X_scaled.shape[0], 1, X_scaled.shape[2]))\n",
    "    X_deltas = np.concatenate([zero_pad, X_deltas], axis=1)\n",
    "    return np.concatenate([X_scaled, X_deltas], axis=2)\n",
    "\n",
    "X_train_scaled = add_deltas(X_train_scaled)  # shape: (n, t, 2f)\n",
    "X_val_scaled   = add_deltas(X_val_scaled)\n",
    "\n",
    "\n",
    "\n",
    "X_train_mask = (~np.isnan(X_train)).astype(np.float32)\n",
    "\n",
    "\n",
    "X_train_ready = np.concatenate([X_train_scaled, X_train_mask], axis=2)  # shape: (n, t, 3f)\n",
    "\n",
    "\n",
    "X_train_ready.shape"
   ]
  },
  {
   "cell_type": "code",
   "execution_count": 79,
   "id": "7eec71a2",
   "metadata": {},
   "outputs": [
    {
     "data": {
      "text/plain": [
       "(10731, 12, 231)"
      ]
     },
     "execution_count": 79,
     "metadata": {},
     "output_type": "execute_result"
    }
   ],
   "source": [
    "import numpy as np\n",
    "\n",
    "def apply_pipeline_to_val(X_val_raw, global_means, scaler, clip_means, clip_stds):\n",
    "    \"\"\"\n",
    "    Applies interpolation, clipping, scaling, delta features, and masking to validation data.\n",
    "    \n",
    "    Parameters:\n",
    "        X_val_raw     : np.ndarray, shape (n, t, f)\n",
    "        global_means  : np.ndarray, shape (f,)\n",
    "        scaler        : fitted sklearn StandardScaler\n",
    "        clip_means    : np.ndarray, shape (f,), mean from train\n",
    "        clip_stds     : np.ndarray, shape (f,), std from train\n",
    "    \n",
    "    Returns:\n",
    "        X_val_ready   : np.ndarray, shape (n, t, 3f)\n",
    "    \"\"\"\n",
    "\n",
    "    # === Step 1: Interpolate ===\n",
    "    n, t, f = X_val_raw.shape\n",
    "    X_filled = np.empty_like(X_val_raw)\n",
    "    for j in range(f):\n",
    "        for i in range(n):\n",
    "            series = X_val_raw[i, :, j]\n",
    "            if np.isnan(series).all():\n",
    "                X_filled[i, :, j] = global_means[j]\n",
    "            else:\n",
    "                x = np.arange(t)\n",
    "                mask = ~np.isnan(series)\n",
    "                X_filled[i, :, j] = np.interp(x, x[mask], series[mask])\n",
    "\n",
    "    # === Step 2: Clipping ===\n",
    "    for j in range(f):\n",
    "        lower = clip_means[j] - 5 * clip_stds[j]\n",
    "        upper = clip_means[j] + 5 * clip_stds[j]\n",
    "        X_filled[:, :, j] = np.clip(X_filled[:, :, j], lower, upper)\n",
    "\n",
    "    # === Step 3: Scaling ===\n",
    "    X_flat = X_filled.reshape(-1, f)\n",
    "    X_scaled_flat = scaler.transform(X_flat)\n",
    "    X_scaled = X_scaled_flat.reshape(n, t, f)\n",
    "\n",
    "    # === Step 4: Delta features ===\n",
    "    X_deltas = X_scaled[:, 1:, :] - X_scaled[:, :-1, :]\n",
    "    zero_pad = np.zeros((n, 1, f))\n",
    "    X_deltas = np.concatenate([zero_pad, X_deltas], axis=1)\n",
    "    X_scaled_with_deltas = np.concatenate([X_scaled, X_deltas], axis=2)\n",
    "\n",
    "    # === Step 5: Mask ===\n",
    "    X_mask = (~np.isnan(X_val_raw)).astype(np.float32)\n",
    "\n",
    "    # === Step 6: Final concat ===\n",
    "    X_val_ready = np.concatenate([X_scaled_with_deltas, X_mask], axis=2)  # shape: (n, t, 3f)\n",
    "\n",
    "    return X_val_ready\n",
    "\n",
    "\n",
    "# From training pipeline\n",
    "global_means = np.nanmean(X_train, axis=(0, 1))\n",
    "clip_means = np.mean(X_train_filled, axis=(0, 1))\n",
    "clip_stds  = np.std(X_train_filled, axis=(0, 1))\n",
    "# scaler = trained StandardScaler\n",
    "\n",
    "# Apply to val set\n",
    "X_val_ready = apply_pipeline_to_val(X_val, global_means, scaler, clip_means, clip_stds)\n",
    "X_val_ready.shape"
   ]
  },
  {
   "cell_type": "code",
   "execution_count": 81,
   "id": "a4f3b50e",
   "metadata": {},
   "outputs": [],
   "source": [
    "from torch.utils.data import Sampler\n",
    "import random\n",
    "import numpy as np\n",
    "\n",
    "class BalancedBatchSampler(Sampler):\n",
    "    def __init__(self, labels, batch_size):\n",
    "        self.labels = np.array(labels)\n",
    "        self.batch_size = batch_size\n",
    "        self.pos_indices = np.where(self.labels == 1)[0].tolist()\n",
    "        self.neg_indices = np.where(self.labels == 0)[0].tolist()\n",
    "        self.batch_half = batch_size // 2\n",
    "\n",
    "    def __iter__(self):\n",
    "        # Shuffle both positive and negative indices each epoch\n",
    "        random.shuffle(self.pos_indices)\n",
    "        random.shuffle(self.neg_indices)\n",
    "\n",
    "        pos_iter = iter(self.pos_indices)\n",
    "        neg_iter = iter(self.neg_indices)\n",
    "\n",
    "        while True:\n",
    "            try:\n",
    "                pos_batch = [next(pos_iter) for _ in range(self.batch_half)]\n",
    "                neg_batch = [next(neg_iter) for _ in range(self.batch_half)]\n",
    "                batch = pos_batch + neg_batch\n",
    "                random.shuffle(batch)\n",
    "                yield batch\n",
    "            except StopIteration:\n",
    "                break\n",
    "\n",
    "    def __len__(self):\n",
    "        return min(len(self.pos_indices), len(self.neg_indices)) // self.batch_half\n"
   ]
  },
  {
   "cell_type": "code",
   "execution_count": 82,
   "id": "eefb6d34",
   "metadata": {},
   "outputs": [],
   "source": [
    "import torch\n",
    "from torch.utils.data import Dataset, DataLoader\n",
    "from sklearn.model_selection import train_test_split\n",
    "\n",
    "\n",
    "\n",
    "# Custom Dataset class\n",
    "class DiabetesDataset(Dataset):\n",
    "    def __init__(self, X, y):\n",
    "        # Assume X and y are NumPy arrays\n",
    "        self.X = torch.tensor(X, dtype=torch.float32)\n",
    "        self.y = torch.tensor(y, dtype=torch.float32)\n",
    "\n",
    "    def __len__(self):\n",
    "        return len(self.X)\n",
    "\n",
    "    def __getitem__(self, idx):\n",
    "        return self.X[idx], self.y[idx]\n",
    "\n",
    "# Create datasets\n",
    "train_dataset = DiabetesDataset(X_train_ready, y_train)\n",
    "train_sampler = BalancedBatchSampler(y_train, batch_size=64)\n",
    "train_loader = DataLoader(train_dataset, batch_sampler=train_sampler)\n",
    "\n",
    "val_dataset = DiabetesDataset(X_val_ready, y_val)\n",
    "\n",
    "# Create DataLoaders\n",
    "\n",
    "val_loader = DataLoader(val_dataset, batch_size=64)\n"
   ]
  },
  {
   "cell_type": "code",
   "execution_count": 83,
   "id": "38270602",
   "metadata": {},
   "outputs": [
    {
     "data": {
      "text/plain": [
       "['preprocessing.pkl']"
      ]
     },
     "execution_count": 83,
     "metadata": {},
     "output_type": "execute_result"
    }
   ],
   "source": [
    "preprocessing_artifacts = {\n",
    "    \"global_means\": global_means,\n",
    "    \"clip_means\": clip_means,\n",
    "    \"clip_stds\": clip_stds,\n",
    "    \"scaler\": scaler\n",
    "}\n",
    "joblib.dump(preprocessing_artifacts, \"preprocessing.pkl\")\n"
   ]
  },
  {
   "cell_type": "code",
   "execution_count": 84,
   "id": "b0c6d738",
   "metadata": {},
   "outputs": [],
   "source": [
    "import torch\n",
    "import torch.nn as nn\n",
    "import torch.nn.functional as F\n",
    "\n",
    "class ImprovedLSTM(nn.Module):\n",
    "    def __init__(self, input_size=231, hidden_size=128, num_layers=2, dropout=0.4, bidirectional=True):\n",
    "        super(ImprovedLSTM, self).__init__()\n",
    "        self.hidden_size = hidden_size\n",
    "        self.num_directions = 2 if bidirectional else 1\n",
    "\n",
    "        # LSTM layer\n",
    "        self.lstm = nn.LSTM(\n",
    "            input_size=input_size,\n",
    "            hidden_size=hidden_size,\n",
    "            num_layers=num_layers,\n",
    "            dropout=dropout,\n",
    "            batch_first=True,\n",
    "            bidirectional=bidirectional\n",
    "        )\n",
    "\n",
    "        # Attention mechanism\n",
    "        self.attn_fc = nn.Linear(hidden_size * self.num_directions, 1)\n",
    "\n",
    "        # Layer normalization after attention\n",
    "        self.norm = nn.LayerNorm(hidden_size * self.num_directions)\n",
    "\n",
    "        # Classification head\n",
    "        self.head = nn.Sequential(\n",
    "            nn.Linear(hidden_size * self.num_directions, 128),\n",
    "            nn.ReLU(),\n",
    "            nn.Dropout(dropout),\n",
    "            nn.Linear(128, 1)  # Binary classification\n",
    "        )\n",
    "\n",
    "    def forward(self, x):\n",
    "        # LSTM output\n",
    "        lstm_out, _ = self.lstm(x)  # lstm_out: (batch, seq_len, hidden_size * num_directions)\n",
    "\n",
    "        # Attention scores (before softmax)\n",
    "        attn_scores = self.attn_fc(lstm_out).squeeze(-1)  # (batch, seq_len)\n",
    "        attn_weights = F.softmax(attn_scores, dim=1)      # (batch, seq_len)\n",
    "\n",
    "        # Weighted sum (context vector)\n",
    "        context = torch.sum(lstm_out * attn_weights.unsqueeze(-1), dim=1)  # (batch, hidden_size * num_directions)\n",
    "\n",
    "        # Normalize and pass to classifier\n",
    "        context = self.norm(context)\n",
    "        logits = self.head(context)\n",
    "\n",
    "        return logits.squeeze()  # (batch,)\n"
   ]
  },
  {
   "cell_type": "code",
   "execution_count": 85,
   "id": "2588bda5",
   "metadata": {},
   "outputs": [],
   "source": [
    "import torch\n",
    "import torch.nn as nn\n",
    "\n",
    "class FocalLoss(nn.Module):\n",
    "    def __init__(self, alpha=None, gamma=2, reduction='mean'):\n",
    "        \"\"\"\n",
    "        alpha: float or list/tuple of two floats. Weighting factor for class imbalance.\n",
    "               If float, same alpha applied to both classes.\n",
    "               If list/tuple: [alpha_for_0, alpha_for_1]\n",
    "        \"\"\"\n",
    "        super(FocalLoss, self).__init__()\n",
    "        self.gamma = gamma\n",
    "        self.reduction = reduction\n",
    "        self.alpha = torch.tensor(alpha) if isinstance(alpha, (list, tuple)) else alpha\n",
    "\n",
    "    def forward(self, inputs, targets):\n",
    "        # Clamp probabilities for numerical stability\n",
    "        probas = torch.sigmoid(inputs).clamp(min=1e-6, max=1 - 1e-6)\n",
    "        bce_loss = nn.functional.binary_cross_entropy_with_logits(inputs, targets, reduction='none')\n",
    "\n",
    "        pt = probas * targets + (1 - probas) * (1 - targets)  # pt = p_t\n",
    "        focal_term = (1 - pt) ** self.gamma\n",
    "\n",
    "        if isinstance(self.alpha, torch.Tensor):\n",
    "            alpha = self.alpha.to(inputs.device)\n",
    "            alpha_t = alpha[1] * targets + alpha[0] * (1 - targets)\n",
    "        else:\n",
    "            alpha_t = self.alpha if self.alpha is not None else 1.0\n",
    "\n",
    "        loss = alpha_t * focal_term * bce_loss\n",
    "\n",
    "        if self.reduction == 'mean':\n",
    "            return loss.mean()\n"
   ]
  },
  {
   "cell_type": "code",
   "execution_count": 88,
   "id": "7811a14b",
   "metadata": {},
   "outputs": [
    {
     "name": "stdout",
     "output_type": "stream",
     "text": [
      "📊 Positive samples: 2714, Negative samples: 40207\n",
      "⚖️ Using pos_weight = 14.8147\n"
     ]
    }
   ],
   "source": [
    "import torch\n",
    "\n",
    "# Count positives and negatives in training set\n",
    "n_pos = (y_train == 1).sum()\n",
    "n_neg = (y_train == 0).sum()\n",
    "\n",
    "# Compute pos_weight: how much more to weigh the positive class\n",
    "pos_weight_value = n_neg / n_pos\n",
    "pos_weight = torch.tensor([pos_weight_value], dtype=torch.float32)\n",
    "\n",
    "print(f\"📊 Positive samples: {n_pos}, Negative samples: {n_neg}\")\n",
    "print(f\"⚖️ Using pos_weight = {pos_weight.item():.4f}\")\n"
   ]
  },
  {
   "cell_type": "code",
   "execution_count": null,
   "id": "ba5089c4",
   "metadata": {},
   "outputs": [],
   "source": []
  },
  {
   "cell_type": "markdown",
   "id": "ccb233a9",
   "metadata": {},
   "source": [
    "# ***LSTM***"
   ]
  },
  {
   "cell_type": "code",
   "execution_count": 89,
   "id": "c87777b6",
   "metadata": {},
   "outputs": [
    {
     "name": "stderr",
     "output_type": "stream",
     "text": [
      "Epoch 01: 100%|██████████| 84/84 [00:03<00:00, 22.66it/s]\n"
     ]
    },
    {
     "name": "stdout",
     "output_type": "stream",
     "text": [
      "Loss: 2.4444 | Acc: 0.9350 | AUC: 0.8892 | F1@best_thresh: 0.3984 | Prec: 0.2987 | Rec: 0.5979\n"
     ]
    },
    {
     "name": "stderr",
     "output_type": "stream",
     "text": [
      "Epoch 02: 100%|██████████| 84/84 [00:03<00:00, 24.99it/s]\n"
     ]
    },
    {
     "name": "stdout",
     "output_type": "stream",
     "text": [
      "Loss: 2.0063 | Acc: 0.9366 | AUC: 0.8976 | F1@best_thresh: 0.4055 | Prec: 0.3113 | Rec: 0.5817\n"
     ]
    },
    {
     "name": "stderr",
     "output_type": "stream",
     "text": [
      "Epoch 03: 100%|██████████| 84/84 [00:03<00:00, 24.83it/s]\n"
     ]
    },
    {
     "name": "stdout",
     "output_type": "stream",
     "text": [
      "Loss: 1.9147 | Acc: 0.9368 | AUC: 0.8937 | F1@best_thresh: 0.3959 | Prec: 0.2907 | Rec: 0.6200\n"
     ]
    },
    {
     "name": "stderr",
     "output_type": "stream",
     "text": [
      "Epoch 04: 100%|██████████| 84/84 [00:03<00:00, 26.18it/s]\n"
     ]
    },
    {
     "name": "stdout",
     "output_type": "stream",
     "text": [
      "Loss: 1.8666 | Acc: 0.9361 | AUC: 0.9033 | F1@best_thresh: 0.4202 | Prec: 0.3500 | Rec: 0.5258\n"
     ]
    },
    {
     "name": "stderr",
     "output_type": "stream",
     "text": [
      "Epoch 05: 100%|██████████| 84/84 [00:04<00:00, 19.50it/s]\n"
     ]
    },
    {
     "name": "stdout",
     "output_type": "stream",
     "text": [
      "Loss: 1.7818 | Acc: 0.9375 | AUC: 0.8988 | F1@best_thresh: 0.4106 | Prec: 0.3072 | Rec: 0.6186\n"
     ]
    },
    {
     "name": "stderr",
     "output_type": "stream",
     "text": [
      "Epoch 06: 100%|██████████| 84/84 [00:05<00:00, 16.20it/s]\n"
     ]
    },
    {
     "name": "stdout",
     "output_type": "stream",
     "text": [
      "Loss: 1.7558 | Acc: 0.9378 | AUC: 0.9082 | F1@best_thresh: 0.4283 | Prec: 0.3702 | Rec: 0.5081\n"
     ]
    },
    {
     "name": "stderr",
     "output_type": "stream",
     "text": [
      "Epoch 07: 100%|██████████| 84/84 [00:05<00:00, 14.78it/s]\n"
     ]
    },
    {
     "name": "stdout",
     "output_type": "stream",
     "text": [
      "Loss: 1.7511 | Acc: 0.9372 | AUC: 0.9084 | F1@best_thresh: 0.4467 | Prec: 0.3859 | Rec: 0.5302\n"
     ]
    },
    {
     "name": "stderr",
     "output_type": "stream",
     "text": [
      "Epoch 08: 100%|██████████| 84/84 [00:05<00:00, 16.50it/s]\n"
     ]
    },
    {
     "name": "stdout",
     "output_type": "stream",
     "text": [
      "Loss: 1.6653 | Acc: 0.9372 | AUC: 0.9045 | F1@best_thresh: 0.4278 | Prec: 0.3148 | Rec: 0.6672\n"
     ]
    },
    {
     "name": "stderr",
     "output_type": "stream",
     "text": [
      "Epoch 09: 100%|██████████| 84/84 [00:04<00:00, 17.46it/s]\n"
     ]
    },
    {
     "name": "stdout",
     "output_type": "stream",
     "text": [
      "Loss: 1.7251 | Acc: 0.9370 | AUC: 0.9085 | F1@best_thresh: 0.4547 | Prec: 0.3948 | Rec: 0.5361\n"
     ]
    },
    {
     "name": "stderr",
     "output_type": "stream",
     "text": [
      "Epoch 10: 100%|██████████| 84/84 [00:04<00:00, 18.35it/s]\n"
     ]
    },
    {
     "name": "stdout",
     "output_type": "stream",
     "text": [
      "Loss: 1.6588 | Acc: 0.9393 | AUC: 0.9067 | F1@best_thresh: 0.4391 | Prec: 0.3280 | Rec: 0.6642\n"
     ]
    },
    {
     "name": "stderr",
     "output_type": "stream",
     "text": [
      "Epoch 11: 100%|██████████| 84/84 [00:04<00:00, 16.96it/s]\n"
     ]
    },
    {
     "name": "stdout",
     "output_type": "stream",
     "text": [
      "Loss: 1.6441 | Acc: 0.9393 | AUC: 0.9023 | F1@best_thresh: 0.4341 | Prec: 0.3839 | Rec: 0.4993\n"
     ]
    },
    {
     "name": "stderr",
     "output_type": "stream",
     "text": [
      "Epoch 12: 100%|██████████| 84/84 [00:05<00:00, 16.17it/s]\n"
     ]
    },
    {
     "name": "stdout",
     "output_type": "stream",
     "text": [
      "Loss: 1.6043 | Acc: 0.9372 | AUC: 0.9077 | F1@best_thresh: 0.4488 | Prec: 0.3829 | Rec: 0.5420\n"
     ]
    },
    {
     "name": "stderr",
     "output_type": "stream",
     "text": [
      "Epoch 13: 100%|██████████| 84/84 [00:04<00:00, 17.23it/s]\n"
     ]
    },
    {
     "name": "stdout",
     "output_type": "stream",
     "text": [
      "Loss: 1.5885 | Acc: 0.9396 | AUC: 0.9073 | F1@best_thresh: 0.4447 | Prec: 0.3640 | Rec: 0.5714\n"
     ]
    },
    {
     "name": "stderr",
     "output_type": "stream",
     "text": [
      "Epoch 14: 100%|██████████| 84/84 [00:04<00:00, 17.14it/s]\n"
     ]
    },
    {
     "name": "stdout",
     "output_type": "stream",
     "text": [
      "Loss: 1.5500 | Acc: 0.9391 | AUC: 0.9104 | F1@best_thresh: 0.4583 | Prec: 0.3467 | Rec: 0.6760\n"
     ]
    },
    {
     "name": "stderr",
     "output_type": "stream",
     "text": [
      "Epoch 15: 100%|██████████| 84/84 [00:05<00:00, 14.79it/s]\n"
     ]
    },
    {
     "name": "stdout",
     "output_type": "stream",
     "text": [
      "Loss: 1.4823 | Acc: 0.9389 | AUC: 0.9118 | F1@best_thresh: 0.4589 | Prec: 0.3513 | Rec: 0.6613\n"
     ]
    },
    {
     "name": "stderr",
     "output_type": "stream",
     "text": [
      "Epoch 16: 100%|██████████| 84/84 [00:05<00:00, 16.34it/s]\n"
     ]
    },
    {
     "name": "stdout",
     "output_type": "stream",
     "text": [
      "Loss: 1.4994 | Acc: 0.9395 | AUC: 0.9138 | F1@best_thresh: 0.4676 | Prec: 0.3608 | Rec: 0.6642\n"
     ]
    },
    {
     "name": "stderr",
     "output_type": "stream",
     "text": [
      "Epoch 17: 100%|██████████| 84/84 [00:05<00:00, 14.94it/s]\n"
     ]
    },
    {
     "name": "stdout",
     "output_type": "stream",
     "text": [
      "Loss: 1.4681 | Acc: 0.9368 | AUC: 0.9095 | F1@best_thresh: 0.4471 | Prec: 0.3469 | Rec: 0.6289\n"
     ]
    },
    {
     "name": "stderr",
     "output_type": "stream",
     "text": [
      "Epoch 18: 100%|██████████| 84/84 [00:05<00:00, 16.26it/s]\n"
     ]
    },
    {
     "name": "stdout",
     "output_type": "stream",
     "text": [
      "Loss: 1.5016 | Acc: 0.9385 | AUC: 0.9090 | F1@best_thresh: 0.4595 | Prec: 0.3489 | Rec: 0.6730\n"
     ]
    },
    {
     "name": "stderr",
     "output_type": "stream",
     "text": [
      "Epoch 19: 100%|██████████| 84/84 [00:04<00:00, 18.81it/s]\n"
     ]
    },
    {
     "name": "stdout",
     "output_type": "stream",
     "text": [
      "Loss: 1.4275 | Acc: 0.9391 | AUC: 0.9062 | F1@best_thresh: 0.4654 | Prec: 0.3912 | Rec: 0.5744\n"
     ]
    },
    {
     "name": "stderr",
     "output_type": "stream",
     "text": [
      "Epoch 20: 100%|██████████| 84/84 [00:04<00:00, 19.10it/s]\n"
     ]
    },
    {
     "name": "stdout",
     "output_type": "stream",
     "text": [
      "Loss: 1.4748 | Acc: 0.9397 | AUC: 0.9087 | F1@best_thresh: 0.4682 | Prec: 0.3767 | Rec: 0.6186\n",
      "\n",
      "✅ Best F1-score: 0.4682 at epoch 20, threshold = 0.40\n"
     ]
    },
    {
     "data": {
      "image/png": "[encoded data removed]",
      "text/plain": [
       "<Figure size 640x480 with 2 Axes>"
      ]
     },
     "metadata": {},
     "output_type": "display_data"
    },
    {
     "data": {
      "image/png": "[encoded data removed]",
      "text/plain": [
       "<Figure size 640x480 with 1 Axes>"
      ]
     },
     "metadata": {},
     "output_type": "display_data"
    },
    {
     "name": "stdout",
     "output_type": "stream",
     "text": [
      "✅ Saved LSTM probabilities as probs_lstm.pkl\n"
     ]
    }
   ],
   "source": [
    "import torch\n",
    "import torch.nn as nn\n",
    "import numpy as np\n",
    "from sklearn.metrics import accuracy_score, f1_score, roc_auc_score, precision_score, recall_score, confusion_matrix\n",
    "from tqdm import tqdm\n",
    "import pickle\n",
    "import matplotlib.pyplot as plt\n",
    "import seaborn as sns\n",
    "\n",
    "device = torch.device(\"cuda\" if torch.cuda.is_available() else \"cpu\")\n",
    "\n",
    "# ==== Compute class imbalance weights for FocalLoss ====\n",
    "n_pos = (y_train == 1).sum()\n",
    "n_neg = (y_train == 0).sum()\n",
    "alpha_0 = n_neg / (n_pos + n_neg)  # class 0\n",
    "alpha_1 = n_pos / (n_pos + n_neg)  # class 1\n",
    "alpha = torch.tensor([alpha_0, alpha_1], dtype=torch.float32).to(device)\n",
    "\n",
    "# ==== Model, Loss, Optimizer, Scheduler ====\n",
    "model = ImprovedLSTM(input_size=X_train_ready.shape[2]).to(device)\n",
    "criterion = FocalLoss(alpha=alpha, gamma=2)\n",
    "optimizer = torch.optim.Adam(model.parameters(), lr=0.001)\n",
    "scheduler = torch.optim.lr_scheduler.ReduceLROnPlateau(optimizer, mode='max', factor=0.5, patience=3)\n",
    "\n",
    "# ==== Training Loop ====\n",
    "def train_model(train_loader, val_loader, model, criterion, optimizer, scheduler, max_epochs=20, patience=5):\n",
    "    def evaluate(model, dataloader):\n",
    "        model.eval()\n",
    "        y_true, y_prob = [], []\n",
    "        with torch.no_grad():\n",
    "            for X_batch, y_batch in dataloader:\n",
    "                X_batch = X_batch.to(device)\n",
    "                logits = model(X_batch)\n",
    "                probs = torch.sigmoid(logits).cpu().numpy()\n",
    "                y_prob.extend(probs)\n",
    "                y_true.extend(y_batch.numpy())\n",
    "        return np.array(y_true), np.array(y_prob)\n",
    "\n",
    "    best_f1, best_epoch, no_improve = 0, 0, 0\n",
    "    best_thresh = 0.5\n",
    "    all_metrics = {}\n",
    "\n",
    "    for epoch in range(1, max_epochs + 1):\n",
    "        model.train()\n",
    "        total_loss = 0\n",
    "        for X_batch, y_batch in tqdm(train_loader, desc=f\"Epoch {epoch:02d}\"):\n",
    "            X_batch = X_batch.to(device)\n",
    "            y_batch = y_batch.to(device)\n",
    "\n",
    "            optimizer.zero_grad()\n",
    "            logits = model(X_batch)\n",
    "            loss = criterion(logits, y_batch)\n",
    "            loss.backward()\n",
    "            optimizer.step()\n",
    "            total_loss += loss.item()\n",
    "\n",
    "        # === Validation evaluation ===\n",
    "        y_true, y_prob = evaluate(model, val_loader)\n",
    "        thresholds = np.linspace(0.1, 0.9, 81)\n",
    "        f1_scores = [f1_score(y_true, y_prob > t) for t in thresholds]\n",
    "        current_best_thresh = thresholds[np.argmax(f1_scores)]\n",
    "        current_f1 = max(f1_scores)\n",
    "        acc = accuracy_score(y_true, y_prob > 0.5)\n",
    "        auc = roc_auc_score(y_true, y_prob)\n",
    "        prec = precision_score(y_true, y_prob > current_best_thresh)\n",
    "        rec = recall_score(y_true, y_prob > current_best_thresh)\n",
    "\n",
    "        scheduler.step(current_f1)\n",
    "\n",
    "        print(f\"Loss: {total_loss:.4f} | Acc: {acc:.4f} | AUC: {auc:.4f} | F1@best_thresh: {current_f1:.4f} | Prec: {prec:.4f} | Rec: {rec:.4f}\")\n",
    "\n",
    "        # Save best model\n",
    "        if current_f1 > best_f1:\n",
    "            best_f1 = current_f1\n",
    "            best_thresh = current_best_thresh\n",
    "            best_epoch = epoch\n",
    "            no_improve = 0\n",
    "            torch.save(model.state_dict(), \"best_model_lstm.pth\")\n",
    "            with open(\"best_thresh.pkl\", \"wb\") as f:\n",
    "                pickle.dump(best_thresh, f)\n",
    "            all_metrics = {\n",
    "                'y_true': y_true,\n",
    "                'y_prob': y_prob,\n",
    "                'best_thresh': best_thresh\n",
    "            }\n",
    "        else:\n",
    "            no_improve += 1\n",
    "\n",
    "        if no_improve >= patience:\n",
    "            print(f\"⏹️ Early stopping at epoch {epoch}\")\n",
    "            break\n",
    "\n",
    "    print(f\"\\n✅ Best F1-score: {best_f1:.4f} at epoch {best_epoch}, threshold = {best_thresh:.2f}\")\n",
    "    return model, best_thresh, all_metrics\n",
    "\n",
    "# === Train ===\n",
    "trained_model, best_threshold, all_metrics = train_model(\n",
    "    train_loader, val_loader,\n",
    "    model, criterion, optimizer, scheduler,\n",
    "    max_epochs=20, patience=5\n",
    ")\n",
    "\n",
    "# === Final evaluation ===\n",
    "y_true = all_metrics['y_true']\n",
    "y_prob = all_metrics['y_prob']\n",
    "best_thresh = all_metrics['best_thresh']\n",
    "y_pred = (y_prob > best_thresh).astype(int)\n",
    "\n",
    "# === Confusion Matrix ===\n",
    "cm = confusion_matrix(y_true, y_pred)\n",
    "sns.heatmap(cm, annot=True, fmt='d', cmap='Blues')\n",
    "plt.title(\"Confusion Matrix\")\n",
    "plt.xlabel(\"Predicted\")\n",
    "plt.ylabel(\"True\")\n",
    "plt.show()\n",
    "\n",
    "# === Plot F1 vs threshold ===\n",
    "thresholds = np.linspace(0.1, 0.9, 81)\n",
    "f1s = [f1_score(y_true, y_prob > t) for t in thresholds]\n",
    "plt.plot(thresholds, f1s)\n",
    "plt.axvline(best_thresh, color='r', linestyle='--', label=f'Best Thresh = {best_thresh:.2f}')\n",
    "plt.title(\"F1 Score vs Threshold\")\n",
    "plt.xlabel(\"Threshold\")\n",
    "plt.ylabel(\"F1 Score\")\n",
    "plt.legend()\n",
    "plt.grid()\n",
    "plt.show()\n",
    "\n",
    "\n",
    "# === Save LSTM probs for fusion ===\n",
    "with open(\"probs_lstm.pkl\", \"wb\") as f:\n",
    "    pickle.dump(y_prob, f)\n",
    "print(\"✅ Saved LSTM probabilities as probs_lstm.pkl\")\n"
   ]
  },
  {
   "cell_type": "code",
   "execution_count": null,
   "id": "0c50bbe3",
   "metadata": {},
   "outputs": [],
   "source": []
  },
  {
   "cell_type": "code",
   "execution_count": 71,
   "id": "90ebaf66",
   "metadata": {},
   "outputs": [
    {
     "name": "stdout",
     "output_type": "stream",
     "text": [
      "✅ Submission file saved as final_submission.csv\n"
     ]
    }
   ],
   "source": [
    "import joblib\n",
    "import pickle\n",
    "import pandas as pd\n",
    "\n",
    "# Load scaler\n",
    "scaler = joblib.load(\"scaler.pkl\")\n",
    "\n",
    "# Load best threshold\n",
    "with open(\"best_thresh.pkl\", \"rb\") as f:\n",
    "    best_thresh = pickle.load(f)\n",
    "\n",
    "\n",
    "\n",
    "data_test = np.load(\"evaluation_data.npz\", allow_pickle=True)\n",
    "X_test = np.array(data_test[\"data\"], dtype=np.float32)\n",
    "\n",
    "\n",
    "# Load preprocessing stats from training\n",
    "global_means = np.nanmean(X_train, axis=(0, 1))\n",
    "clip_means = np.mean(X_train_filled, axis=(0, 1))\n",
    "clip_stds = np.std(X_train_filled, axis=(0, 1))\n",
    "\n",
    "# Apply your validation pipeline\n",
    "X_test_ready = apply_pipeline_to_val(X_test, global_means, scaler, clip_means, clip_stds)\n",
    "\n",
    "\n",
    "\n",
    "from torch.utils.data import DataLoader, Dataset\n",
    "\n",
    "class TestDataset(Dataset):\n",
    "    def __init__(self, X):\n",
    "        self.X = torch.tensor(X, dtype=torch.float32)\n",
    "    def __len__(self):\n",
    "        return len(self.X)\n",
    "    def __getitem__(self, idx):\n",
    "        return self.X[idx]\n",
    "\n",
    "test_dataset = TestDataset(X_test_ready)\n",
    "test_loader = DataLoader(test_dataset, batch_size=64)\n",
    "\n",
    "# Reload trained model\n",
    "model = ImprovedLSTM(input_size=X_test_ready.shape[2])\n",
    "model.load_state_dict(torch.load(\"best_model_lstm.pth\"))\n",
    "model.to(device)\n",
    "model.eval()\n",
    "\n",
    "# Predict\n",
    "all_probs = []\n",
    "with torch.no_grad():\n",
    "    for X_batch in test_loader:\n",
    "        X_batch = X_batch.to(device)\n",
    "        logits = model(X_batch)\n",
    "        probs = torch.sigmoid(logits).cpu().numpy()\n",
    "        all_probs.extend(probs)\n",
    "\n",
    "# Final prediction using best threshold\n",
    "y_test_pred = (np.array(all_probs) > best_thresh).astype(int)\n",
    "\n",
    "\n",
    "\n",
    "# y_test_pred already contains binary predictions for all test samples\n",
    "submission = pd.DataFrame({\n",
    "    \"Id\": np.arange(len(y_test_pred)),\n",
    "    \"Label\": y_test_pred\n",
    "})\n",
    "\n",
    "submission.to_csv(\"final_submission.csv\", index=False)\n",
    "print(\"✅ Submission file saved as final_submission.csv\")\n",
    "\n",
    "\n"
   ]
  },
  {
   "cell_type": "markdown",
   "id": "ff90b3c7",
   "metadata": {},
   "source": [
    "# ***CNN***"
   ]
  },
  {
   "cell_type": "code",
   "execution_count": 90,
   "id": "1b2c3f0d",
   "metadata": {},
   "outputs": [],
   "source": [
    "import torch\n",
    "import torch.nn as nn\n",
    "import torch.nn.functional as F\n",
    "\n",
    "class TimeSeriesCNN(nn.Module):\n",
    "    def __init__(self, input_size, num_filters=64, kernel_size=3, dropout=0.3):\n",
    "        super(TimeSeriesCNN, self).__init__()\n",
    "\n",
    "        self.conv1 = nn.Conv1d(in_channels=input_size, out_channels=num_filters, kernel_size=kernel_size, padding=1)\n",
    "        self.bn1 = nn.BatchNorm1d(num_filters)\n",
    "\n",
    "        self.conv2 = nn.Conv1d(in_channels=num_filters, out_channels=num_filters, kernel_size=kernel_size, padding=1)\n",
    "        self.bn2 = nn.BatchNorm1d(num_filters)\n",
    "\n",
    "        self.global_pool = nn.AdaptiveAvgPool1d(1)\n",
    "        self.dropout = nn.Dropout(dropout)\n",
    "\n",
    "        self.head = nn.Sequential(\n",
    "            nn.Linear(num_filters, 128),\n",
    "            nn.ReLU(),\n",
    "            nn.Dropout(dropout),\n",
    "            nn.Linear(128, 1)\n",
    "        )\n",
    "\n",
    "    def forward(self, x):\n",
    "        # x shape: (batch, time, features)\n",
    "        x = x.permute(0, 2, 1)  # → (batch, features, time)\n",
    "        x = F.relu(self.bn1(self.conv1(x)))\n",
    "        x = F.relu(self.bn2(self.conv2(x)))\n",
    "        x = self.global_pool(x).squeeze(-1)  # → (batch, num_filters)\n",
    "        x = self.dropout(x)\n",
    "        logits = self.head(x)\n",
    "        return logits.squeeze()\n"
   ]
  },
  {
   "cell_type": "code",
   "execution_count": 91,
   "id": "f6770976",
   "metadata": {},
   "outputs": [
    {
     "name": "stderr",
     "output_type": "stream",
     "text": [
      "Epoch 01: 100%|██████████| 84/84 [00:00<00:00, 92.78it/s] \n"
     ]
    },
    {
     "name": "stdout",
     "output_type": "stream",
     "text": [
      "Loss: 2.6871 | Acc: 0.9367 | AUC: 0.8776 | F1: 0.3801 | Prec: 0.3085 | Rec: 0.4948\n"
     ]
    },
    {
     "name": "stderr",
     "output_type": "stream",
     "text": [
      "Epoch 02: 100%|██████████| 84/84 [00:00<00:00, 117.13it/s]\n"
     ]
    },
    {
     "name": "stdout",
     "output_type": "stream",
     "text": [
      "Loss: 2.0230 | Acc: 0.9366 | AUC: 0.8889 | F1: 0.3995 | Prec: 0.3280 | Rec: 0.5110\n"
     ]
    },
    {
     "name": "stderr",
     "output_type": "stream",
     "text": [
      "Epoch 03: 100%|██████████| 84/84 [00:00<00:00, 118.05it/s]\n"
     ]
    },
    {
     "name": "stdout",
     "output_type": "stream",
     "text": [
      "Loss: 1.8899 | Acc: 0.9366 | AUC: 0.9021 | F1: 0.4321 | Prec: 0.3474 | Rec: 0.5714\n"
     ]
    },
    {
     "name": "stderr",
     "output_type": "stream",
     "text": [
      "Epoch 04: 100%|██████████| 84/84 [00:00<00:00, 117.41it/s]\n"
     ]
    },
    {
     "name": "stdout",
     "output_type": "stream",
     "text": [
      "Loss: 1.8453 | Acc: 0.9375 | AUC: 0.9011 | F1: 0.4138 | Prec: 0.2976 | Rec: 0.6789\n"
     ]
    },
    {
     "name": "stderr",
     "output_type": "stream",
     "text": [
      "Epoch 05: 100%|██████████| 84/84 [00:00<00:00, 124.93it/s]\n"
     ]
    },
    {
     "name": "stdout",
     "output_type": "stream",
     "text": [
      "Loss: 1.8380 | Acc: 0.9369 | AUC: 0.9049 | F1: 0.4264 | Prec: 0.3401 | Rec: 0.5714\n"
     ]
    },
    {
     "name": "stderr",
     "output_type": "stream",
     "text": [
      "Epoch 06: 100%|██████████| 84/84 [00:00<00:00, 122.54it/s]\n"
     ]
    },
    {
     "name": "stdout",
     "output_type": "stream",
     "text": [
      "Loss: 1.8307 | Acc: 0.9367 | AUC: 0.9046 | F1: 0.4288 | Prec: 0.3774 | Rec: 0.4963\n"
     ]
    },
    {
     "name": "stderr",
     "output_type": "stream",
     "text": [
      "Epoch 07: 100%|██████████| 84/84 [00:00<00:00, 117.83it/s]\n"
     ]
    },
    {
     "name": "stdout",
     "output_type": "stream",
     "text": [
      "Loss: 1.7382 | Acc: 0.9368 | AUC: 0.9044 | F1: 0.4246 | Prec: 0.3301 | Rec: 0.5950\n"
     ]
    },
    {
     "name": "stderr",
     "output_type": "stream",
     "text": [
      "Epoch 08: 100%|██████████| 84/84 [00:00<00:00, 117.49it/s]\n"
     ]
    },
    {
     "name": "stdout",
     "output_type": "stream",
     "text": [
      "Loss: 1.7032 | Acc: 0.9387 | AUC: 0.9091 | F1: 0.4359 | Prec: 0.3296 | Rec: 0.6436\n"
     ]
    },
    {
     "name": "stderr",
     "output_type": "stream",
     "text": [
      "Epoch 09: 100%|██████████| 84/84 [00:00<00:00, 125.25it/s]\n"
     ]
    },
    {
     "name": "stdout",
     "output_type": "stream",
     "text": [
      "Loss: 1.6905 | Acc: 0.9377 | AUC: 0.9121 | F1: 0.4463 | Prec: 0.3353 | Rec: 0.6672\n"
     ]
    },
    {
     "name": "stderr",
     "output_type": "stream",
     "text": [
      "Epoch 10: 100%|██████████| 84/84 [00:00<00:00, 112.10it/s]\n"
     ]
    },
    {
     "name": "stdout",
     "output_type": "stream",
     "text": [
      "Loss: 1.6919 | Acc: 0.9373 | AUC: 0.9099 | F1: 0.4453 | Prec: 0.3289 | Rec: 0.6892\n"
     ]
    },
    {
     "name": "stderr",
     "output_type": "stream",
     "text": [
      "Epoch 11: 100%|██████████| 84/84 [00:00<00:00, 111.64it/s]\n"
     ]
    },
    {
     "name": "stdout",
     "output_type": "stream",
     "text": [
      "Loss: 1.6400 | Acc: 0.9394 | AUC: 0.9124 | F1: 0.4487 | Prec: 0.3991 | Rec: 0.5125\n"
     ]
    },
    {
     "name": "stderr",
     "output_type": "stream",
     "text": [
      "Epoch 12: 100%|██████████| 84/84 [00:00<00:00, 130.15it/s]\n"
     ]
    },
    {
     "name": "stdout",
     "output_type": "stream",
     "text": [
      "Loss: 1.6297 | Acc: 0.9380 | AUC: 0.9097 | F1: 0.4467 | Prec: 0.3575 | Rec: 0.5950\n"
     ]
    },
    {
     "name": "stderr",
     "output_type": "stream",
     "text": [
      "Epoch 13: 100%|██████████| 84/84 [00:00<00:00, 129.54it/s]\n"
     ]
    },
    {
     "name": "stdout",
     "output_type": "stream",
     "text": [
      "Loss: 1.6321 | Acc: 0.9387 | AUC: 0.9131 | F1: 0.4597 | Prec: 0.3528 | Rec: 0.6598\n"
     ]
    },
    {
     "name": "stderr",
     "output_type": "stream",
     "text": [
      "Epoch 14: 100%|██████████| 84/84 [00:00<00:00, 114.66it/s]\n"
     ]
    },
    {
     "name": "stdout",
     "output_type": "stream",
     "text": [
      "Loss: 1.6481 | Acc: 0.9388 | AUC: 0.9117 | F1: 0.4609 | Prec: 0.3816 | Rec: 0.5817\n"
     ]
    },
    {
     "name": "stderr",
     "output_type": "stream",
     "text": [
      "Epoch 15: 100%|██████████| 84/84 [00:00<00:00, 129.03it/s]\n"
     ]
    },
    {
     "name": "stdout",
     "output_type": "stream",
     "text": [
      "Loss: 1.6352 | Acc: 0.9386 | AUC: 0.9143 | F1: 0.4658 | Prec: 0.3565 | Rec: 0.6716\n"
     ]
    },
    {
     "name": "stderr",
     "output_type": "stream",
     "text": [
      "Epoch 16: 100%|██████████| 84/84 [00:00<00:00, 126.12it/s]\n"
     ]
    },
    {
     "name": "stdout",
     "output_type": "stream",
     "text": [
      "Loss: 1.6325 | Acc: 0.9395 | AUC: 0.9115 | F1: 0.4649 | Prec: 0.4022 | Rec: 0.5508\n"
     ]
    },
    {
     "name": "stderr",
     "output_type": "stream",
     "text": [
      "Epoch 17: 100%|██████████| 84/84 [00:00<00:00, 123.06it/s]\n"
     ]
    },
    {
     "name": "stdout",
     "output_type": "stream",
     "text": [
      "Loss: 1.6379 | Acc: 0.9392 | AUC: 0.9144 | F1: 0.4530 | Prec: 0.3603 | Rec: 0.6097\n"
     ]
    },
    {
     "name": "stderr",
     "output_type": "stream",
     "text": [
      "Epoch 18: 100%|██████████| 84/84 [00:00<00:00, 104.46it/s]\n"
     ]
    },
    {
     "name": "stdout",
     "output_type": "stream",
     "text": [
      "Loss: 1.6117 | Acc: 0.9390 | AUC: 0.9125 | F1: 0.4622 | Prec: 0.3989 | Rec: 0.5493\n"
     ]
    },
    {
     "name": "stderr",
     "output_type": "stream",
     "text": [
      "Epoch 19: 100%|██████████| 84/84 [00:00<00:00, 132.73it/s]\n"
     ]
    },
    {
     "name": "stdout",
     "output_type": "stream",
     "text": [
      "Loss: 1.6062 | Acc: 0.9395 | AUC: 0.9163 | F1: 0.4683 | Prec: 0.4280 | Rec: 0.5169\n"
     ]
    },
    {
     "name": "stderr",
     "output_type": "stream",
     "text": [
      "Epoch 20: 100%|██████████| 84/84 [00:00<00:00, 126.12it/s]\n"
     ]
    },
    {
     "name": "stdout",
     "output_type": "stream",
     "text": [
      "Loss: 1.6324 | Acc: 0.9406 | AUC: 0.9150 | F1: 0.4731 | Prec: 0.3792 | Rec: 0.6289\n"
     ]
    },
    {
     "name": "stderr",
     "output_type": "stream",
     "text": [
      "Epoch 21: 100%|██████████| 84/84 [00:00<00:00, 129.36it/s]\n"
     ]
    },
    {
     "name": "stdout",
     "output_type": "stream",
     "text": [
      "Loss: 1.5957 | Acc: 0.9405 | AUC: 0.9141 | F1: 0.4570 | Prec: 0.3681 | Rec: 0.6024\n"
     ]
    },
    {
     "name": "stderr",
     "output_type": "stream",
     "text": [
      "Epoch 22: 100%|██████████| 84/84 [00:00<00:00, 111.83it/s]\n"
     ]
    },
    {
     "name": "stdout",
     "output_type": "stream",
     "text": [
      "Loss: 1.5879 | Acc: 0.9391 | AUC: 0.9145 | F1: 0.4704 | Prec: 0.3726 | Rec: 0.6377\n"
     ]
    },
    {
     "name": "stderr",
     "output_type": "stream",
     "text": [
      "Epoch 23: 100%|██████████| 84/84 [00:00<00:00, 128.61it/s]\n"
     ]
    },
    {
     "name": "stdout",
     "output_type": "stream",
     "text": [
      "Loss: 1.5623 | Acc: 0.9410 | AUC: 0.9160 | F1: 0.4722 | Prec: 0.3974 | Rec: 0.5817\n"
     ]
    },
    {
     "name": "stderr",
     "output_type": "stream",
     "text": [
      "Epoch 24: 100%|██████████| 84/84 [00:00<00:00, 129.34it/s]\n"
     ]
    },
    {
     "name": "stdout",
     "output_type": "stream",
     "text": [
      "Loss: 1.6062 | Acc: 0.9406 | AUC: 0.9117 | F1: 0.4573 | Prec: 0.3697 | Rec: 0.5994\n"
     ]
    },
    {
     "name": "stderr",
     "output_type": "stream",
     "text": [
      "Epoch 25: 100%|██████████| 84/84 [00:00<00:00, 120.17it/s]\n"
     ]
    },
    {
     "name": "stdout",
     "output_type": "stream",
     "text": [
      "Loss: 1.5509 | Acc: 0.9410 | AUC: 0.9133 | F1: 0.4708 | Prec: 0.3737 | Rec: 0.6362\n",
      "⏹️ Early stopping at epoch 25\n",
      "\n",
      "✅ Best F1-score: 0.4731 at epoch 20 | Best threshold: 0.41\n"
     ]
    }
   ],
   "source": [
    "\n",
    "# === CNN Training Function ===\n",
    "def train_model(train_loader, val_loader, y_train):\n",
    "    model = TimeSeriesCNN(input_size=X_train_ready.shape[2]).to(device)\n",
    "\n",
    "    # Class imbalance handling for focal loss\n",
    "    n_pos = (y_train == 1).sum()\n",
    "    n_neg = (y_train == 0).sum()\n",
    "    alpha = torch.tensor([\n",
    "        n_neg / (n_pos + n_neg),\n",
    "        n_pos / (n_pos + n_neg)\n",
    "    ], dtype=torch.float32).to(device)\n",
    "\n",
    "    criterion = FocalLoss(alpha=alpha, gamma=2)\n",
    "    optimizer = torch.optim.Adam(model.parameters(), lr=0.001)\n",
    "    scheduler = torch.optim.lr_scheduler.ReduceLROnPlateau(optimizer, mode='max', factor=0.5, patience=3)\n",
    "\n",
    "    def evaluate(model, dataloader):\n",
    "        model.eval()\n",
    "        y_true, y_prob = [], []\n",
    "        with torch.no_grad():\n",
    "            for X_batch, y_batch in dataloader:\n",
    "                X_batch = X_batch.to(device)\n",
    "                logits = model(X_batch)\n",
    "                probs = torch.sigmoid(logits).cpu().numpy()\n",
    "                y_prob.extend(probs)\n",
    "                y_true.extend(y_batch.numpy())\n",
    "        return np.array(y_true), np.array(y_prob)\n",
    "\n",
    "    best_f1, best_epoch, best_thresh = 0, 0, 0.5\n",
    "    no_improve = 0\n",
    "    patience = 5\n",
    "    probs_cnn = None\n",
    "\n",
    "    for epoch in range(1, 31):\n",
    "        model.train()\n",
    "        total_loss = 0\n",
    "        for X_batch, y_batch in tqdm(train_loader, desc=f\"Epoch {epoch:02d}\"):\n",
    "            X_batch = X_batch.to(device)\n",
    "            y_batch = y_batch.to(device)\n",
    "            optimizer.zero_grad()\n",
    "            logits = model(X_batch)\n",
    "            loss = criterion(logits, y_batch)\n",
    "            loss.backward()\n",
    "            optimizer.step()\n",
    "            total_loss += loss.item()\n",
    "\n",
    "        # Evaluate\n",
    "        y_true, y_prob = evaluate(model, val_loader)\n",
    "        thresholds = np.linspace(0.1, 0.9, 81)\n",
    "        f1s = [f1_score(y_true, y_prob > t) for t in thresholds]\n",
    "        current_thresh = thresholds[np.argmax(f1s)]\n",
    "        current_f1 = max(f1s)\n",
    "        acc = accuracy_score(y_true, y_prob > 0.5)\n",
    "        auc = roc_auc_score(y_true, y_prob)\n",
    "        prec = precision_score(y_true, y_prob > current_thresh)\n",
    "        rec = recall_score(y_true, y_prob > current_thresh)\n",
    "\n",
    "        print(f\"Loss: {total_loss:.4f} | Acc: {acc:.4f} | AUC: {auc:.4f} | F1: {current_f1:.4f} | Prec: {prec:.4f} | Rec: {rec:.4f}\")\n",
    "\n",
    "        # Save best\n",
    "        if current_f1 > best_f1:\n",
    "            best_f1 = current_f1\n",
    "            best_thresh = current_thresh\n",
    "            best_epoch = epoch\n",
    "            no_improve = 0\n",
    "            probs_cnn = y_prob\n",
    "            torch.save(model.state_dict(), \"best_model_cnn.pth\")\n",
    "            with open(\"best_thresh_cnn.pkl\", \"wb\") as f:\n",
    "                pickle.dump(best_thresh, f)\n",
    "        else:\n",
    "            no_improve += 1\n",
    "\n",
    "        scheduler.step(current_f1)\n",
    "\n",
    "        if no_improve >= patience:\n",
    "            print(f\"⏹️ Early stopping at epoch {epoch}\")\n",
    "            break\n",
    "\n",
    "    print(f\"\\n✅ Best F1-score: {best_f1:.4f} at epoch {best_epoch} | Best threshold: {best_thresh:.2f}\")\n",
    "    return model, best_thresh, probs_cnn\n",
    "\n",
    "trained_cnn, threshold_cnn, probs_cnn = train_model(train_loader, val_loader, y_train)\n"
   ]
  },
  {
   "cell_type": "markdown",
   "id": "51757369",
   "metadata": {},
   "source": [
    "# ***fusion***"
   ]
  },
  {
   "cell_type": "code",
   "execution_count": 92,
   "id": "e0248dff",
   "metadata": {},
   "outputs": [],
   "source": [
    "with open(\"probs_lstm.pkl\", \"rb\") as f:\n",
    "    probs_lstm = pickle.load(f)\n"
   ]
  },
  {
   "cell_type": "code",
   "execution_count": 95,
   "id": "f6936702",
   "metadata": {},
   "outputs": [
    {
     "name": "stdout",
     "output_type": "stream",
     "text": [
      "🎯 Best F1: 0.4794\n",
      "⚖️  Best weights -> LSTM: 0.30 | CNN: 0.70\n",
      "📏 Best threshold: 0.41\n",
      "✅ Saved fusion_weights.pkl and fusion_thresh.pkl\n"
     ]
    }
   ],
   "source": [
    "import numpy as np\n",
    "import pickle\n",
    "from sklearn.metrics import f1_score\n",
    "\n",
    "\n",
    "\n",
    "# === Search for best fusion weights and threshold ===\n",
    "thresholds = np.linspace(0.1, 0.9, 81)\n",
    "best_f1 = 0\n",
    "best_w = (0.5, 0.5)\n",
    "best_thresh = 0.5\n",
    "\n",
    "for w in np.linspace(0, 1, 21):\n",
    "    fused_probs = w * probs_lstm + (1 - w) * probs_cnn\n",
    "    f1s = [f1_score(y_true, fused_probs > t) for t in thresholds]\n",
    "    max_f1 = max(f1s)\n",
    "    if max_f1 > best_f1:\n",
    "        best_f1 = max_f1\n",
    "        best_w = (w, 1 - w)\n",
    "        best_thresh = thresholds[np.argmax(f1s)]\n",
    "\n",
    "print(f\"🎯 Best F1: {best_f1:.4f}\")\n",
    "print(f\"⚖️  Best weights -> LSTM: {best_w[0]:.2f} | CNN: {best_w[1]:.2f}\")\n",
    "print(f\"📏 Best threshold: {best_thresh:.2f}\")\n",
    "\n",
    "\n",
    "# 💾 Save the best weights and threshold\n",
    "with open(\"fusion_weights.pkl\", \"wb\") as f:\n",
    "    pickle.dump(best_w, f)\n",
    "\n",
    "with open(\"fusion_thresh.pkl\", \"wb\") as f:\n",
    "    pickle.dump(best_thresh, f)\n",
    "\n",
    "print(\"✅ Saved fusion_weights.pkl and fusion_thresh.pkl\")\n",
    "\n"
   ]
  },
  {
   "cell_type": "code",
   "execution_count": 100,
   "id": "916a63ca",
   "metadata": {},
   "outputs": [
    {
     "name": "stdout",
     "output_type": "stream",
     "text": [
      "✅ Submission saved as final_submission.csv\n"
     ]
    }
   ],
   "source": [
    "import torch\n",
    "import torch.nn as nn\n",
    "import numpy as np\n",
    "import pandas as pd\n",
    "import joblib\n",
    "import pickle\n",
    "from torch.utils.data import Dataset, DataLoader\n",
    "\n",
    "# ==== Load preprocessing artifacts ====\n",
    "scaler = joblib.load(\"scaler.pkl\")\n",
    "with open(\"fusion_weights.pkl\", \"rb\") as f:\n",
    "    best_w = pickle.load(f)  # (w_lstm, w_cnn)\n",
    "\n",
    "with open(\"fusion_thresh.pkl\", \"rb\") as f:\n",
    "    best_thresh = pickle.load(f)\n",
    "\n",
    "# ==== Load and preprocess test data ====\n",
    "data_test = np.load(\"evaluation_data.npz\", allow_pickle=True)\n",
    "X_test = np.array(data_test[\"data\"], dtype=np.float32)\n",
    "\n",
    "# Load stats from training\n",
    "global_means = np.nanmean(X_train, axis=(0, 1))\n",
    "clip_means = np.mean(X_train_filled, axis=(0, 1))\n",
    "clip_stds = np.std(X_train_filled, axis=(0, 1))\n",
    "\n",
    "# Preprocess test\n",
    "X_test_ready = apply_pipeline_to_val(X_test, global_means, scaler, clip_means, clip_stds)\n",
    "\n",
    "# ==== Torch dataset and loader ====\n",
    "class TestDataset(Dataset):\n",
    "    def __init__(self, X):\n",
    "        self.X = torch.tensor(X, dtype=torch.float32)\n",
    "    def __len__(self):\n",
    "        return len(self.X)\n",
    "    def __getitem__(self, idx):\n",
    "        return self.X[idx]\n",
    "\n",
    "test_loader = DataLoader(TestDataset(X_test_ready), batch_size=64)\n",
    "\n",
    "device = torch.device(\"cuda\" if torch.cuda.is_available() else \"cpu\")\n",
    "\n",
    "# ==== Load both models ====\n",
    "model_lstm = ImprovedLSTM(input_size=X_test_ready.shape[2]).to(device)\n",
    "model_lstm.load_state_dict(torch.load(\"best_model_lstm.pth\"))\n",
    "model_lstm.eval()\n",
    "\n",
    "model_cnn = TimeSeriesCNN(input_size=X_test_ready.shape[2]).to(device)\n",
    "model_cnn.load_state_dict(torch.load(\"best_model_cnn.pth\"))\n",
    "model_cnn.eval()\n",
    "\n",
    "# ==== Predict ====\n",
    "probs_lstm, probs_cnn = [], []\n",
    "\n",
    "with torch.no_grad():\n",
    "    for X_batch in test_loader:\n",
    "        X_batch = X_batch.to(device)\n",
    "\n",
    "        out_lstm = model_lstm(X_batch)\n",
    "        out_cnn  = model_cnn(X_batch)\n",
    "\n",
    "        probs_lstm.extend(torch.sigmoid(out_lstm).cpu().numpy())\n",
    "        probs_cnn.extend(torch.sigmoid(out_cnn).cpu().numpy())\n",
    "\n",
    "probs_lstm = np.array(probs_lstm).flatten()\n",
    "probs_cnn = np.array(probs_cnn).flatten()\n",
    "\n",
    "# ==== Weighted fusion ====\n",
    "w_lstm, w_cnn = best_w\n",
    "probs_fused = w_lstm * probs_lstm + w_cnn * probs_cnn\n",
    "\n",
    "# ==== Final prediction ====\n",
    "y_test_pred = (probs_fused > best_thresh).astype(int)\n",
    "\n",
    "# ==== Save CSV ====\n",
    "submission = pd.DataFrame({\n",
    "    \"Id\": np.arange(len(y_test_pred)),\n",
    "    \"Label\": y_test_pred\n",
    "})\n",
    "submission.to_csv(\"final_submission.csv\", index=False)\n",
    "print(\"✅ Submission saved as final_submission.csv\")\n"
   ]
  },
  {
   "cell_type": "code",
   "execution_count": null,
   "id": "9f8e6780",
   "metadata": {},
   "outputs": [],
   "source": []
  },
  {
   "cell_type": "code",
   "execution_count": null,
   "id": "377e71c1",
   "metadata": {},
   "outputs": [],
   "source": []
  }
 ],
 "metadata": {
  "kernelspec": {
   "display_name": ".venv",
   "language": "python",
   "name": "python3"
  },
  "language_info": {
   "codemirror_mode": {
    "name": "ipython",
    "version": 3
   },
   "file_extension": ".py",
   "mimetype": "text/x-python",
   "name": "python",
   "nbconvert_exporter": "python",
   "pygments_lexer": "ipython3",
   "version": "3.10.3"
  }
 },
 "nbformat": 4,
 "nbformat_minor": 5
}
